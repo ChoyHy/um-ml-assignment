{
 "cells": [
  {
   "cell_type": "markdown",
   "id": "bbbdb616",
   "metadata": {},
   "source": [
    "# 1) Extract Data from Source"
   ]
  },
  {
   "cell_type": "code",
   "execution_count": 1,
   "id": "30a15223",
   "metadata": {},
   "outputs": [],
   "source": [
    "data_folder_path = \"./data/\""
   ]
  },
  {
   "cell_type": "markdown",
   "id": "a7998d99",
   "metadata": {},
   "source": [
    "Run once only to install wfdb and download data from source"
   ]
  },
  {
   "cell_type": "code",
   "execution_count": 2,
   "id": "57bbdf87",
   "metadata": {},
   "outputs": [],
   "source": [
    "#1st Run Only\n",
    "#%pip install wfdb\n",
    "\n",
    "#Download data (70 files total: 7 for each infants)\n",
    "#wfdb.dl_database(db_dir='picsdb', dl_dir=data_folder_path, records='all', annotators='all', keep_subdirs=False, overwrite=False)"
   ]
  },
  {
   "cell_type": "markdown",
   "id": "438b30be",
   "metadata": {},
   "source": [
    "# 2) WFDB Library to Read & Process"
   ]
  },
  {
   "cell_type": "code",
   "execution_count": 3,
   "id": "5cc35a00",
   "metadata": {},
   "outputs": [],
   "source": [
    "import pandas as pd\n",
    "import numpy as np\n",
    "\n",
    "#Matplotlib\n",
    "from IPython.display import display\n",
    "import matplotlib.pyplot as plt\n",
    "%matplotlib inline\n",
    "\n",
    "#Read file\n",
    "import os\n",
    "\n",
    "#Read ECG and Respiratory File\n",
    "import wfdb\n",
    "from wfdb import processing"
   ]
  },
  {
   "cell_type": "code",
   "execution_count": 4,
   "id": "9c8f90eb",
   "metadata": {},
   "outputs": [
    {
     "name": "stdout",
     "output_type": "stream",
     "text": [
      "['./data/infant1_ecg', './data/infant2_ecg', './data/infant3_ecg', './data/infant4_ecg', './data/infant5_ecg', './data/infant6_ecg', './data/infant7_ecg', './data/infant8_ecg', './data/infant9_ecg', './data/infant10_ecg']\n",
      "['./data/infant1_resp', './data/infant2_resp', './data/infant3_resp', './data/infant4_resp', './data/infant5_resp', './data/infant6_resp', './data/infant7_resp', './data/infant8_resp', './data/infant9_resp', './data/infant10_resp']\n"
     ]
    }
   ],
   "source": [
    "#all file\n",
    "ecg_path = []\n",
    "resp_path = []\n",
    "\n",
    "ecg_data = []\n",
    "resp_data = []\n",
    "\n",
    "for infant_id in range(1, 11):\n",
    "    ecg_path.append(os.path.join(data_folder_path, f\"infant{infant_id}_ecg\"))\n",
    "    resp_path.append(os.path.join(data_folder_path, f\"infant{infant_id}_resp\"))\n",
    "\n",
    "    ecg_data.append(wfdb.rdrecord(ecg_path[infant_id-1]))\n",
    "    resp_data.append(wfdb.rdrecord(resp_path[infant_id-1]))\n",
    "    \n",
    "print(ecg_path)\n",
    "print(resp_path)"
   ]
  },
  {
   "cell_type": "markdown",
   "id": "4159bf8c",
   "metadata": {},
   "source": [
    "Get signals value and fields, then convert them all to DataFrame"
   ]
  },
  {
   "cell_type": "code",
   "execution_count": 5,
   "id": "3ec735d6",
   "metadata": {},
   "outputs": [],
   "source": [
    "ecg_signals, ecg_fields = wfdb.rdsamp(ecg_path[0])"
   ]
  },
  {
   "cell_type": "code",
   "execution_count": 6,
   "id": "8e45ace3",
   "metadata": {},
   "outputs": [
    {
     "data": {
      "text/plain": [
       "{'fs': 250,\n",
       " 'sig_len': 41052191,\n",
       " 'n_sig': 1,\n",
       " 'base_date': None,\n",
       " 'base_time': None,\n",
       " 'units': ['mV'],\n",
       " 'sig_name': ['ECG'],\n",
       " 'comments': []}"
      ]
     },
     "execution_count": 6,
     "metadata": {},
     "output_type": "execute_result"
    }
   ],
   "source": [
    "ecg_fields"
   ]
  },
  {
   "cell_type": "code",
   "execution_count": 7,
   "id": "dc57e1e9",
   "metadata": {},
   "outputs": [
    {
     "data": {
      "text/html": [
       "<div>\n",
       "<style scoped>\n",
       "    .dataframe tbody tr th:only-of-type {\n",
       "        vertical-align: middle;\n",
       "    }\n",
       "\n",
       "    .dataframe tbody tr th {\n",
       "        vertical-align: top;\n",
       "    }\n",
       "\n",
       "    .dataframe thead th {\n",
       "        text-align: right;\n",
       "    }\n",
       "</style>\n",
       "<table border=\"1\" class=\"dataframe\">\n",
       "  <thead>\n",
       "    <tr style=\"text-align: right;\">\n",
       "      <th></th>\n",
       "      <th>0</th>\n",
       "      <th>infant</th>\n",
       "    </tr>\n",
       "  </thead>\n",
       "  <tbody>\n",
       "    <tr>\n",
       "      <th>0</th>\n",
       "      <td>-0.019984</td>\n",
       "      <td>1</td>\n",
       "    </tr>\n",
       "    <tr>\n",
       "      <th>1</th>\n",
       "      <td>-0.019984</td>\n",
       "      <td>1</td>\n",
       "    </tr>\n",
       "    <tr>\n",
       "      <th>2</th>\n",
       "      <td>-0.014988</td>\n",
       "      <td>1</td>\n",
       "    </tr>\n",
       "    <tr>\n",
       "      <th>3</th>\n",
       "      <td>-0.004996</td>\n",
       "      <td>1</td>\n",
       "    </tr>\n",
       "    <tr>\n",
       "      <th>4</th>\n",
       "      <td>-0.004996</td>\n",
       "      <td>1</td>\n",
       "    </tr>\n",
       "    <tr>\n",
       "      <th>...</th>\n",
       "      <td>...</td>\n",
       "      <td>...</td>\n",
       "    </tr>\n",
       "    <tr>\n",
       "      <th>41052186</th>\n",
       "      <td>-0.294757</td>\n",
       "      <td>1</td>\n",
       "    </tr>\n",
       "    <tr>\n",
       "      <th>41052187</th>\n",
       "      <td>-0.338471</td>\n",
       "      <td>1</td>\n",
       "    </tr>\n",
       "    <tr>\n",
       "      <th>41052188</th>\n",
       "      <td>-0.314740</td>\n",
       "      <td>1</td>\n",
       "    </tr>\n",
       "    <tr>\n",
       "      <th>41052189</th>\n",
       "      <td>-0.078685</td>\n",
       "      <td>1</td>\n",
       "    </tr>\n",
       "    <tr>\n",
       "      <th>41052190</th>\n",
       "      <td>0.335973</td>\n",
       "      <td>1</td>\n",
       "    </tr>\n",
       "  </tbody>\n",
       "</table>\n",
       "<p>41052191 rows × 2 columns</p>\n",
       "</div>"
      ],
      "text/plain": [
       "                 0  infant\n",
       "0        -0.019984       1\n",
       "1        -0.019984       1\n",
       "2        -0.014988       1\n",
       "3        -0.004996       1\n",
       "4        -0.004996       1\n",
       "...            ...     ...\n",
       "41052186 -0.294757       1\n",
       "41052187 -0.338471       1\n",
       "41052188 -0.314740       1\n",
       "41052189 -0.078685       1\n",
       "41052190  0.335973       1\n",
       "\n",
       "[41052191 rows x 2 columns]"
      ]
     },
     "execution_count": 7,
     "metadata": {},
     "output_type": "execute_result"
    }
   ],
   "source": [
    "df_ecg_signals = pd.DataFrame(ecg_signals)\n",
    "#df_ecg_signals.columns = ecg_fields['sig_name']\n",
    "df_ecg_signals['infant']=1\n",
    "#df_ecg_signals['ecg_sig_name']='ECG'\n",
    "#df_ecg_signals['ecg_fs']=ecg_fields.get('fs')\n",
    "#df_ecg_signals['ecg_sig_len']=ecg_fields.get('sig_len')\n",
    "#df_ecg_signals['ecg_n_sig']=ecg_fields.get('fs')\n",
    "#df_ecg_signals['ecg_base_date']=ecg_fields.get('base_date')\n",
    "#df_ecg_signals['ecg_base_time']=ecg_fields.get('base_time')\n",
    "#df_ecg_signals['ecg_units']='mV'\n",
    "\n",
    "df_ecg_signals"
   ]
  },
  {
   "cell_type": "code",
   "execution_count": 8,
   "id": "78088d87",
   "metadata": {},
   "outputs": [],
   "source": [
    "#df_ecg_group = df_ecg_signals.groupby('infant')[['ECG']].min()\n",
    "#df_ecg_group"
   ]
  },
  {
   "cell_type": "code",
   "execution_count": 9,
   "id": "3549b784",
   "metadata": {},
   "outputs": [],
   "source": [
    "resp_signals, resp_fields = wfdb.rdsamp(resp_path[0])"
   ]
  },
  {
   "cell_type": "code",
   "execution_count": 10,
   "id": "3f630527",
   "metadata": {},
   "outputs": [
    {
     "data": {
      "text/plain": [
       "{'fs': 500,\n",
       " 'sig_len': 82122000,\n",
       " 'n_sig': 1,\n",
       " 'base_date': None,\n",
       " 'base_time': None,\n",
       " 'units': ['NU'],\n",
       " 'sig_name': ['RESP'],\n",
       " 'comments': []}"
      ]
     },
     "execution_count": 10,
     "metadata": {},
     "output_type": "execute_result"
    }
   ],
   "source": [
    "resp_fields"
   ]
  },
  {
   "cell_type": "code",
   "execution_count": 11,
   "id": "39ef91b1",
   "metadata": {},
   "outputs": [
    {
     "data": {
      "text/html": [
       "<div>\n",
       "<style scoped>\n",
       "    .dataframe tbody tr th:only-of-type {\n",
       "        vertical-align: middle;\n",
       "    }\n",
       "\n",
       "    .dataframe tbody tr th {\n",
       "        vertical-align: top;\n",
       "    }\n",
       "\n",
       "    .dataframe thead th {\n",
       "        text-align: right;\n",
       "    }\n",
       "</style>\n",
       "<table border=\"1\" class=\"dataframe\">\n",
       "  <thead>\n",
       "    <tr style=\"text-align: right;\">\n",
       "      <th></th>\n",
       "      <th>0</th>\n",
       "      <th>infant</th>\n",
       "    </tr>\n",
       "  </thead>\n",
       "  <tbody>\n",
       "    <tr>\n",
       "      <th>0</th>\n",
       "      <td>-0.555008</td>\n",
       "      <td>1</td>\n",
       "    </tr>\n",
       "    <tr>\n",
       "      <th>1</th>\n",
       "      <td>-0.555008</td>\n",
       "      <td>1</td>\n",
       "    </tr>\n",
       "    <tr>\n",
       "      <th>2</th>\n",
       "      <td>-0.553516</td>\n",
       "      <td>1</td>\n",
       "    </tr>\n",
       "    <tr>\n",
       "      <th>3</th>\n",
       "      <td>-0.553516</td>\n",
       "      <td>1</td>\n",
       "    </tr>\n",
       "    <tr>\n",
       "      <th>4</th>\n",
       "      <td>-0.553516</td>\n",
       "      <td>1</td>\n",
       "    </tr>\n",
       "    <tr>\n",
       "      <th>...</th>\n",
       "      <td>...</td>\n",
       "      <td>...</td>\n",
       "    </tr>\n",
       "    <tr>\n",
       "      <th>82121995</th>\n",
       "      <td>24.178635</td>\n",
       "      <td>1</td>\n",
       "    </tr>\n",
       "    <tr>\n",
       "      <th>82121996</th>\n",
       "      <td>24.177143</td>\n",
       "      <td>1</td>\n",
       "    </tr>\n",
       "    <tr>\n",
       "      <th>82121997</th>\n",
       "      <td>24.175652</td>\n",
       "      <td>1</td>\n",
       "    </tr>\n",
       "    <tr>\n",
       "      <th>82121998</th>\n",
       "      <td>24.177143</td>\n",
       "      <td>1</td>\n",
       "    </tr>\n",
       "    <tr>\n",
       "      <th>82121999</th>\n",
       "      <td>24.172668</td>\n",
       "      <td>1</td>\n",
       "    </tr>\n",
       "  </tbody>\n",
       "</table>\n",
       "<p>82122000 rows × 2 columns</p>\n",
       "</div>"
      ],
      "text/plain": [
       "                  0  infant\n",
       "0         -0.555008       1\n",
       "1         -0.555008       1\n",
       "2         -0.553516       1\n",
       "3         -0.553516       1\n",
       "4         -0.553516       1\n",
       "...             ...     ...\n",
       "82121995  24.178635       1\n",
       "82121996  24.177143       1\n",
       "82121997  24.175652       1\n",
       "82121998  24.177143       1\n",
       "82121999  24.172668       1\n",
       "\n",
       "[82122000 rows x 2 columns]"
      ]
     },
     "execution_count": 11,
     "metadata": {},
     "output_type": "execute_result"
    }
   ],
   "source": [
    "df_resp_signals = pd.DataFrame(resp_signals)\n",
    "#df_resp_signals.columns = resp_fields['sig_name']\n",
    "df_resp_signals['infant']=1\n",
    "#df_resp_signals['resp_sig_name']='RESP'\n",
    "#df_resp_signals['resp_fs']=ecg_fields.get('fs')\n",
    "#df_resp_signals['resp_sig_len']=ecg_fields.get('sig_len')\n",
    "#df_resp_signals['resp_n_sig']=ecg_fields.get('fs')\n",
    "#df_resp_signals['resp_base_date']=ecg_fields.get('base_date')\n",
    "#df_resp_signals['resp_base_time']=ecg_fields.get('base_time')\n",
    "#df_resp_signals['resp_units']='NU'\n",
    "\n",
    "df_resp_signals"
   ]
  },
  {
   "cell_type": "markdown",
   "id": "5337b6fa",
   "metadata": {},
   "source": [
    "# 3) Review Features, Samples & Channels"
   ]
  },
  {
   "cell_type": "code",
   "execution_count": 12,
   "id": "5e61a70e",
   "metadata": {},
   "outputs": [],
   "source": [
    "#all_df = []\n",
    "#temp_df = []\n",
    "#for i in range (0,10):\n",
    "#    resp_signals, resp_fields = wfdb.rdsamp(resp_path[i])\n",
    "#    temp_df = pd.DataFrame([resp_fields])\n",
    "#    temp_df['infant']=i\n",
    "#    all_df.append(temp_df)\n",
    "\n",
    "\n",
    "#all_df\n",
    "#print(df_ecg_fields)"
   ]
  },
  {
   "cell_type": "code",
   "execution_count": 13,
   "id": "5ea2539b",
   "metadata": {},
   "outputs": [
    {
     "name": "stdout",
     "output_type": "stream",
     "text": [
      "Infant  1\n",
      "{'fs': 250, 'sig_len': 41052191, 'n_sig': 1, 'base_date': None, 'base_time': None, 'units': ['mV'], 'sig_name': ['ECG'], 'comments': []}\n",
      "Infant  2\n",
      "{'fs': 500, 'sig_len': 78916000, 'n_sig': 1, 'base_date': None, 'base_time': None, 'units': ['mV'], 'sig_name': ['II'], 'comments': []}\n",
      "Infant  3\n",
      "{'fs': 500, 'sig_len': 78684614, 'n_sig': 1, 'base_date': None, 'base_time': None, 'units': ['mV'], 'sig_name': ['II'], 'comments': []}\n",
      "Infant  4\n",
      "{'fs': 500, 'sig_len': 84208000, 'n_sig': 1, 'base_date': None, 'base_time': None, 'units': ['mV'], 'sig_name': ['II'], 'comments': []}\n",
      "Infant  5\n",
      "{'fs': 250, 'sig_len': 43878723, 'n_sig': 1, 'base_date': None, 'base_time': None, 'units': ['mV'], 'sig_name': ['ECG'], 'comments': []}\n",
      "Infant  6\n",
      "{'fs': 500, 'sig_len': 87492197, 'n_sig': 1, 'base_date': None, 'base_time': None, 'units': ['mV'], 'sig_name': ['II'], 'comments': []}\n",
      "Infant  7\n",
      "{'fs': 500, 'sig_len': 36604500, 'n_sig': 1, 'base_date': None, 'base_time': None, 'units': ['mV'], 'sig_name': ['II'], 'comments': []}\n",
      "Infant  8\n",
      "{'fs': 500, 'sig_len': 44288000, 'n_sig': 1, 'base_date': None, 'base_time': None, 'units': ['mV'], 'sig_name': ['II'], 'comments': []}\n",
      "Infant  9\n",
      "{'fs': 500, 'sig_len': 126569088, 'n_sig': 1, 'base_date': None, 'base_time': None, 'units': ['mV'], 'sig_name': ['II'], 'comments': []}\n",
      "Infant  10\n",
      "{'fs': 500, 'sig_len': 85083254, 'n_sig': 1, 'base_date': None, 'base_time': None, 'units': ['mV'], 'sig_name': ['I'], 'comments': []}\n"
     ]
    }
   ],
   "source": [
    "for i in range (0,10):\n",
    "    ecg_signals, ecg_fields = wfdb.rdsamp(ecg_path[i])\n",
    "    print(\"Infant \" , i+1)\n",
    "    print(ecg_fields)"
   ]
  },
  {
   "cell_type": "code",
   "execution_count": 14,
   "id": "66708777",
   "metadata": {},
   "outputs": [
    {
     "name": "stdout",
     "output_type": "stream",
     "text": [
      "Infant  1\n",
      "{'fs': 500, 'sig_len': 82122000, 'n_sig': 1, 'base_date': None, 'base_time': None, 'units': ['NU'], 'sig_name': ['RESP'], 'comments': []}\n",
      "Infant  2\n",
      "{'fs': 50, 'sig_len': 7891433, 'n_sig': 1, 'base_date': None, 'base_time': None, 'units': ['NU'], 'sig_name': ['RESP'], 'comments': []}\n",
      "Infant  3\n",
      "{'fs': 50, 'sig_len': 7868296, 'n_sig': 1, 'base_date': None, 'base_time': None, 'units': ['NU'], 'sig_name': ['RESP'], 'comments': []}\n",
      "Infant  4\n",
      "{'fs': 50, 'sig_len': 8420800, 'n_sig': 1, 'base_date': None, 'base_time': None, 'units': ['NU'], 'sig_name': ['RESP'], 'comments': []}\n",
      "Infant  5\n",
      "{'fs': 50, 'sig_len': 8955598, 'n_sig': 1, 'base_date': None, 'base_time': None, 'units': ['NU'], 'sig_name': ['RESP'], 'comments': []}\n",
      "Infant  6\n",
      "{'fs': 50, 'sig_len': 8749057, 'n_sig': 1, 'base_date': None, 'base_time': None, 'units': ['NU'], 'sig_name': ['RESP'], 'comments': []}\n",
      "Infant  7\n",
      "{'fs': 50, 'sig_len': 3660288, 'n_sig': 1, 'base_date': None, 'base_time': None, 'units': ['NU'], 'sig_name': ['RESP'], 'comments': []}\n",
      "Infant  8\n",
      "{'fs': 50, 'sig_len': 4428613, 'n_sig': 1, 'base_date': None, 'base_time': None, 'units': ['NU'], 'sig_name': ['RESP'], 'comments': []}\n",
      "Infant  9\n",
      "{'fs': 50, 'sig_len': 12656784, 'n_sig': 1, 'base_date': None, 'base_time': None, 'units': ['NU'], 'sig_name': ['RESP'], 'comments': []}\n",
      "Infant  10\n",
      "{'fs': 50, 'sig_len': 8508154, 'n_sig': 1, 'base_date': None, 'base_time': None, 'units': ['NU'], 'sig_name': ['RESP'], 'comments': []}\n"
     ]
    }
   ],
   "source": [
    "for i in range (0,10):\n",
    "    resp_signals, resp_fields = wfdb.rdsamp(resp_path[i])\n",
    "    print(\"Infant \" , i+1)\n",
    "    print(resp_fields)"
   ]
  },
  {
   "cell_type": "markdown",
   "id": "d130f02a",
   "metadata": {},
   "source": [
    "Analysis from dataset:\n",
    "\n",
    "-For ECG data, infant 1 & 5 have frequency of 250Hz while the rest has 500Hz\n",
    "\n",
    "-For Resp data, infant 1 has frequency of 500Hz while the rest has 50Hz"
   ]
  },
  {
   "cell_type": "markdown",
   "id": "96d522be",
   "metadata": {},
   "source": [
    "# 4) Discrepancies Handling"
   ]
  },
  {
   "cell_type": "code",
   "execution_count": 15,
   "id": "ec0d1768",
   "metadata": {},
   "outputs": [
    {
     "data": {
      "text/plain": [
       "array([-0.01998352, -0.01998352, -0.01998352, ..., -0.07868511,\n",
       "        0.12864392,  0.33597295])"
      ]
     },
     "execution_count": 15,
     "metadata": {},
     "output_type": "execute_result"
    }
   ],
   "source": [
    "from scipy.interpolate import interp1d\n",
    "import numpy as np\n",
    "\n",
    "# original signal\n",
    "#x = df_ecg_signals['ECG']\n",
    "x = df_ecg_signals[0]\n",
    "\n",
    "# time points of original signal\n",
    "t = np.arange(0, len(x))\n",
    "\n",
    "# time points of upsampled signal\n",
    "t_upsampled = np.linspace(0, len(x)-1, len(x)*2)\n",
    "\n",
    "# interpolation function\n",
    "f = interp1d(t, x, kind='linear')\n",
    "\n",
    "# upsampled signal\n",
    "x_upsampled = f(t_upsampled)\n",
    "\n",
    "#print(x_upsampled)\n",
    "x_upsampled"
   ]
  },
  {
   "cell_type": "code",
   "execution_count": 17,
   "id": "9d20e6a1",
   "metadata": {},
   "outputs": [
    {
     "data": {
      "text/plain": [
       "82104382"
      ]
     },
     "execution_count": 17,
     "metadata": {},
     "output_type": "execute_result"
    }
   ],
   "source": [
    "len(x_upsampled)"
   ]
  },
  {
   "cell_type": "code",
   "execution_count": 18,
   "id": "fe54b200",
   "metadata": {},
   "outputs": [
    {
     "data": {
      "text/plain": [
       "82122000"
      ]
     },
     "execution_count": 18,
     "metadata": {},
     "output_type": "execute_result"
    }
   ],
   "source": [
    "len(df_resp_signals)"
   ]
  },
  {
   "cell_type": "code",
   "execution_count": 87,
   "id": "688d837b",
   "metadata": {},
   "outputs": [],
   "source": [
    "#new_df = pd.DataFrame(x_upsampled)\n",
    "#new_df = new_df.rename(columns={0: 'ECG'})\n",
    "#new_df"
   ]
  },
  {
   "cell_type": "markdown",
   "id": "87dd71c9",
   "metadata": {},
   "source": [
    "# 5) ECG & Respiratory Mapping"
   ]
  },
  {
   "cell_type": "code",
   "execution_count": 58,
   "id": "92320226",
   "metadata": {},
   "outputs": [
    {
     "name": "stdout",
     "output_type": "stream",
     "text": [
      "[ 0.08992584 -0.04246498 -0.06994232 -0.05495468 -0.04496292 -0.04496292\n",
      " -0.04496292 -0.04496292 -0.04496292 -0.0499588 ]\n"
     ]
    },
    {
     "data": {
      "text/plain": [
       "<AxesSubplot:>"
      ]
     },
     "execution_count": 58,
     "metadata": {},
     "output_type": "execute_result"
    },
    {
     "data": {
      "image/png": "[encoded data removed]",
      "text/plain": [
       "<Figure size 640x480 with 1 Axes>"
      ]
     },
     "metadata": {},
     "output_type": "display_data"
    }
   ],
   "source": [
    "import numpy as np\n",
    "import pandas as pd\n",
    "from scipy.signal import resample, correlate\n",
    "\n",
    "# ensure the signals have the same sampling rate and length\n",
    "#if df_ecg_signals.shape[0] != df_resp_signals.shape[0]:\n",
    "#    edf_ecg_signals = resample(df_ecg_signals, df_resp_signals.shape[0])\n",
    "    \n",
    "#edf_ecg_signals = resample(df_ecg_signals, 2500)\n",
    "#edf_resp_signals = resample(df_resp_signals, 2500)\n",
    "\n",
    "# take the first 1000 rows of each dataframe\n",
    "ecg = df_ecg_signals[0].head(500)\n",
    "resp = df_resp_signals[0].head(500)\n",
    "\n",
    "# calculate the cross-correlation\n",
    "cross_corr = correlate(ecg, resp)\n",
    "\n",
    "# find the index of the maximum value in the cross-correlation array\n",
    "max_index = np.argmax(cross_corr)\n",
    "\n",
    "# calculate the optimal time shift\n",
    "time_shift = len(ecg) - max_index\n",
    "\n",
    "# shift one of the signals based on the time shift\n",
    "ecg_shifted = np.roll(ecg, time_shift)\n",
    "\n",
    "# now you can analyze the mapped data\n",
    "print(ecg_shifted[:10])\n",
    "len(ecg_shifted)\n",
    "pd.DataFrame(ecg_shifted).plot()"
   ]
  },
  {
   "cell_type": "code",
   "execution_count": 59,
   "id": "d1ccca6e",
   "metadata": {},
   "outputs": [
    {
     "data": {
      "image/png": "[encoded data removed]",
      "text/plain": [
       "<Figure size 640x480 with 1 Axes>"
      ]
     },
     "metadata": {},
     "output_type": "display_data"
    }
   ],
   "source": [
    "# create a figure and a single axis\n",
    "fig, ax = plt.subplots()\n",
    "ax.plot(ecg_shifted, label='ECG')\n",
    "ax.legend()\n",
    "plt.show()"
   ]
  },
  {
   "cell_type": "code",
   "execution_count": 60,
   "id": "a34a32e0",
   "metadata": {},
   "outputs": [
    {
     "data": {
      "image/png": "[encoded data removed]",
      "text/plain": [
       "<Figure size 640x480 with 1 Axes>"
      ]
     },
     "metadata": {},
     "output_type": "display_data"
    }
   ],
   "source": [
    "# create a figure and a single axis\n",
    "fig, ax = plt.subplots()\n",
    "ax.plot(resp, label='Resp')\n",
    "ax.legend()\n",
    "plt.show()"
   ]
  },
  {
   "cell_type": "code",
   "execution_count": 61,
   "id": "a28c60a9",
   "metadata": {
    "scrolled": true
   },
   "outputs": [
    {
     "data": {
      "application/vnd.plotly.v1+json": {
       "config": {
        "linkText": "Export to plot.ly",
        "plotlyServerURL": "https://plot.ly",
        "showLink": false
       },
       "data": [
        {
         "type": "scatter",
         "y": [
          -0.5550075519071932,
          -0.5550075519071932,
          -0.5535155961224963,
          -0.5535155961224963,
          -0.5535155961224963,
          -0.5520236403377996,
          -0.5535155961224963,
          -0.5535155961224963,
          -0.5564995076918899,
          -0.5550075519071932,
          -0.5579914634765867,
          -0.5550075519071932,
          -0.5520236403377996,
          -0.5535155961224963,
          -0.5520236403377996,
          -0.5535155961224963,
          -0.5535155961224963,
          -0.5564995076918899,
          -0.5564995076918899,
          -0.5535155961224963,
          -0.5535155961224963,
          -0.5535155961224963,
          -0.5535155961224963,
          -0.5520236403377996,
          -0.5535155961224963,
          -0.5564995076918899,
          -0.5550075519071932,
          -0.5520236403377996,
          -0.5535155961224963,
          -0.5520236403377996,
          -0.5535155961224963,
          -0.5535155961224963,
          -0.5550075519071932,
          -0.5520236403377996,
          -0.5550075519071932,
          -0.5535155961224963,
          -0.5535155961224963,
          -0.5535155961224963,
          -0.5505316845531029,
          -0.5535155961224963,
          -0.5550075519071932,
          -0.5579914634765867,
          -0.5535155961224963,
          -0.5564995076918899,
          -0.5505316845531029,
          -0.5535155961224963,
          -0.5520236403377996,
          -0.5550075519071932,
          -0.5535155961224963,
          -0.5550075519071932,
          -0.5535155961224963,
          -0.5564995076918899,
          -0.5564995076918899,
          -0.5505316845531029,
          -0.5550075519071932,
          -0.5520236403377996,
          -0.5535155961224963,
          -0.5550075519071932,
          -0.5550075519071932,
          -0.5535155961224963,
          -0.5550075519071932,
          -0.5535155961224963,
          -0.5535155961224963,
          -0.5535155961224963,
          -0.5520236403377996,
          -0.5520236403377996,
          -0.5535155961224963,
          -0.5564995076918899,
          -0.5550075519071932,
          -0.5550075519071932,
          -0.5535155961224963,
          -0.5505316845531029,
          -0.5535155961224963,
          -0.5535155961224963,
          -0.5535155961224963,
          -0.5550075519071932,
          -0.5535155961224963,
          -0.5550075519071932,
          -0.5535155961224963,
          -0.5520236403377996,
          -0.5535155961224963,
          -0.5535155961224963,
          -0.5520236403377996,
          -0.5535155961224963,
          -0.5550075519071932,
          -0.5564995076918899,
          -0.5535155961224963,
          -0.5535155961224963,
          -0.5505316845531029,
          -0.5505316845531029,
          -0.5550075519071932,
          -0.5535155961224963,
          -0.5550075519071932,
          -0.5550075519071932,
          -0.5535155961224963,
          -0.5535155961224963,
          -0.5535155961224963,
          -0.5520236403377996,
          -0.5564995076918899,
          -0.5550075519071932,
          -0.5550075519071932,
          -0.5564995076918899,
          -0.5550075519071932,
          -0.5550075519071932,
          -0.5535155961224963,
          -0.5475477729837094,
          -0.5520236403377996,
          -0.5490397287684061,
          -0.5535155961224963,
          -0.5550075519071932,
          -0.5535155961224963,
          -0.5535155961224963,
          -0.5535155961224963,
          -0.5564995076918899,
          -0.5535155961224963,
          -0.5550075519071932,
          -0.5535155961224963,
          -0.5564995076918899,
          -0.5564995076918899,
          -0.5535155961224963,
          -0.5535155961224963,
          -0.5505316845531029,
          -0.5505316845531029,
          -0.5535155961224963,
          -0.5564995076918899,
          -0.5564995076918899,
          -0.5579914634765867,
          -0.5550075519071932,
          -0.5520236403377996,
          -0.5535155961224963,
          -0.5505316845531029,
          -0.5535155961224963,
          -0.5550075519071932,
          -0.5535155961224963,
          -0.5579914634765867,
          -0.5535155961224963,
          -0.5535155961224963,
          -0.5505316845531029,
          -0.5535155961224963,
          -0.5550075519071932,
          -0.5535155961224963,
          -0.5535155961224963,
          -0.5535155961224963,
          -0.5550075519071932,
          -0.5505316845531029,
          -0.5535155961224963,
          -0.5505316845531029,
          -0.5520236403377996,
          -0.5535155961224963,
          -0.5520236403377996,
          -0.5564995076918899,
          -0.5564995076918899,
          -0.5550075519071932,
          -0.5535155961224963,
          -0.5535155961224963,
          -0.5505316845531029,
          -0.5535155961224963,
          -0.5550075519071932,
          -0.5550075519071932,
          -0.5550075519071932,
          -0.5505316845531029,
          -0.5550075519071932,
          -0.5520236403377996,
          -0.5505316845531029,
          -0.5535155961224963,
          -0.5535155961224963,
          -0.5564995076918899,
          -0.5520236403377996,
          -0.5550075519071932,
          -0.5564995076918899,
          -0.5535155961224963,
          -0.5520236403377996,
          -0.5535155961224963,
          -0.5535155961224963,
          -0.5550075519071932,
          -0.5550075519071932,
          -0.5564995076918899,
          -0.5535155961224963,
          -0.5535155961224963,
          -0.5535155961224963,
          -0.5535155961224963,
          -0.5520236403377996,
          -0.5550075519071932,
          -0.5550075519071932,
          -0.5550075519071932,
          -0.5564995076918899,
          -0.5550075519071932,
          -0.5550075519071932,
          -0.5535155961224963,
          -0.5535155961224963,
          -0.5535155961224963,
          -0.5564995076918899,
          -0.5520236403377996,
          -0.5550075519071932,
          -0.5535155961224963,
          -0.5520236403377996,
          -0.5520236403377996,
          -0.5520236403377996,
          -0.5520236403377996,
          -0.5535155961224963,
          -0.5550075519071932,
          -0.5535155961224963,
          -0.5535155961224963,
          -0.5520236403377996,
          -0.5535155961224963,
          -0.5520236403377996,
          -0.5535155961224963,
          -0.5550075519071932,
          -0.5520236403377996,
          -0.5520236403377996,
          -0.5550075519071932,
          -0.5520236403377996,
          -0.5520236403377996,
          -0.5535155961224963,
          -0.5535155961224963,
          -0.5520236403377996,
          -0.5535155961224963,
          -0.5550075519071932,
          -0.5564995076918899,
          -0.5564995076918899,
          -0.5520236403377996,
          -0.5535155961224963,
          -0.5550075519071932,
          -0.5550075519071932,
          -0.5520236403377996,
          -0.5535155961224963,
          -0.5520236403377996,
          -0.5535155961224963,
          -0.5535155961224963,
          -0.5535155961224963,
          -0.5505316845531029,
          -0.5535155961224963,
          -0.5535155961224963,
          -0.5550075519071932,
          -0.5564995076918899,
          -0.5550075519071932,
          -0.5564995076918899,
          -0.5520236403377996,
          -0.5535155961224963,
          -0.5535155961224963,
          -0.5535155961224963,
          -0.5550075519071932,
          -0.5535155961224963,
          -0.5535155961224963,
          -0.5535155961224963,
          -0.5520236403377996,
          -0.5505316845531029,
          -0.5520236403377996,
          -0.5535155961224963,
          -0.5520236403377996,
          -0.5535155961224963,
          -0.5550075519071932,
          -0.5535155961224963,
          -0.5535155961224963,
          -0.5535155961224963,
          -0.5520236403377996,
          -0.5535155961224963,
          -0.5535155961224963,
          -0.5535155961224963,
          -0.5550075519071932,
          -0.5564995076918899,
          -0.5535155961224963,
          -0.5535155961224963,
          -0.5535155961224963,
          -0.5505316845531029,
          -0.5550075519071932,
          -0.5550075519071932,
          -0.5550075519071932,
          -0.5550075519071932,
          -0.5535155961224963,
          -0.5550075519071932,
          -0.5520236403377996,
          -0.5535155961224963,
          -0.5550075519071932,
          -0.5550075519071932,
          -0.5550075519071932,
          -0.5550075519071932,
          -0.5535155961224963,
          -0.5535155961224963,
          -0.5505316845531029,
          -0.5535155961224963,
          -0.5550075519071932,
          -0.5520236403377996,
          -0.5550075519071932,
          -0.5579914634765867,
          -0.5564995076918899,
          -0.5535155961224963,
          -0.5535155961224963,
          -0.5520236403377996,
          -0.5505316845531029,
          -0.5550075519071932,
          -0.5550075519071932,
          -0.5564995076918899,
          -0.5550075519071932,
          -0.5520236403377996,
          -0.5550075519071932,
          -0.5535155961224963,
          -0.5535155961224963,
          -0.5535155961224963,
          -0.5550075519071932,
          -0.5535155961224963,
          -0.5550075519071932,
          -0.5550075519071932,
          -0.5535155961224963,
          -0.5535155961224963,
          -0.5535155961224963,
          -0.5535155961224963,
          -0.5535155961224963,
          -0.5550075519071932,
          -0.5564995076918899,
          -0.5550075519071932,
          -0.5535155961224963,
          -0.5505316845531029,
          -0.5535155961224963,
          -0.5520236403377996,
          -0.5535155961224963,
          -0.5550075519071932,
          -0.5535155961224963,
          -0.5535155961224963,
          -0.5550075519071932,
          -0.5535155961224963,
          -0.5520236403377996,
          -0.5564995076918899,
          -0.5535155961224963,
          -0.5564995076918899,
          -0.5550075519071932,
          -0.5550075519071932,
          -0.5535155961224963,
          -0.5550075519071932,
          -0.5535155961224963,
          -0.5535155961224963,
          -0.5535155961224963,
          -0.5535155961224963,
          -0.5535155961224963,
          -0.5550075519071932,
          -0.5535155961224963,
          -0.5535155961224963,
          -0.5535155961224963,
          -0.5550075519071932,
          -0.5535155961224963,
          -0.5550075519071932,
          -0.5564995076918899,
          -0.5550075519071932,
          -0.5564995076918899,
          -0.5564995076918899,
          -0.5520236403377996,
          -0.5535155961224963,
          -0.5535155961224963,
          -0.5535155961224963,
          -0.5535155961224963,
          -0.5550075519071932,
          -0.5550075519071932,
          -0.5550075519071932,
          -0.5564995076918899,
          -0.5535155961224963,
          -0.5535155961224963,
          -0.5550075519071932,
          -0.5550075519071932,
          -0.5535155961224963,
          -0.5550075519071932,
          -0.5564995076918899,
          -0.5550075519071932,
          -0.5535155961224963,
          -0.5535155961224963,
          -0.5505316845531029,
          -0.5550075519071932,
          -0.5564995076918899,
          -0.5550075519071932,
          -0.5564995076918899,
          -0.5535155961224963,
          -0.5550075519071932,
          -0.5535155961224963,
          -0.5535155961224963,
          -0.5550075519071932,
          -0.5550075519071932,
          -0.5564995076918899,
          -0.5550075519071932,
          -0.5550075519071932,
          -0.5550075519071932,
          -0.5535155961224963,
          -0.5535155961224963,
          -0.5535155961224963,
          -0.5535155961224963,
          -0.5564995076918899,
          -0.5564995076918899,
          -0.5535155961224963,
          -0.5550075519071932,
          -0.5535155961224963,
          -0.5564995076918899,
          -0.5550075519071932,
          -0.5520236403377996,
          -0.5550075519071932,
          -0.5550075519071932,
          -0.5564995076918899,
          -0.5550075519071932,
          -0.5550075519071932,
          -0.5550075519071932,
          -0.5535155961224963,
          -0.5520236403377996,
          -0.5550075519071932,
          -0.5550075519071932,
          -0.5579914634765867,
          -0.5550075519071932,
          -0.5535155961224963,
          -0.5564995076918899,
          -0.5535155961224963,
          -0.5535155961224963,
          -0.5535155961224963,
          -0.5535155961224963,
          -0.5564995076918899,
          -0.5550075519071932,
          -0.5550075519071932,
          -0.5535155961224963,
          -0.5550075519071932,
          -0.5550075519071932,
          -0.5550075519071932,
          -0.5550075519071932,
          -0.5564995076918899,
          -0.5535155961224963,
          -0.5550075519071932,
          -0.5550075519071932,
          -0.5535155961224963,
          -0.5535155961224963,
          -0.5550075519071932,
          -0.5550075519071932,
          -0.5535155961224963,
          -0.5550075519071932,
          -0.5550075519071932,
          -0.5550075519071932,
          -0.5550075519071932,
          -0.5535155961224963,
          -0.5535155961224963,
          -0.5535155961224963,
          -0.5550075519071932,
          -0.5564995076918899,
          -0.5564995076918899,
          -0.5520236403377996,
          -0.5564995076918899,
          -0.5505316845531029,
          -0.5520236403377996,
          -0.5520236403377996,
          -0.5535155961224963,
          -0.5550075519071932,
          -0.5550075519071932,
          -0.5535155961224963,
          -0.5520236403377996,
          -0.5520236403377996,
          -0.5505316845531029,
          -0.5535155961224963,
          -0.5535155961224963,
          -0.5564995076918899,
          -0.5535155961224963,
          -0.5535155961224963,
          -0.5550075519071932,
          -0.5520236403377996,
          -0.5520236403377996,
          -0.5505316845531029,
          -0.5535155961224963,
          -0.5505316845531029,
          -0.5535155961224963,
          -0.5520236403377996,
          -0.5505316845531029,
          -0.5520236403377996,
          -0.5520236403377996,
          -0.5505316845531029,
          -0.5505316845531029,
          -0.5505316845531029,
          -0.5535155961224963,
          -0.5505316845531029,
          -0.5505316845531029,
          -0.5490397287684061,
          -0.5490397287684061,
          -0.5475477729837094,
          -0.5460558171990126,
          -0.5535155961224963,
          -0.5535155961224963,
          -0.5520236403377996,
          -0.5520236403377996,
          -0.5520236403377996,
          -0.5475477729837094,
          -0.5490397287684061,
          -0.5475477729837094,
          -0.5475477729837094,
          -0.5490397287684061,
          -0.5505316845531029,
          -0.5490397287684061,
          -0.5460558171990126,
          -0.5475477729837094,
          -0.5460558171990126,
          -0.5505316845531029,
          -0.5460558171990126,
          -0.5475477729837094,
          -0.5475477729837094,
          -0.5490397287684061,
          -0.5475477729837094,
          -0.5460558171990126,
          -0.5415799498449223,
          -0.5460558171990126,
          -0.5460558171990126,
          -0.5460558171990126
         ]
        }
       ],
       "layout": {
        "template": {
         "data": {
          "bar": [
           {
            "error_x": {
             "color": "#2a3f5f"
            },
            "error_y": {
             "color": "#2a3f5f"
            },
            "marker": {
             "line": {
              "color": "#E5ECF6",
              "width": 0.5
             },
             "pattern": {
              "fillmode": "overlay",
              "size": 10,
              "solidity": 0.2
             }
            },
            "type": "bar"
           }
          ],
          "barpolar": [
           {
            "marker": {
             "line": {
              "color": "#E5ECF6",
              "width": 0.5
             },
             "pattern": {
              "fillmode": "overlay",
              "size": 10,
              "solidity": 0.2
             }
            },
            "type": "barpolar"
           }
          ],
          "carpet": [
           {
            "aaxis": {
             "endlinecolor": "#2a3f5f",
             "gridcolor": "white",
             "linecolor": "white",
             "minorgridcolor": "white",
             "startlinecolor": "#2a3f5f"
            },
            "baxis": {
             "endlinecolor": "#2a3f5f",
             "gridcolor": "white",
             "linecolor": "white",
             "minorgridcolor": "white",
             "startlinecolor": "#2a3f5f"
            },
            "type": "carpet"
           }
          ],
          "choropleth": [
           {
            "colorbar": {
             "outlinewidth": 0,
             "ticks": ""
            },
            "type": "choropleth"
           }
          ],
          "contour": [
           {
            "colorbar": {
             "outlinewidth": 0,
             "ticks": ""
            },
            "colorscale": [
             [
              0,
              "#0d0887"
             ],
             [
              0.1111111111111111,
              "#46039f"
             ],
             [
              0.2222222222222222,
              "#7201a8"
             ],
             [
              0.3333333333333333,
              "#9c179e"
             ],
             [
              0.4444444444444444,
              "#bd3786"
             ],
             [
              0.5555555555555556,
              "#d8576b"
             ],
             [
              0.6666666666666666,
              "#ed7953"
             ],
             [
              0.7777777777777778,
              "#fb9f3a"
             ],
             [
              0.8888888888888888,
              "#fdca26"
             ],
             [
              1,
              "#f0f921"
             ]
            ],
            "type": "contour"
           }
          ],
          "contourcarpet": [
           {
            "colorbar": {
             "outlinewidth": 0,
             "ticks": ""
            },
            "type": "contourcarpet"
           }
          ],
          "heatmap": [
           {
            "colorbar": {
             "outlinewidth": 0,
             "ticks": ""
            },
            "colorscale": [
             [
              0,
              "#0d0887"
             ],
             [
              0.1111111111111111,
              "#46039f"
             ],
             [
              0.2222222222222222,
              "#7201a8"
             ],
             [
              0.3333333333333333,
              "#9c179e"
             ],
             [
              0.4444444444444444,
              "#bd3786"
             ],
             [
              0.5555555555555556,
              "#d8576b"
             ],
             [
              0.6666666666666666,
              "#ed7953"
             ],
             [
              0.7777777777777778,
              "#fb9f3a"
             ],
             [
              0.8888888888888888,
              "#fdca26"
             ],
             [
              1,
              "#f0f921"
             ]
            ],
            "type": "heatmap"
           }
          ],
          "heatmapgl": [
           {
            "colorbar": {
             "outlinewidth": 0,
             "ticks": ""
            },
            "colorscale": [
             [
              0,
              "#0d0887"
             ],
             [
              0.1111111111111111,
              "#46039f"
             ],
             [
              0.2222222222222222,
              "#7201a8"
             ],
             [
              0.3333333333333333,
              "#9c179e"
             ],
             [
              0.4444444444444444,
              "#bd3786"
             ],
             [
              0.5555555555555556,
              "#d8576b"
             ],
             [
              0.6666666666666666,
              "#ed7953"
             ],
             [
              0.7777777777777778,
              "#fb9f3a"
             ],
             [
              0.8888888888888888,
              "#fdca26"
             ],
             [
              1,
              "#f0f921"
             ]
            ],
            "type": "heatmapgl"
           }
          ],
          "histogram": [
           {
            "marker": {
             "pattern": {
              "fillmode": "overlay",
              "size": 10,
              "solidity": 0.2
             }
            },
            "type": "histogram"
           }
          ],
          "histogram2d": [
           {
            "colorbar": {
             "outlinewidth": 0,
             "ticks": ""
            },
            "colorscale": [
             [
              0,
              "#0d0887"
             ],
             [
              0.1111111111111111,
              "#46039f"
             ],
             [
              0.2222222222222222,
              "#7201a8"
             ],
             [
              0.3333333333333333,
              "#9c179e"
             ],
             [
              0.4444444444444444,
              "#bd3786"
             ],
             [
              0.5555555555555556,
              "#d8576b"
             ],
             [
              0.6666666666666666,
              "#ed7953"
             ],
             [
              0.7777777777777778,
              "#fb9f3a"
             ],
             [
              0.8888888888888888,
              "#fdca26"
             ],
             [
              1,
              "#f0f921"
             ]
            ],
            "type": "histogram2d"
           }
          ],
          "histogram2dcontour": [
           {
            "colorbar": {
             "outlinewidth": 0,
             "ticks": ""
            },
            "colorscale": [
             [
              0,
              "#0d0887"
             ],
             [
              0.1111111111111111,
              "#46039f"
             ],
             [
              0.2222222222222222,
              "#7201a8"
             ],
             [
              0.3333333333333333,
              "#9c179e"
             ],
             [
              0.4444444444444444,
              "#bd3786"
             ],
             [
              0.5555555555555556,
              "#d8576b"
             ],
             [
              0.6666666666666666,
              "#ed7953"
             ],
             [
              0.7777777777777778,
              "#fb9f3a"
             ],
             [
              0.8888888888888888,
              "#fdca26"
             ],
             [
              1,
              "#f0f921"
             ]
            ],
            "type": "histogram2dcontour"
           }
          ],
          "mesh3d": [
           {
            "colorbar": {
             "outlinewidth": 0,
             "ticks": ""
            },
            "type": "mesh3d"
           }
          ],
          "parcoords": [
           {
            "line": {
             "colorbar": {
              "outlinewidth": 0,
              "ticks": ""
             }
            },
            "type": "parcoords"
           }
          ],
          "pie": [
           {
            "automargin": true,
            "type": "pie"
           }
          ],
          "scatter": [
           {
            "fillpattern": {
             "fillmode": "overlay",
             "size": 10,
             "solidity": 0.2
            },
            "type": "scatter"
           }
          ],
          "scatter3d": [
           {
            "line": {
             "colorbar": {
              "outlinewidth": 0,
              "ticks": ""
             }
            },
            "marker": {
             "colorbar": {
              "outlinewidth": 0,
              "ticks": ""
             }
            },
            "type": "scatter3d"
           }
          ],
          "scattercarpet": [
           {
            "marker": {
             "colorbar": {
              "outlinewidth": 0,
              "ticks": ""
             }
            },
            "type": "scattercarpet"
           }
          ],
          "scattergeo": [
           {
            "marker": {
             "colorbar": {
              "outlinewidth": 0,
              "ticks": ""
             }
            },
            "type": "scattergeo"
           }
          ],
          "scattergl": [
           {
            "marker": {
             "colorbar": {
              "outlinewidth": 0,
              "ticks": ""
             }
            },
            "type": "scattergl"
           }
          ],
          "scattermapbox": [
           {
            "marker": {
             "colorbar": {
              "outlinewidth": 0,
              "ticks": ""
             }
            },
            "type": "scattermapbox"
           }
          ],
          "scatterpolar": [
           {
            "marker": {
             "colorbar": {
              "outlinewidth": 0,
              "ticks": ""
             }
            },
            "type": "scatterpolar"
           }
          ],
          "scatterpolargl": [
           {
            "marker": {
             "colorbar": {
              "outlinewidth": 0,
              "ticks": ""
             }
            },
            "type": "scatterpolargl"
           }
          ],
          "scatterternary": [
           {
            "marker": {
             "colorbar": {
              "outlinewidth": 0,
              "ticks": ""
             }
            },
            "type": "scatterternary"
           }
          ],
          "surface": [
           {
            "colorbar": {
             "outlinewidth": 0,
             "ticks": ""
            },
            "colorscale": [
             [
              0,
              "#0d0887"
             ],
             [
              0.1111111111111111,
              "#46039f"
             ],
             [
              0.2222222222222222,
              "#7201a8"
             ],
             [
              0.3333333333333333,
              "#9c179e"
             ],
             [
              0.4444444444444444,
              "#bd3786"
             ],
             [
              0.5555555555555556,
              "#d8576b"
             ],
             [
              0.6666666666666666,
              "#ed7953"
             ],
             [
              0.7777777777777778,
              "#fb9f3a"
             ],
             [
              0.8888888888888888,
              "#fdca26"
             ],
             [
              1,
              "#f0f921"
             ]
            ],
            "type": "surface"
           }
          ],
          "table": [
           {
            "cells": {
             "fill": {
              "color": "#EBF0F8"
             },
             "line": {
              "color": "white"
             }
            },
            "header": {
             "fill": {
              "color": "#C8D4E3"
             },
             "line": {
              "color": "white"
             }
            },
            "type": "table"
           }
          ]
         },
         "layout": {
          "annotationdefaults": {
           "arrowcolor": "#2a3f5f",
           "arrowhead": 0,
           "arrowwidth": 1
          },
          "autotypenumbers": "strict",
          "coloraxis": {
           "colorbar": {
            "outlinewidth": 0,
            "ticks": ""
           }
          },
          "colorscale": {
           "diverging": [
            [
             0,
             "#8e0152"
            ],
            [
             0.1,
             "#c51b7d"
            ],
            [
             0.2,
             "#de77ae"
            ],
            [
             0.3,
             "#f1b6da"
            ],
            [
             0.4,
             "#fde0ef"
            ],
            [
             0.5,
             "#f7f7f7"
            ],
            [
             0.6,
             "#e6f5d0"
            ],
            [
             0.7,
             "#b8e186"
            ],
            [
             0.8,
             "#7fbc41"
            ],
            [
             0.9,
             "#4d9221"
            ],
            [
             1,
             "#276419"
            ]
           ],
           "sequential": [
            [
             0,
             "#0d0887"
            ],
            [
             0.1111111111111111,
             "#46039f"
            ],
            [
             0.2222222222222222,
             "#7201a8"
            ],
            [
             0.3333333333333333,
             "#9c179e"
            ],
            [
             0.4444444444444444,
             "#bd3786"
            ],
            [
             0.5555555555555556,
             "#d8576b"
            ],
            [
             0.6666666666666666,
             "#ed7953"
            ],
            [
             0.7777777777777778,
             "#fb9f3a"
            ],
            [
             0.8888888888888888,
             "#fdca26"
            ],
            [
             1,
             "#f0f921"
            ]
           ],
           "sequentialminus": [
            [
             0,
             "#0d0887"
            ],
            [
             0.1111111111111111,
             "#46039f"
            ],
            [
             0.2222222222222222,
             "#7201a8"
            ],
            [
             0.3333333333333333,
             "#9c179e"
            ],
            [
             0.4444444444444444,
             "#bd3786"
            ],
            [
             0.5555555555555556,
             "#d8576b"
            ],
            [
             0.6666666666666666,
             "#ed7953"
            ],
            [
             0.7777777777777778,
             "#fb9f3a"
            ],
            [
             0.8888888888888888,
             "#fdca26"
            ],
            [
             1,
             "#f0f921"
            ]
           ]
          },
          "colorway": [
           "#636efa",
           "#EF553B",
           "#00cc96",
           "#ab63fa",
           "#FFA15A",
           "#19d3f3",
           "#FF6692",
           "#B6E880",
           "#FF97FF",
           "#FECB52"
          ],
          "font": {
           "color": "#2a3f5f"
          },
          "geo": {
           "bgcolor": "white",
           "lakecolor": "white",
           "landcolor": "#E5ECF6",
           "showlakes": true,
           "showland": true,
           "subunitcolor": "white"
          },
          "hoverlabel": {
           "align": "left"
          },
          "hovermode": "closest",
          "mapbox": {
           "style": "light"
          },
          "paper_bgcolor": "white",
          "plot_bgcolor": "#E5ECF6",
          "polar": {
           "angularaxis": {
            "gridcolor": "white",
            "linecolor": "white",
            "ticks": ""
           },
           "bgcolor": "#E5ECF6",
           "radialaxis": {
            "gridcolor": "white",
            "linecolor": "white",
            "ticks": ""
           }
          },
          "scene": {
           "xaxis": {
            "backgroundcolor": "#E5ECF6",
            "gridcolor": "white",
            "gridwidth": 2,
            "linecolor": "white",
            "showbackground": true,
            "ticks": "",
            "zerolinecolor": "white"
           },
           "yaxis": {
            "backgroundcolor": "#E5ECF6",
            "gridcolor": "white",
            "gridwidth": 2,
            "linecolor": "white",
            "showbackground": true,
            "ticks": "",
            "zerolinecolor": "white"
           },
           "zaxis": {
            "backgroundcolor": "#E5ECF6",
            "gridcolor": "white",
            "gridwidth": 2,
            "linecolor": "white",
            "showbackground": true,
            "ticks": "",
            "zerolinecolor": "white"
           }
          },
          "shapedefaults": {
           "line": {
            "color": "#2a3f5f"
           }
          },
          "ternary": {
           "aaxis": {
            "gridcolor": "white",
            "linecolor": "white",
            "ticks": ""
           },
           "baxis": {
            "gridcolor": "white",
            "linecolor": "white",
            "ticks": ""
           },
           "bgcolor": "#E5ECF6",
           "caxis": {
            "gridcolor": "white",
            "linecolor": "white",
            "ticks": ""
           }
          },
          "title": {
           "x": 0.05
          },
          "xaxis": {
           "automargin": true,
           "gridcolor": "white",
           "linecolor": "white",
           "ticks": "",
           "title": {
            "standoff": 15
           },
           "zerolinecolor": "white",
           "zerolinewidth": 2
          },
          "yaxis": {
           "automargin": true,
           "gridcolor": "white",
           "linecolor": "white",
           "ticks": "",
           "title": {
            "standoff": 15
           },
           "zerolinecolor": "white",
           "zerolinewidth": 2
          }
         }
        },
        "title": {
         "text": "Resp"
        }
       }
      },
      "text/html": [
       "<div>                            <div id=\"5c18ac0f-20f4-4f78-8a39-ecafe7715b42\" class=\"plotly-graph-div\" style=\"height:525px; width:100%;\"></div>            <script type=\"text/javascript\">                require([\"plotly\"], function(Plotly) {                    window.PLOTLYENV=window.PLOTLYENV || {};                                    if (document.getElementById(\"5c18ac0f-20f4-4f78-8a39-ecafe7715b42\")) {                    Plotly.newPlot(                        \"5c18ac0f-20f4-4f78-8a39-ecafe7715b42\",                        [{\"y\":[-0.5550075519071932,-0.5550075519071932,-0.5535155961224963,-0.5535155961224963,-0.5535155961224963,-0.5520236403377996,-0.5535155961224963,-0.5535155961224963,-0.5564995076918899,-0.5550075519071932,-0.5579914634765867,-0.5550075519071932,-0.5520236403377996,-0.5535155961224963,-0.5520236403377996,-0.5535155961224963,-0.5535155961224963,-0.5564995076918899,-0.5564995076918899,-0.5535155961224963,-0.5535155961224963,-0.5535155961224963,-0.5535155961224963,-0.5520236403377996,-0.5535155961224963,-0.5564995076918899,-0.5550075519071932,-0.5520236403377996,-0.5535155961224963,-0.5520236403377996,-0.5535155961224963,-0.5535155961224963,-0.5550075519071932,-0.5520236403377996,-0.5550075519071932,-0.5535155961224963,-0.5535155961224963,-0.5535155961224963,-0.5505316845531029,-0.5535155961224963,-0.5550075519071932,-0.5579914634765867,-0.5535155961224963,-0.5564995076918899,-0.5505316845531029,-0.5535155961224963,-0.5520236403377996,-0.5550075519071932,-0.5535155961224963,-0.5550075519071932,-0.5535155961224963,-0.5564995076918899,-0.5564995076918899,-0.5505316845531029,-0.5550075519071932,-0.5520236403377996,-0.5535155961224963,-0.5550075519071932,-0.5550075519071932,-0.5535155961224963,-0.5550075519071932,-0.5535155961224963,-0.5535155961224963,-0.5535155961224963,-0.5520236403377996,-0.5520236403377996,-0.5535155961224963,-0.5564995076918899,-0.5550075519071932,-0.5550075519071932,-0.5535155961224963,-0.5505316845531029,-0.5535155961224963,-0.5535155961224963,-0.5535155961224963,-0.5550075519071932,-0.5535155961224963,-0.5550075519071932,-0.5535155961224963,-0.5520236403377996,-0.5535155961224963,-0.5535155961224963,-0.5520236403377996,-0.5535155961224963,-0.5550075519071932,-0.5564995076918899,-0.5535155961224963,-0.5535155961224963,-0.5505316845531029,-0.5505316845531029,-0.5550075519071932,-0.5535155961224963,-0.5550075519071932,-0.5550075519071932,-0.5535155961224963,-0.5535155961224963,-0.5535155961224963,-0.5520236403377996,-0.5564995076918899,-0.5550075519071932,-0.5550075519071932,-0.5564995076918899,-0.5550075519071932,-0.5550075519071932,-0.5535155961224963,-0.5475477729837094,-0.5520236403377996,-0.5490397287684061,-0.5535155961224963,-0.5550075519071932,-0.5535155961224963,-0.5535155961224963,-0.5535155961224963,-0.5564995076918899,-0.5535155961224963,-0.5550075519071932,-0.5535155961224963,-0.5564995076918899,-0.5564995076918899,-0.5535155961224963,-0.5535155961224963,-0.5505316845531029,-0.5505316845531029,-0.5535155961224963,-0.5564995076918899,-0.5564995076918899,-0.5579914634765867,-0.5550075519071932,-0.5520236403377996,-0.5535155961224963,-0.5505316845531029,-0.5535155961224963,-0.5550075519071932,-0.5535155961224963,-0.5579914634765867,-0.5535155961224963,-0.5535155961224963,-0.5505316845531029,-0.5535155961224963,-0.5550075519071932,-0.5535155961224963,-0.5535155961224963,-0.5535155961224963,-0.5550075519071932,-0.5505316845531029,-0.5535155961224963,-0.5505316845531029,-0.5520236403377996,-0.5535155961224963,-0.5520236403377996,-0.5564995076918899,-0.5564995076918899,-0.5550075519071932,-0.5535155961224963,-0.5535155961224963,-0.5505316845531029,-0.5535155961224963,-0.5550075519071932,-0.5550075519071932,-0.5550075519071932,-0.5505316845531029,-0.5550075519071932,-0.5520236403377996,-0.5505316845531029,-0.5535155961224963,-0.5535155961224963,-0.5564995076918899,-0.5520236403377996,-0.5550075519071932,-0.5564995076918899,-0.5535155961224963,-0.5520236403377996,-0.5535155961224963,-0.5535155961224963,-0.5550075519071932,-0.5550075519071932,-0.5564995076918899,-0.5535155961224963,-0.5535155961224963,-0.5535155961224963,-0.5535155961224963,-0.5520236403377996,-0.5550075519071932,-0.5550075519071932,-0.5550075519071932,-0.5564995076918899,-0.5550075519071932,-0.5550075519071932,-0.5535155961224963,-0.5535155961224963,-0.5535155961224963,-0.5564995076918899,-0.5520236403377996,-0.5550075519071932,-0.5535155961224963,-0.5520236403377996,-0.5520236403377996,-0.5520236403377996,-0.5520236403377996,-0.5535155961224963,-0.5550075519071932,-0.5535155961224963,-0.5535155961224963,-0.5520236403377996,-0.5535155961224963,-0.5520236403377996,-0.5535155961224963,-0.5550075519071932,-0.5520236403377996,-0.5520236403377996,-0.5550075519071932,-0.5520236403377996,-0.5520236403377996,-0.5535155961224963,-0.5535155961224963,-0.5520236403377996,-0.5535155961224963,-0.5550075519071932,-0.5564995076918899,-0.5564995076918899,-0.5520236403377996,-0.5535155961224963,-0.5550075519071932,-0.5550075519071932,-0.5520236403377996,-0.5535155961224963,-0.5520236403377996,-0.5535155961224963,-0.5535155961224963,-0.5535155961224963,-0.5505316845531029,-0.5535155961224963,-0.5535155961224963,-0.5550075519071932,-0.5564995076918899,-0.5550075519071932,-0.5564995076918899,-0.5520236403377996,-0.5535155961224963,-0.5535155961224963,-0.5535155961224963,-0.5550075519071932,-0.5535155961224963,-0.5535155961224963,-0.5535155961224963,-0.5520236403377996,-0.5505316845531029,-0.5520236403377996,-0.5535155961224963,-0.5520236403377996,-0.5535155961224963,-0.5550075519071932,-0.5535155961224963,-0.5535155961224963,-0.5535155961224963,-0.5520236403377996,-0.5535155961224963,-0.5535155961224963,-0.5535155961224963,-0.5550075519071932,-0.5564995076918899,-0.5535155961224963,-0.5535155961224963,-0.5535155961224963,-0.5505316845531029,-0.5550075519071932,-0.5550075519071932,-0.5550075519071932,-0.5550075519071932,-0.5535155961224963,-0.5550075519071932,-0.5520236403377996,-0.5535155961224963,-0.5550075519071932,-0.5550075519071932,-0.5550075519071932,-0.5550075519071932,-0.5535155961224963,-0.5535155961224963,-0.5505316845531029,-0.5535155961224963,-0.5550075519071932,-0.5520236403377996,-0.5550075519071932,-0.5579914634765867,-0.5564995076918899,-0.5535155961224963,-0.5535155961224963,-0.5520236403377996,-0.5505316845531029,-0.5550075519071932,-0.5550075519071932,-0.5564995076918899,-0.5550075519071932,-0.5520236403377996,-0.5550075519071932,-0.5535155961224963,-0.5535155961224963,-0.5535155961224963,-0.5550075519071932,-0.5535155961224963,-0.5550075519071932,-0.5550075519071932,-0.5535155961224963,-0.5535155961224963,-0.5535155961224963,-0.5535155961224963,-0.5535155961224963,-0.5550075519071932,-0.5564995076918899,-0.5550075519071932,-0.5535155961224963,-0.5505316845531029,-0.5535155961224963,-0.5520236403377996,-0.5535155961224963,-0.5550075519071932,-0.5535155961224963,-0.5535155961224963,-0.5550075519071932,-0.5535155961224963,-0.5520236403377996,-0.5564995076918899,-0.5535155961224963,-0.5564995076918899,-0.5550075519071932,-0.5550075519071932,-0.5535155961224963,-0.5550075519071932,-0.5535155961224963,-0.5535155961224963,-0.5535155961224963,-0.5535155961224963,-0.5535155961224963,-0.5550075519071932,-0.5535155961224963,-0.5535155961224963,-0.5535155961224963,-0.5550075519071932,-0.5535155961224963,-0.5550075519071932,-0.5564995076918899,-0.5550075519071932,-0.5564995076918899,-0.5564995076918899,-0.5520236403377996,-0.5535155961224963,-0.5535155961224963,-0.5535155961224963,-0.5535155961224963,-0.5550075519071932,-0.5550075519071932,-0.5550075519071932,-0.5564995076918899,-0.5535155961224963,-0.5535155961224963,-0.5550075519071932,-0.5550075519071932,-0.5535155961224963,-0.5550075519071932,-0.5564995076918899,-0.5550075519071932,-0.5535155961224963,-0.5535155961224963,-0.5505316845531029,-0.5550075519071932,-0.5564995076918899,-0.5550075519071932,-0.5564995076918899,-0.5535155961224963,-0.5550075519071932,-0.5535155961224963,-0.5535155961224963,-0.5550075519071932,-0.5550075519071932,-0.5564995076918899,-0.5550075519071932,-0.5550075519071932,-0.5550075519071932,-0.5535155961224963,-0.5535155961224963,-0.5535155961224963,-0.5535155961224963,-0.5564995076918899,-0.5564995076918899,-0.5535155961224963,-0.5550075519071932,-0.5535155961224963,-0.5564995076918899,-0.5550075519071932,-0.5520236403377996,-0.5550075519071932,-0.5550075519071932,-0.5564995076918899,-0.5550075519071932,-0.5550075519071932,-0.5550075519071932,-0.5535155961224963,-0.5520236403377996,-0.5550075519071932,-0.5550075519071932,-0.5579914634765867,-0.5550075519071932,-0.5535155961224963,-0.5564995076918899,-0.5535155961224963,-0.5535155961224963,-0.5535155961224963,-0.5535155961224963,-0.5564995076918899,-0.5550075519071932,-0.5550075519071932,-0.5535155961224963,-0.5550075519071932,-0.5550075519071932,-0.5550075519071932,-0.5550075519071932,-0.5564995076918899,-0.5535155961224963,-0.5550075519071932,-0.5550075519071932,-0.5535155961224963,-0.5535155961224963,-0.5550075519071932,-0.5550075519071932,-0.5535155961224963,-0.5550075519071932,-0.5550075519071932,-0.5550075519071932,-0.5550075519071932,-0.5535155961224963,-0.5535155961224963,-0.5535155961224963,-0.5550075519071932,-0.5564995076918899,-0.5564995076918899,-0.5520236403377996,-0.5564995076918899,-0.5505316845531029,-0.5520236403377996,-0.5520236403377996,-0.5535155961224963,-0.5550075519071932,-0.5550075519071932,-0.5535155961224963,-0.5520236403377996,-0.5520236403377996,-0.5505316845531029,-0.5535155961224963,-0.5535155961224963,-0.5564995076918899,-0.5535155961224963,-0.5535155961224963,-0.5550075519071932,-0.5520236403377996,-0.5520236403377996,-0.5505316845531029,-0.5535155961224963,-0.5505316845531029,-0.5535155961224963,-0.5520236403377996,-0.5505316845531029,-0.5520236403377996,-0.5520236403377996,-0.5505316845531029,-0.5505316845531029,-0.5505316845531029,-0.5535155961224963,-0.5505316845531029,-0.5505316845531029,-0.5490397287684061,-0.5490397287684061,-0.5475477729837094,-0.5460558171990126,-0.5535155961224963,-0.5535155961224963,-0.5520236403377996,-0.5520236403377996,-0.5520236403377996,-0.5475477729837094,-0.5490397287684061,-0.5475477729837094,-0.5475477729837094,-0.5490397287684061,-0.5505316845531029,-0.5490397287684061,-0.5460558171990126,-0.5475477729837094,-0.5460558171990126,-0.5505316845531029,-0.5460558171990126,-0.5475477729837094,-0.5475477729837094,-0.5490397287684061,-0.5475477729837094,-0.5460558171990126,-0.5415799498449223,-0.5460558171990126,-0.5460558171990126,-0.5460558171990126],\"type\":\"scatter\"}],                        {\"template\":{\"data\":{\"barpolar\":[{\"marker\":{\"line\":{\"color\":\"#E5ECF6\",\"width\":0.5},\"pattern\":{\"fillmode\":\"overlay\",\"size\":10,\"solidity\":0.2}},\"type\":\"barpolar\"}],\"bar\":[{\"error_x\":{\"color\":\"#2a3f5f\"},\"error_y\":{\"color\":\"#2a3f5f\"},\"marker\":{\"line\":{\"color\":\"#E5ECF6\",\"width\":0.5},\"pattern\":{\"fillmode\":\"overlay\",\"size\":10,\"solidity\":0.2}},\"type\":\"bar\"}],\"carpet\":[{\"aaxis\":{\"endlinecolor\":\"#2a3f5f\",\"gridcolor\":\"white\",\"linecolor\":\"white\",\"minorgridcolor\":\"white\",\"startlinecolor\":\"#2a3f5f\"},\"baxis\":{\"endlinecolor\":\"#2a3f5f\",\"gridcolor\":\"white\",\"linecolor\":\"white\",\"minorgridcolor\":\"white\",\"startlinecolor\":\"#2a3f5f\"},\"type\":\"carpet\"}],\"choropleth\":[{\"colorbar\":{\"outlinewidth\":0,\"ticks\":\"\"},\"type\":\"choropleth\"}],\"contourcarpet\":[{\"colorbar\":{\"outlinewidth\":0,\"ticks\":\"\"},\"type\":\"contourcarpet\"}],\"contour\":[{\"colorbar\":{\"outlinewidth\":0,\"ticks\":\"\"},\"colorscale\":[[0.0,\"#0d0887\"],[0.1111111111111111,\"#46039f\"],[0.2222222222222222,\"#7201a8\"],[0.3333333333333333,\"#9c179e\"],[0.4444444444444444,\"#bd3786\"],[0.5555555555555556,\"#d8576b\"],[0.6666666666666666,\"#ed7953\"],[0.7777777777777778,\"#fb9f3a\"],[0.8888888888888888,\"#fdca26\"],[1.0,\"#f0f921\"]],\"type\":\"contour\"}],\"heatmapgl\":[{\"colorbar\":{\"outlinewidth\":0,\"ticks\":\"\"},\"colorscale\":[[0.0,\"#0d0887\"],[0.1111111111111111,\"#46039f\"],[0.2222222222222222,\"#7201a8\"],[0.3333333333333333,\"#9c179e\"],[0.4444444444444444,\"#bd3786\"],[0.5555555555555556,\"#d8576b\"],[0.6666666666666666,\"#ed7953\"],[0.7777777777777778,\"#fb9f3a\"],[0.8888888888888888,\"#fdca26\"],[1.0,\"#f0f921\"]],\"type\":\"heatmapgl\"}],\"heatmap\":[{\"colorbar\":{\"outlinewidth\":0,\"ticks\":\"\"},\"colorscale\":[[0.0,\"#0d0887\"],[0.1111111111111111,\"#46039f\"],[0.2222222222222222,\"#7201a8\"],[0.3333333333333333,\"#9c179e\"],[0.4444444444444444,\"#bd3786\"],[0.5555555555555556,\"#d8576b\"],[0.6666666666666666,\"#ed7953\"],[0.7777777777777778,\"#fb9f3a\"],[0.8888888888888888,\"#fdca26\"],[1.0,\"#f0f921\"]],\"type\":\"heatmap\"}],\"histogram2dcontour\":[{\"colorbar\":{\"outlinewidth\":0,\"ticks\":\"\"},\"colorscale\":[[0.0,\"#0d0887\"],[0.1111111111111111,\"#46039f\"],[0.2222222222222222,\"#7201a8\"],[0.3333333333333333,\"#9c179e\"],[0.4444444444444444,\"#bd3786\"],[0.5555555555555556,\"#d8576b\"],[0.6666666666666666,\"#ed7953\"],[0.7777777777777778,\"#fb9f3a\"],[0.8888888888888888,\"#fdca26\"],[1.0,\"#f0f921\"]],\"type\":\"histogram2dcontour\"}],\"histogram2d\":[{\"colorbar\":{\"outlinewidth\":0,\"ticks\":\"\"},\"colorscale\":[[0.0,\"#0d0887\"],[0.1111111111111111,\"#46039f\"],[0.2222222222222222,\"#7201a8\"],[0.3333333333333333,\"#9c179e\"],[0.4444444444444444,\"#bd3786\"],[0.5555555555555556,\"#d8576b\"],[0.6666666666666666,\"#ed7953\"],[0.7777777777777778,\"#fb9f3a\"],[0.8888888888888888,\"#fdca26\"],[1.0,\"#f0f921\"]],\"type\":\"histogram2d\"}],\"histogram\":[{\"marker\":{\"pattern\":{\"fillmode\":\"overlay\",\"size\":10,\"solidity\":0.2}},\"type\":\"histogram\"}],\"mesh3d\":[{\"colorbar\":{\"outlinewidth\":0,\"ticks\":\"\"},\"type\":\"mesh3d\"}],\"parcoords\":[{\"line\":{\"colorbar\":{\"outlinewidth\":0,\"ticks\":\"\"}},\"type\":\"parcoords\"}],\"pie\":[{\"automargin\":true,\"type\":\"pie\"}],\"scatter3d\":[{\"line\":{\"colorbar\":{\"outlinewidth\":0,\"ticks\":\"\"}},\"marker\":{\"colorbar\":{\"outlinewidth\":0,\"ticks\":\"\"}},\"type\":\"scatter3d\"}],\"scattercarpet\":[{\"marker\":{\"colorbar\":{\"outlinewidth\":0,\"ticks\":\"\"}},\"type\":\"scattercarpet\"}],\"scattergeo\":[{\"marker\":{\"colorbar\":{\"outlinewidth\":0,\"ticks\":\"\"}},\"type\":\"scattergeo\"}],\"scattergl\":[{\"marker\":{\"colorbar\":{\"outlinewidth\":0,\"ticks\":\"\"}},\"type\":\"scattergl\"}],\"scattermapbox\":[{\"marker\":{\"colorbar\":{\"outlinewidth\":0,\"ticks\":\"\"}},\"type\":\"scattermapbox\"}],\"scatterpolargl\":[{\"marker\":{\"colorbar\":{\"outlinewidth\":0,\"ticks\":\"\"}},\"type\":\"scatterpolargl\"}],\"scatterpolar\":[{\"marker\":{\"colorbar\":{\"outlinewidth\":0,\"ticks\":\"\"}},\"type\":\"scatterpolar\"}],\"scatter\":[{\"fillpattern\":{\"fillmode\":\"overlay\",\"size\":10,\"solidity\":0.2},\"type\":\"scatter\"}],\"scatterternary\":[{\"marker\":{\"colorbar\":{\"outlinewidth\":0,\"ticks\":\"\"}},\"type\":\"scatterternary\"}],\"surface\":[{\"colorbar\":{\"outlinewidth\":0,\"ticks\":\"\"},\"colorscale\":[[0.0,\"#0d0887\"],[0.1111111111111111,\"#46039f\"],[0.2222222222222222,\"#7201a8\"],[0.3333333333333333,\"#9c179e\"],[0.4444444444444444,\"#bd3786\"],[0.5555555555555556,\"#d8576b\"],[0.6666666666666666,\"#ed7953\"],[0.7777777777777778,\"#fb9f3a\"],[0.8888888888888888,\"#fdca26\"],[1.0,\"#f0f921\"]],\"type\":\"surface\"}],\"table\":[{\"cells\":{\"fill\":{\"color\":\"#EBF0F8\"},\"line\":{\"color\":\"white\"}},\"header\":{\"fill\":{\"color\":\"#C8D4E3\"},\"line\":{\"color\":\"white\"}},\"type\":\"table\"}]},\"layout\":{\"annotationdefaults\":{\"arrowcolor\":\"#2a3f5f\",\"arrowhead\":0,\"arrowwidth\":1},\"autotypenumbers\":\"strict\",\"coloraxis\":{\"colorbar\":{\"outlinewidth\":0,\"ticks\":\"\"}},\"colorscale\":{\"diverging\":[[0,\"#8e0152\"],[0.1,\"#c51b7d\"],[0.2,\"#de77ae\"],[0.3,\"#f1b6da\"],[0.4,\"#fde0ef\"],[0.5,\"#f7f7f7\"],[0.6,\"#e6f5d0\"],[0.7,\"#b8e186\"],[0.8,\"#7fbc41\"],[0.9,\"#4d9221\"],[1,\"#276419\"]],\"sequential\":[[0.0,\"#0d0887\"],[0.1111111111111111,\"#46039f\"],[0.2222222222222222,\"#7201a8\"],[0.3333333333333333,\"#9c179e\"],[0.4444444444444444,\"#bd3786\"],[0.5555555555555556,\"#d8576b\"],[0.6666666666666666,\"#ed7953\"],[0.7777777777777778,\"#fb9f3a\"],[0.8888888888888888,\"#fdca26\"],[1.0,\"#f0f921\"]],\"sequentialminus\":[[0.0,\"#0d0887\"],[0.1111111111111111,\"#46039f\"],[0.2222222222222222,\"#7201a8\"],[0.3333333333333333,\"#9c179e\"],[0.4444444444444444,\"#bd3786\"],[0.5555555555555556,\"#d8576b\"],[0.6666666666666666,\"#ed7953\"],[0.7777777777777778,\"#fb9f3a\"],[0.8888888888888888,\"#fdca26\"],[1.0,\"#f0f921\"]]},\"colorway\":[\"#636efa\",\"#EF553B\",\"#00cc96\",\"#ab63fa\",\"#FFA15A\",\"#19d3f3\",\"#FF6692\",\"#B6E880\",\"#FF97FF\",\"#FECB52\"],\"font\":{\"color\":\"#2a3f5f\"},\"geo\":{\"bgcolor\":\"white\",\"lakecolor\":\"white\",\"landcolor\":\"#E5ECF6\",\"showlakes\":true,\"showland\":true,\"subunitcolor\":\"white\"},\"hoverlabel\":{\"align\":\"left\"},\"hovermode\":\"closest\",\"mapbox\":{\"style\":\"light\"},\"paper_bgcolor\":\"white\",\"plot_bgcolor\":\"#E5ECF6\",\"polar\":{\"angularaxis\":{\"gridcolor\":\"white\",\"linecolor\":\"white\",\"ticks\":\"\"},\"bgcolor\":\"#E5ECF6\",\"radialaxis\":{\"gridcolor\":\"white\",\"linecolor\":\"white\",\"ticks\":\"\"}},\"scene\":{\"xaxis\":{\"backgroundcolor\":\"#E5ECF6\",\"gridcolor\":\"white\",\"gridwidth\":2,\"linecolor\":\"white\",\"showbackground\":true,\"ticks\":\"\",\"zerolinecolor\":\"white\"},\"yaxis\":{\"backgroundcolor\":\"#E5ECF6\",\"gridcolor\":\"white\",\"gridwidth\":2,\"linecolor\":\"white\",\"showbackground\":true,\"ticks\":\"\",\"zerolinecolor\":\"white\"},\"zaxis\":{\"backgroundcolor\":\"#E5ECF6\",\"gridcolor\":\"white\",\"gridwidth\":2,\"linecolor\":\"white\",\"showbackground\":true,\"ticks\":\"\",\"zerolinecolor\":\"white\"}},\"shapedefaults\":{\"line\":{\"color\":\"#2a3f5f\"}},\"ternary\":{\"aaxis\":{\"gridcolor\":\"white\",\"linecolor\":\"white\",\"ticks\":\"\"},\"baxis\":{\"gridcolor\":\"white\",\"linecolor\":\"white\",\"ticks\":\"\"},\"bgcolor\":\"#E5ECF6\",\"caxis\":{\"gridcolor\":\"white\",\"linecolor\":\"white\",\"ticks\":\"\"}},\"title\":{\"x\":0.05},\"xaxis\":{\"automargin\":true,\"gridcolor\":\"white\",\"linecolor\":\"white\",\"ticks\":\"\",\"title\":{\"standoff\":15},\"zerolinecolor\":\"white\",\"zerolinewidth\":2},\"yaxis\":{\"automargin\":true,\"gridcolor\":\"white\",\"linecolor\":\"white\",\"ticks\":\"\",\"title\":{\"standoff\":15},\"zerolinecolor\":\"white\",\"zerolinewidth\":2}}},\"title\":{\"text\":\"Resp\"}},                        {\"responsive\": true}                    ).then(function(){\n",
       "                            \n",
       "var gd = document.getElementById('5c18ac0f-20f4-4f78-8a39-ecafe7715b42');\n",
       "var x = new MutationObserver(function (mutations, observer) {{\n",
       "        var display = window.getComputedStyle(gd).display;\n",
       "        if (!display || display === 'none') {{\n",
       "            console.log([gd, 'removed!']);\n",
       "            Plotly.purge(gd);\n",
       "            observer.disconnect();\n",
       "        }}\n",
       "}});\n",
       "\n",
       "// Listen for the removal of the full notebook cells\n",
       "var notebookContainer = gd.closest('#notebook-container');\n",
       "if (notebookContainer) {{\n",
       "    x.observe(notebookContainer, {childList: true});\n",
       "}}\n",
       "\n",
       "// Listen for the clearing of the current output cell\n",
       "var outputEl = gd.closest('.output');\n",
       "if (outputEl) {{\n",
       "    x.observe(outputEl, {childList: true});\n",
       "}}\n",
       "\n",
       "                        })                };                });            </script>        </div>"
      ]
     },
     "metadata": {},
     "output_type": "display_data"
    }
   ],
   "source": [
    "import plotly as py\n",
    "import plotly.offline as pyoff\n",
    "import plotly.graph_objs as go\n",
    "\n",
    "plot_data = [\n",
    "    go.Scatter(\n",
    "        y=resp,\n",
    "    )\n",
    "]\n",
    "plot_layout = go.Layout(\n",
    "        title='Resp'\n",
    "    )\n",
    "fig = go.Figure(data=plot_data, layout=plot_layout)\n",
    "pyoff.iplot(fig)"
   ]
  },
  {
   "cell_type": "code",
   "execution_count": 62,
   "id": "30fd6885",
   "metadata": {
    "scrolled": true
   },
   "outputs": [
    {
     "data": {
      "application/vnd.plotly.v1+json": {
       "config": {
        "linkText": "Export to plot.ly",
        "plotlyServerURL": "https://plot.ly",
        "showLink": false
       },
       "data": [
        {
         "type": "scatter",
         "y": [
          -0.019983521088922047,
          -0.019983521088922047,
          -0.014987640816691536,
          -0.004995880272230512,
          -0.004995880272230512,
          -0.004995880272230512,
          0,
          0,
          0.004995880272230512,
          0.004995880272230512,
          0,
          -0.004995880272230512,
          -0.009991760544461024,
          -0.024979401361152558,
          -0.02997528163338307,
          -0.039967042177844095,
          -0.044962922450074605,
          -0.044962922450074605,
          -0.034971161905613585,
          -0.019983521088922047,
          -0.004995880272230512,
          0.009991760544461024,
          0.034971161905613585,
          0.044962922450074605,
          0.054954682994535625,
          0.044962922450074605,
          0.044962922450074605,
          0.044962922450074605,
          0.044962922450074605,
          0.039967042177844095,
          0.034971161905613585,
          0.02997528163338307,
          0.02997528163338307,
          0.024979401361152558,
          -0.009991760544461024,
          -0.09367275510432209,
          -0.1835986000044713,
          -0.15487228843914586,
          0.08617893469597633,
          0.4696127455896681,
          0.8043367238291124,
          0.9080012394778955,
          0.7081660285886751,
          0.37094411021311546,
          0.08992584490014921,
          -0.04246498231395935,
          -0.06994232381122717,
          -0.054954682994535625,
          -0.044962922450074605,
          -0.044962922450074605,
          -0.044962922450074605,
          -0.044962922450074605,
          -0.044962922450074605,
          -0.049958802722305115,
          -0.054954682994535625,
          -0.054954682994535625,
          -0.054954682994535625,
          -0.05995056326676614,
          -0.06494644353899665,
          -0.06994232381122717,
          -0.07493820408345768,
          -0.07493820408345768,
          -0.07993408435568819,
          -0.08992584490014921,
          -0.09492172517237972,
          -0.09991760544461023,
          -0.10990936598907125,
          -0.11990112653353228,
          -0.1298928870779933,
          -0.13988464762245434,
          -0.14987640816691536,
          -0.15986816871137638,
          -0.1698599292558374,
          -0.1748558095280679,
          -0.18484757007252894,
          -0.18984345034475944,
          -0.19983521088922046,
          -0.19983521088922046,
          -0.19983521088922046,
          -0.20483109116145098,
          -0.20982697143368148,
          -0.20483109116145098,
          -0.20483109116145098,
          -0.19983521088922046,
          -0.18984345034475944,
          -0.17610477959612553,
          -0.151125378234973,
          -0.1211500966015899,
          -0.10116657551266786,
          -0.08118305442374582,
          -0.061199533334823766,
          -0.044962922450074605,
          -0.039967042177844095,
          -0.034971161905613585,
          -0.019983521088922047,
          -0.014987640816691536,
          -0.004995880272230512,
          -0.004995880272230512,
          -0.004995880272230512,
          -0.004995880272230512,
          0,
          0.004995880272230512,
          0.004995880272230512,
          0.004995880272230512,
          0.004995880272230512,
          0,
          -0.004995880272230512,
          -0.014987640816691536,
          -0.024979401361152558,
          -0.034971161905613585,
          -0.039967042177844095,
          -0.039967042177844095,
          -0.034971161905613585,
          -0.02997528163338307,
          -0.019983521088922047,
          -0.006244850340288139,
          0.01873455102086442,
          0.038718072109786464,
          0.044962922450074605,
          0.049958802722305115,
          0.049958802722305115,
          0.049958802722305115,
          0.044962922450074605,
          0.039967042177844095,
          0.039967042177844095,
          0.034971161905613585,
          0.02997528163338307,
          0.02997528163338307,
          0.01623661088474916,
          -0.03746910204172884,
          -0.1298928870779933,
          -0.2010841809572781,
          -0.11490524626130177,
          0.16486404898360688,
          0.5495468299453563,
          0.8355609755305531,
          0.8542955265514175,
          0.6094973932121224,
          0.2872631156532544,
          0.05245674285842037,
          -0.049958802722305115,
          -0.06494644353899665,
          -0.054954682994535625,
          -0.044962922450074605,
          -0.044962922450074605,
          -0.044962922450074605,
          -0.044962922450074605,
          -0.044962922450074605,
          -0.044962922450074605,
          -0.049958802722305115,
          -0.054954682994535625,
          -0.05995056326676614,
          -0.05995056326676614,
          -0.05995056326676614,
          -0.06494644353899665,
          -0.06994232381122717,
          -0.06994232381122717,
          -0.07493820408345768,
          -0.0849299646279187,
          -0.09492172517237972,
          -0.09991760544461023,
          -0.10491348571684074,
          -0.11490524626130177,
          -0.1248970068057628,
          -0.13488876735022381,
          -0.14488052789468484,
          -0.15487228843914586,
          -0.15986816871137638,
          -0.16486404898360688,
          -0.1748558095280679,
          -0.17985168980029842,
          -0.18484757007252894,
          -0.18984345034475944,
          -0.18984345034475944,
          -0.18984345034475944,
          -0.18984345034475944,
          -0.19483933061698996,
          -0.18984345034475944,
          -0.18110065986835605,
          -0.1661130190516645,
          -0.1561212585072035,
          -0.13239082721410855,
          -0.107411425852956,
          -0.08617893469597633,
          -0.06619541360705428,
          -0.051207772790362746,
          -0.04121601224590172,
          -0.026228371429210185,
          -0.019983521088922047,
          -0.014987640816691536,
          -0.006244850340288139,
          0,
          0.004995880272230512,
          0.004995880272230512,
          0.004995880272230512,
          0.004995880272230512,
          0.004995880272230512,
          0.004995880272230512,
          0.009991760544461024,
          0.004995880272230512,
          -0.003746910204172884,
          -0.009991760544461024,
          -0.01873455102086442,
          -0.028726311565325444,
          -0.038718072109786464,
          -0.044962922450074605,
          -0.039967042177844095,
          -0.026228371429210185,
          -0.011240730612518651,
          -0.001248970068057628,
          0.01873455102086442,
          0.04246498231395935,
          0.053705712926478,
          0.049958802722305115,
          0.044962922450074605,
          0.049958802722305115,
          0.049958802722305115,
          0.044962922450074605,
          0.044962922450074605,
          0.03622013197367121,
          0.02997528163338307,
          0.02997528163338307,
          0.01623661088474916,
          -0.026228371429210185,
          -0.11240730612518651,
          -0.1748558095280679,
          -0.11115833605712888,
          0.13114185714605092,
          0.473359655793841,
          0.7643696816512683,
          0.8305650952583226,
          0.6357257646413326,
          0.3284791278991561,
          0.08243202449180344,
          -0.039967042177844095,
          -0.06369747347093903,
          -0.051207772790362746,
          -0.04121601224590172,
          -0.039967042177844095,
          -0.044962922450074605,
          -0.044962922450074605,
          -0.044962922450074605,
          -0.044962922450074605,
          -0.044962922450074605,
          -0.044962922450074605,
          -0.049958802722305115,
          -0.05870159319870851,
          -0.06494644353899665,
          -0.06494644353899665,
          -0.06494644353899665,
          -0.06994232381122717,
          -0.07493820408345768,
          -0.07993408435568819,
          -0.0849299646279187,
          -0.09367275510432209,
          -0.10366451564878312,
          -0.11365627619324414,
          -0.11990112653353228,
          -0.1286439170099357,
          -0.1436315578266272,
          -0.14987640816691536,
          -0.15487228843914586,
          -0.16361507891554924,
          -0.1736068394600103,
          -0.17985168980029842,
          -0.17985168980029842,
          -0.17985168980029842,
          -0.18484757007252894,
          -0.18484757007252894,
          -0.18110065986835605,
          -0.17985168980029842,
          -0.17610477959612553,
          -0.17110889932389503,
          -0.1561212585072035,
          -0.14113361769051194,
          -0.12239906666964753,
          -0.09741966530849498,
          -0.07244026394734242,
          -0.05245674285842037,
          -0.03622013197367121,
          -0.021232491156979675,
          -0.011240730612518651,
          -0.004995880272230512,
          0.003746910204172884,
          0.004995880272230512,
          0.004995880272230512,
          0.004995880272230512,
          0.004995880272230512,
          0.004995880272230512,
          0.004995880272230512,
          0.009991760544461024,
          0.01873455102086442,
          0.019983521088922047,
          0.019983521088922047,
          0.011240730612518651,
          0.001248970068057628,
          -0.008742790476403396,
          -0.01873455102086442,
          -0.024979401361152558,
          -0.02997528163338307,
          -0.034971161905613585,
          -0.02997528163338307,
          -0.01623661088474916,
          -0.006244850340288139,
          0,
          0.022481461225037302,
          0.04246498231395935,
          0.053705712926478,
          0.054954682994535625,
          0.046211892518132236,
          0.044962922450074605,
          0.044962922450074605,
          0.044962922450074605,
          0.044962922450074605,
          0.044962922450074605,
          0.03622013197367121,
          0.026228371429210185,
          0.012489700680576279,
          -0.033722191837555954,
          -0.12239906666964753,
          -0.1923413904808747,
          -0.10366451564878312,
          0.17110889932389503,
          0.5408040394689528,
          0.8168264245096887,
          0.8193243646458039,
          0.5757752013745665,
          0.2572878340198714,
          0.03622013197367121,
          -0.046211892518132236,
          -0.054954682994535625,
          -0.04246498231395935,
          -0.03622013197367121,
          -0.034971161905613585,
          -0.043713952382016974,
          -0.044962922450074605,
          -0.04121601224590172,
          -0.043713952382016974,
          -0.044962922450074605,
          -0.04870983265424749,
          -0.049958802722305115,
          -0.053705712926478,
          -0.05870159319870851,
          -0.05995056326676614,
          -0.05995056326676614,
          -0.06369747347093903,
          -0.06869335374316954,
          -0.07868511428763056,
          -0.08867687483209158,
          -0.0986686353765526,
          -0.10866039592101363,
          -0.11490524626130177,
          -0.11990112653353228,
          -0.1286439170099357,
          -0.14238258775856957,
          -0.14987640816691536,
          -0.15487228843914586,
          -0.15986816871137638,
          -0.16486404898360688,
          -0.1736068394600103,
          -0.1748558095280679,
          -0.1748558095280679,
          -0.17985168980029842,
          -0.18484757007252894,
          -0.18484757007252894,
          -0.18110065986835605,
          -0.17610477959612553,
          -0.17110889932389503,
          -0.161117138779434,
          -0.1473784680308001,
          -0.12364803673770516,
          -0.10241554558072549,
          -0.08243202449180344,
          -0.05870159319870851,
          -0.04246498231395935,
          -0.0312242517014407,
          -0.021232491156979675,
          -0.007493820408345768,
          -0.001248970068057628,
          0.003746910204172884,
          0.004995880272230512,
          0.004995880272230512,
          0.004995880272230512,
          0.004995880272230512,
          0.004995880272230512,
          0.004995880272230512,
          0.004995880272230512,
          0.004995880272230512,
          0.004995880272230512,
          0.001248970068057628,
          -0.008742790476403396,
          -0.022481461225037302,
          -0.03746910204172884,
          -0.043713952382016974,
          -0.04870983265424749,
          -0.046211892518132236,
          -0.04121601224590172,
          -0.027477341497267813,
          -0.012489700680576279,
          0.006244850340288139,
          0.026228371429210185,
          0.038718072109786464,
          0.043713952382016974,
          0.04121601224590172,
          0.03622013197367121,
          0.0312242517014407,
          0.026228371429210185,
          0.028726311565325444,
          0.033722191837555954,
          0.0312242517014407,
          0.026228371429210185,
          0.021232491156979675,
          -0.001248970068057628,
          -0.06369747347093903,
          -0.14612949796274247,
          -0.16361507891554924,
          -0.027477341497267813,
          0.25853680408792895,
          0.580771081646797,
          0.7643696816512683,
          0.7019211782483868,
          0.4558740748410342,
          0.18110065986835605,
          0.006244850340288139,
          -0.05745262313065089,
          -0.06494644353899665,
          -0.056203653062593256,
          -0.051207772790362746,
          -0.049958802722305115,
          -0.05870159319870851,
          -0.06369747347093903,
          -0.06494644353899665,
          -0.06494644353899665,
          -0.06494644353899665,
          -0.06494644353899665,
          -0.06869335374316954,
          -0.06994232381122717,
          -0.07868511428763056,
          -0.08867687483209158,
          -0.08992584490014921,
          -0.08992584490014921,
          -0.09367275510432209,
          -0.0986686353765526,
          -0.10866039592101363,
          -0.11365627619324414,
          -0.11865215646547465,
          -0.13239082721410855,
          -0.1386356775543967,
          -0.1436315578266272,
          -0.14862743809885773,
          -0.15861919864331875,
          -0.16861095918777977,
          -0.1736068394600103,
          -0.1748558095280679,
          -0.1786027197322408,
          -0.17985168980029842,
          -0.17985168980029842,
          -0.17985168980029842,
          -0.1835986000044713,
          -0.18484757007252894,
          -0.18110065986835605,
          -0.16736198911972214,
          -0.15737022857526112,
          -0.14238258775856957,
          -0.12739494694187806,
          -0.10866039592101363,
          -0.09242378503626447,
          -0.06994232381122717,
          -0.04870983265424749,
          -0.03247322176949832,
          -0.013738670748633906,
          -0.006244850340288139,
          -0.001248970068057628,
          0.008742790476403396,
          0.01873455102086442,
          0.01623661088474916,
          0.014987640816691536,
          0.014987640816691536,
          0.01873455102086442,
          0.019983521088922047,
          0.019983521088922047,
          0.019983521088922047,
          0.019983521088922047,
          0.012489700680576279,
          0.002497940136115256,
          -0.007493820408345768,
          -0.022481461225037302,
          -0.03247322176949832,
          -0.038718072109786464,
          -0.03622013197367121,
          -0.027477341497267813,
          -0.012489700680576279,
          -0.006244850340288139,
          0.007493820408345768,
          0.02997528163338307,
          0.04746086258618986,
          0.053705712926478,
          0.054954682994535625,
          0.054954682994535625,
          0.054954682994535625
         ]
        }
       ],
       "layout": {
        "template": {
         "data": {
          "bar": [
           {
            "error_x": {
             "color": "#2a3f5f"
            },
            "error_y": {
             "color": "#2a3f5f"
            },
            "marker": {
             "line": {
              "color": "#E5ECF6",
              "width": 0.5
             },
             "pattern": {
              "fillmode": "overlay",
              "size": 10,
              "solidity": 0.2
             }
            },
            "type": "bar"
           }
          ],
          "barpolar": [
           {
            "marker": {
             "line": {
              "color": "#E5ECF6",
              "width": 0.5
             },
             "pattern": {
              "fillmode": "overlay",
              "size": 10,
              "solidity": 0.2
             }
            },
            "type": "barpolar"
           }
          ],
          "carpet": [
           {
            "aaxis": {
             "endlinecolor": "#2a3f5f",
             "gridcolor": "white",
             "linecolor": "white",
             "minorgridcolor": "white",
             "startlinecolor": "#2a3f5f"
            },
            "baxis": {
             "endlinecolor": "#2a3f5f",
             "gridcolor": "white",
             "linecolor": "white",
             "minorgridcolor": "white",
             "startlinecolor": "#2a3f5f"
            },
            "type": "carpet"
           }
          ],
          "choropleth": [
           {
            "colorbar": {
             "outlinewidth": 0,
             "ticks": ""
            },
            "type": "choropleth"
           }
          ],
          "contour": [
           {
            "colorbar": {
             "outlinewidth": 0,
             "ticks": ""
            },
            "colorscale": [
             [
              0,
              "#0d0887"
             ],
             [
              0.1111111111111111,
              "#46039f"
             ],
             [
              0.2222222222222222,
              "#7201a8"
             ],
             [
              0.3333333333333333,
              "#9c179e"
             ],
             [
              0.4444444444444444,
              "#bd3786"
             ],
             [
              0.5555555555555556,
              "#d8576b"
             ],
             [
              0.6666666666666666,
              "#ed7953"
             ],
             [
              0.7777777777777778,
              "#fb9f3a"
             ],
             [
              0.8888888888888888,
              "#fdca26"
             ],
             [
              1,
              "#f0f921"
             ]
            ],
            "type": "contour"
           }
          ],
          "contourcarpet": [
           {
            "colorbar": {
             "outlinewidth": 0,
             "ticks": ""
            },
            "type": "contourcarpet"
           }
          ],
          "heatmap": [
           {
            "colorbar": {
             "outlinewidth": 0,
             "ticks": ""
            },
            "colorscale": [
             [
              0,
              "#0d0887"
             ],
             [
              0.1111111111111111,
              "#46039f"
             ],
             [
              0.2222222222222222,
              "#7201a8"
             ],
             [
              0.3333333333333333,
              "#9c179e"
             ],
             [
              0.4444444444444444,
              "#bd3786"
             ],
             [
              0.5555555555555556,
              "#d8576b"
             ],
             [
              0.6666666666666666,
              "#ed7953"
             ],
             [
              0.7777777777777778,
              "#fb9f3a"
             ],
             [
              0.8888888888888888,
              "#fdca26"
             ],
             [
              1,
              "#f0f921"
             ]
            ],
            "type": "heatmap"
           }
          ],
          "heatmapgl": [
           {
            "colorbar": {
             "outlinewidth": 0,
             "ticks": ""
            },
            "colorscale": [
             [
              0,
              "#0d0887"
             ],
             [
              0.1111111111111111,
              "#46039f"
             ],
             [
              0.2222222222222222,
              "#7201a8"
             ],
             [
              0.3333333333333333,
              "#9c179e"
             ],
             [
              0.4444444444444444,
              "#bd3786"
             ],
             [
              0.5555555555555556,
              "#d8576b"
             ],
             [
              0.6666666666666666,
              "#ed7953"
             ],
             [
              0.7777777777777778,
              "#fb9f3a"
             ],
             [
              0.8888888888888888,
              "#fdca26"
             ],
             [
              1,
              "#f0f921"
             ]
            ],
            "type": "heatmapgl"
           }
          ],
          "histogram": [
           {
            "marker": {
             "pattern": {
              "fillmode": "overlay",
              "size": 10,
              "solidity": 0.2
             }
            },
            "type": "histogram"
           }
          ],
          "histogram2d": [
           {
            "colorbar": {
             "outlinewidth": 0,
             "ticks": ""
            },
            "colorscale": [
             [
              0,
              "#0d0887"
             ],
             [
              0.1111111111111111,
              "#46039f"
             ],
             [
              0.2222222222222222,
              "#7201a8"
             ],
             [
              0.3333333333333333,
              "#9c179e"
             ],
             [
              0.4444444444444444,
              "#bd3786"
             ],
             [
              0.5555555555555556,
              "#d8576b"
             ],
             [
              0.6666666666666666,
              "#ed7953"
             ],
             [
              0.7777777777777778,
              "#fb9f3a"
             ],
             [
              0.8888888888888888,
              "#fdca26"
             ],
             [
              1,
              "#f0f921"
             ]
            ],
            "type": "histogram2d"
           }
          ],
          "histogram2dcontour": [
           {
            "colorbar": {
             "outlinewidth": 0,
             "ticks": ""
            },
            "colorscale": [
             [
              0,
              "#0d0887"
             ],
             [
              0.1111111111111111,
              "#46039f"
             ],
             [
              0.2222222222222222,
              "#7201a8"
             ],
             [
              0.3333333333333333,
              "#9c179e"
             ],
             [
              0.4444444444444444,
              "#bd3786"
             ],
             [
              0.5555555555555556,
              "#d8576b"
             ],
             [
              0.6666666666666666,
              "#ed7953"
             ],
             [
              0.7777777777777778,
              "#fb9f3a"
             ],
             [
              0.8888888888888888,
              "#fdca26"
             ],
             [
              1,
              "#f0f921"
             ]
            ],
            "type": "histogram2dcontour"
           }
          ],
          "mesh3d": [
           {
            "colorbar": {
             "outlinewidth": 0,
             "ticks": ""
            },
            "type": "mesh3d"
           }
          ],
          "parcoords": [
           {
            "line": {
             "colorbar": {
              "outlinewidth": 0,
              "ticks": ""
             }
            },
            "type": "parcoords"
           }
          ],
          "pie": [
           {
            "automargin": true,
            "type": "pie"
           }
          ],
          "scatter": [
           {
            "fillpattern": {
             "fillmode": "overlay",
             "size": 10,
             "solidity": 0.2
            },
            "type": "scatter"
           }
          ],
          "scatter3d": [
           {
            "line": {
             "colorbar": {
              "outlinewidth": 0,
              "ticks": ""
             }
            },
            "marker": {
             "colorbar": {
              "outlinewidth": 0,
              "ticks": ""
             }
            },
            "type": "scatter3d"
           }
          ],
          "scattercarpet": [
           {
            "marker": {
             "colorbar": {
              "outlinewidth": 0,
              "ticks": ""
             }
            },
            "type": "scattercarpet"
           }
          ],
          "scattergeo": [
           {
            "marker": {
             "colorbar": {
              "outlinewidth": 0,
              "ticks": ""
             }
            },
            "type": "scattergeo"
           }
          ],
          "scattergl": [
           {
            "marker": {
             "colorbar": {
              "outlinewidth": 0,
              "ticks": ""
             }
            },
            "type": "scattergl"
           }
          ],
          "scattermapbox": [
           {
            "marker": {
             "colorbar": {
              "outlinewidth": 0,
              "ticks": ""
             }
            },
            "type": "scattermapbox"
           }
          ],
          "scatterpolar": [
           {
            "marker": {
             "colorbar": {
              "outlinewidth": 0,
              "ticks": ""
             }
            },
            "type": "scatterpolar"
           }
          ],
          "scatterpolargl": [
           {
            "marker": {
             "colorbar": {
              "outlinewidth": 0,
              "ticks": ""
             }
            },
            "type": "scatterpolargl"
           }
          ],
          "scatterternary": [
           {
            "marker": {
             "colorbar": {
              "outlinewidth": 0,
              "ticks": ""
             }
            },
            "type": "scatterternary"
           }
          ],
          "surface": [
           {
            "colorbar": {
             "outlinewidth": 0,
             "ticks": ""
            },
            "colorscale": [
             [
              0,
              "#0d0887"
             ],
             [
              0.1111111111111111,
              "#46039f"
             ],
             [
              0.2222222222222222,
              "#7201a8"
             ],
             [
              0.3333333333333333,
              "#9c179e"
             ],
             [
              0.4444444444444444,
              "#bd3786"
             ],
             [
              0.5555555555555556,
              "#d8576b"
             ],
             [
              0.6666666666666666,
              "#ed7953"
             ],
             [
              0.7777777777777778,
              "#fb9f3a"
             ],
             [
              0.8888888888888888,
              "#fdca26"
             ],
             [
              1,
              "#f0f921"
             ]
            ],
            "type": "surface"
           }
          ],
          "table": [
           {
            "cells": {
             "fill": {
              "color": "#EBF0F8"
             },
             "line": {
              "color": "white"
             }
            },
            "header": {
             "fill": {
              "color": "#C8D4E3"
             },
             "line": {
              "color": "white"
             }
            },
            "type": "table"
           }
          ]
         },
         "layout": {
          "annotationdefaults": {
           "arrowcolor": "#2a3f5f",
           "arrowhead": 0,
           "arrowwidth": 1
          },
          "autotypenumbers": "strict",
          "coloraxis": {
           "colorbar": {
            "outlinewidth": 0,
            "ticks": ""
           }
          },
          "colorscale": {
           "diverging": [
            [
             0,
             "#8e0152"
            ],
            [
             0.1,
             "#c51b7d"
            ],
            [
             0.2,
             "#de77ae"
            ],
            [
             0.3,
             "#f1b6da"
            ],
            [
             0.4,
             "#fde0ef"
            ],
            [
             0.5,
             "#f7f7f7"
            ],
            [
             0.6,
             "#e6f5d0"
            ],
            [
             0.7,
             "#b8e186"
            ],
            [
             0.8,
             "#7fbc41"
            ],
            [
             0.9,
             "#4d9221"
            ],
            [
             1,
             "#276419"
            ]
           ],
           "sequential": [
            [
             0,
             "#0d0887"
            ],
            [
             0.1111111111111111,
             "#46039f"
            ],
            [
             0.2222222222222222,
             "#7201a8"
            ],
            [
             0.3333333333333333,
             "#9c179e"
            ],
            [
             0.4444444444444444,
             "#bd3786"
            ],
            [
             0.5555555555555556,
             "#d8576b"
            ],
            [
             0.6666666666666666,
             "#ed7953"
            ],
            [
             0.7777777777777778,
             "#fb9f3a"
            ],
            [
             0.8888888888888888,
             "#fdca26"
            ],
            [
             1,
             "#f0f921"
            ]
           ],
           "sequentialminus": [
            [
             0,
             "#0d0887"
            ],
            [
             0.1111111111111111,
             "#46039f"
            ],
            [
             0.2222222222222222,
             "#7201a8"
            ],
            [
             0.3333333333333333,
             "#9c179e"
            ],
            [
             0.4444444444444444,
             "#bd3786"
            ],
            [
             0.5555555555555556,
             "#d8576b"
            ],
            [
             0.6666666666666666,
             "#ed7953"
            ],
            [
             0.7777777777777778,
             "#fb9f3a"
            ],
            [
             0.8888888888888888,
             "#fdca26"
            ],
            [
             1,
             "#f0f921"
            ]
           ]
          },
          "colorway": [
           "#636efa",
           "#EF553B",
           "#00cc96",
           "#ab63fa",
           "#FFA15A",
           "#19d3f3",
           "#FF6692",
           "#B6E880",
           "#FF97FF",
           "#FECB52"
          ],
          "font": {
           "color": "#2a3f5f"
          },
          "geo": {
           "bgcolor": "white",
           "lakecolor": "white",
           "landcolor": "#E5ECF6",
           "showlakes": true,
           "showland": true,
           "subunitcolor": "white"
          },
          "hoverlabel": {
           "align": "left"
          },
          "hovermode": "closest",
          "mapbox": {
           "style": "light"
          },
          "paper_bgcolor": "white",
          "plot_bgcolor": "#E5ECF6",
          "polar": {
           "angularaxis": {
            "gridcolor": "white",
            "linecolor": "white",
            "ticks": ""
           },
           "bgcolor": "#E5ECF6",
           "radialaxis": {
            "gridcolor": "white",
            "linecolor": "white",
            "ticks": ""
           }
          },
          "scene": {
           "xaxis": {
            "backgroundcolor": "#E5ECF6",
            "gridcolor": "white",
            "gridwidth": 2,
            "linecolor": "white",
            "showbackground": true,
            "ticks": "",
            "zerolinecolor": "white"
           },
           "yaxis": {
            "backgroundcolor": "#E5ECF6",
            "gridcolor": "white",
            "gridwidth": 2,
            "linecolor": "white",
            "showbackground": true,
            "ticks": "",
            "zerolinecolor": "white"
           },
           "zaxis": {
            "backgroundcolor": "#E5ECF6",
            "gridcolor": "white",
            "gridwidth": 2,
            "linecolor": "white",
            "showbackground": true,
            "ticks": "",
            "zerolinecolor": "white"
           }
          },
          "shapedefaults": {
           "line": {
            "color": "#2a3f5f"
           }
          },
          "ternary": {
           "aaxis": {
            "gridcolor": "white",
            "linecolor": "white",
            "ticks": ""
           },
           "baxis": {
            "gridcolor": "white",
            "linecolor": "white",
            "ticks": ""
           },
           "bgcolor": "#E5ECF6",
           "caxis": {
            "gridcolor": "white",
            "linecolor": "white",
            "ticks": ""
           }
          },
          "title": {
           "x": 0.05
          },
          "xaxis": {
           "automargin": true,
           "gridcolor": "white",
           "linecolor": "white",
           "ticks": "",
           "title": {
            "standoff": 15
           },
           "zerolinecolor": "white",
           "zerolinewidth": 2
          },
          "yaxis": {
           "automargin": true,
           "gridcolor": "white",
           "linecolor": "white",
           "ticks": "",
           "title": {
            "standoff": 15
           },
           "zerolinecolor": "white",
           "zerolinewidth": 2
          }
         }
        },
        "title": {
         "text": "ECG"
        }
       }
      },
      "text/html": [
       "<div>                            <div id=\"fda7db29-b777-40bf-895a-194441184123\" class=\"plotly-graph-div\" style=\"height:525px; width:100%;\"></div>            <script type=\"text/javascript\">                require([\"plotly\"], function(Plotly) {                    window.PLOTLYENV=window.PLOTLYENV || {};                                    if (document.getElementById(\"fda7db29-b777-40bf-895a-194441184123\")) {                    Plotly.newPlot(                        \"fda7db29-b777-40bf-895a-194441184123\",                        [{\"y\":[-0.019983521088922047,-0.019983521088922047,-0.014987640816691536,-0.004995880272230512,-0.004995880272230512,-0.004995880272230512,0.0,0.0,0.004995880272230512,0.004995880272230512,0.0,-0.004995880272230512,-0.009991760544461024,-0.024979401361152558,-0.02997528163338307,-0.039967042177844095,-0.044962922450074605,-0.044962922450074605,-0.034971161905613585,-0.019983521088922047,-0.004995880272230512,0.009991760544461024,0.034971161905613585,0.044962922450074605,0.054954682994535625,0.044962922450074605,0.044962922450074605,0.044962922450074605,0.044962922450074605,0.039967042177844095,0.034971161905613585,0.02997528163338307,0.02997528163338307,0.024979401361152558,-0.009991760544461024,-0.09367275510432209,-0.1835986000044713,-0.15487228843914586,0.08617893469597633,0.4696127455896681,0.8043367238291124,0.9080012394778955,0.7081660285886751,0.37094411021311546,0.08992584490014921,-0.04246498231395935,-0.06994232381122717,-0.054954682994535625,-0.044962922450074605,-0.044962922450074605,-0.044962922450074605,-0.044962922450074605,-0.044962922450074605,-0.049958802722305115,-0.054954682994535625,-0.054954682994535625,-0.054954682994535625,-0.05995056326676614,-0.06494644353899665,-0.06994232381122717,-0.07493820408345768,-0.07493820408345768,-0.07993408435568819,-0.08992584490014921,-0.09492172517237972,-0.09991760544461023,-0.10990936598907125,-0.11990112653353228,-0.1298928870779933,-0.13988464762245434,-0.14987640816691536,-0.15986816871137638,-0.1698599292558374,-0.1748558095280679,-0.18484757007252894,-0.18984345034475944,-0.19983521088922046,-0.19983521088922046,-0.19983521088922046,-0.20483109116145098,-0.20982697143368148,-0.20483109116145098,-0.20483109116145098,-0.19983521088922046,-0.18984345034475944,-0.17610477959612553,-0.151125378234973,-0.1211500966015899,-0.10116657551266786,-0.08118305442374582,-0.061199533334823766,-0.044962922450074605,-0.039967042177844095,-0.034971161905613585,-0.019983521088922047,-0.014987640816691536,-0.004995880272230512,-0.004995880272230512,-0.004995880272230512,-0.004995880272230512,0.0,0.004995880272230512,0.004995880272230512,0.004995880272230512,0.004995880272230512,0.0,-0.004995880272230512,-0.014987640816691536,-0.024979401361152558,-0.034971161905613585,-0.039967042177844095,-0.039967042177844095,-0.034971161905613585,-0.02997528163338307,-0.019983521088922047,-0.006244850340288139,0.01873455102086442,0.038718072109786464,0.044962922450074605,0.049958802722305115,0.049958802722305115,0.049958802722305115,0.044962922450074605,0.039967042177844095,0.039967042177844095,0.034971161905613585,0.02997528163338307,0.02997528163338307,0.01623661088474916,-0.03746910204172884,-0.1298928870779933,-0.2010841809572781,-0.11490524626130177,0.16486404898360688,0.5495468299453563,0.8355609755305531,0.8542955265514175,0.6094973932121224,0.2872631156532544,0.05245674285842037,-0.049958802722305115,-0.06494644353899665,-0.054954682994535625,-0.044962922450074605,-0.044962922450074605,-0.044962922450074605,-0.044962922450074605,-0.044962922450074605,-0.044962922450074605,-0.049958802722305115,-0.054954682994535625,-0.05995056326676614,-0.05995056326676614,-0.05995056326676614,-0.06494644353899665,-0.06994232381122717,-0.06994232381122717,-0.07493820408345768,-0.0849299646279187,-0.09492172517237972,-0.09991760544461023,-0.10491348571684074,-0.11490524626130177,-0.1248970068057628,-0.13488876735022381,-0.14488052789468484,-0.15487228843914586,-0.15986816871137638,-0.16486404898360688,-0.1748558095280679,-0.17985168980029842,-0.18484757007252894,-0.18984345034475944,-0.18984345034475944,-0.18984345034475944,-0.18984345034475944,-0.19483933061698996,-0.18984345034475944,-0.18110065986835605,-0.1661130190516645,-0.1561212585072035,-0.13239082721410855,-0.107411425852956,-0.08617893469597633,-0.06619541360705428,-0.051207772790362746,-0.04121601224590172,-0.026228371429210185,-0.019983521088922047,-0.014987640816691536,-0.006244850340288139,0.0,0.004995880272230512,0.004995880272230512,0.004995880272230512,0.004995880272230512,0.004995880272230512,0.004995880272230512,0.009991760544461024,0.004995880272230512,-0.003746910204172884,-0.009991760544461024,-0.01873455102086442,-0.028726311565325444,-0.038718072109786464,-0.044962922450074605,-0.039967042177844095,-0.026228371429210185,-0.011240730612518651,-0.001248970068057628,0.01873455102086442,0.04246498231395935,0.053705712926478,0.049958802722305115,0.044962922450074605,0.049958802722305115,0.049958802722305115,0.044962922450074605,0.044962922450074605,0.03622013197367121,0.02997528163338307,0.02997528163338307,0.01623661088474916,-0.026228371429210185,-0.11240730612518651,-0.1748558095280679,-0.11115833605712888,0.13114185714605092,0.473359655793841,0.7643696816512683,0.8305650952583226,0.6357257646413326,0.3284791278991561,0.08243202449180344,-0.039967042177844095,-0.06369747347093903,-0.051207772790362746,-0.04121601224590172,-0.039967042177844095,-0.044962922450074605,-0.044962922450074605,-0.044962922450074605,-0.044962922450074605,-0.044962922450074605,-0.044962922450074605,-0.049958802722305115,-0.05870159319870851,-0.06494644353899665,-0.06494644353899665,-0.06494644353899665,-0.06994232381122717,-0.07493820408345768,-0.07993408435568819,-0.0849299646279187,-0.09367275510432209,-0.10366451564878312,-0.11365627619324414,-0.11990112653353228,-0.1286439170099357,-0.1436315578266272,-0.14987640816691536,-0.15487228843914586,-0.16361507891554924,-0.1736068394600103,-0.17985168980029842,-0.17985168980029842,-0.17985168980029842,-0.18484757007252894,-0.18484757007252894,-0.18110065986835605,-0.17985168980029842,-0.17610477959612553,-0.17110889932389503,-0.1561212585072035,-0.14113361769051194,-0.12239906666964753,-0.09741966530849498,-0.07244026394734242,-0.05245674285842037,-0.03622013197367121,-0.021232491156979675,-0.011240730612518651,-0.004995880272230512,0.003746910204172884,0.004995880272230512,0.004995880272230512,0.004995880272230512,0.004995880272230512,0.004995880272230512,0.004995880272230512,0.009991760544461024,0.01873455102086442,0.019983521088922047,0.019983521088922047,0.011240730612518651,0.001248970068057628,-0.008742790476403396,-0.01873455102086442,-0.024979401361152558,-0.02997528163338307,-0.034971161905613585,-0.02997528163338307,-0.01623661088474916,-0.006244850340288139,0.0,0.022481461225037302,0.04246498231395935,0.053705712926478,0.054954682994535625,0.046211892518132236,0.044962922450074605,0.044962922450074605,0.044962922450074605,0.044962922450074605,0.044962922450074605,0.03622013197367121,0.026228371429210185,0.012489700680576279,-0.033722191837555954,-0.12239906666964753,-0.1923413904808747,-0.10366451564878312,0.17110889932389503,0.5408040394689528,0.8168264245096887,0.8193243646458039,0.5757752013745665,0.2572878340198714,0.03622013197367121,-0.046211892518132236,-0.054954682994535625,-0.04246498231395935,-0.03622013197367121,-0.034971161905613585,-0.043713952382016974,-0.044962922450074605,-0.04121601224590172,-0.043713952382016974,-0.044962922450074605,-0.04870983265424749,-0.049958802722305115,-0.053705712926478,-0.05870159319870851,-0.05995056326676614,-0.05995056326676614,-0.06369747347093903,-0.06869335374316954,-0.07868511428763056,-0.08867687483209158,-0.0986686353765526,-0.10866039592101363,-0.11490524626130177,-0.11990112653353228,-0.1286439170099357,-0.14238258775856957,-0.14987640816691536,-0.15487228843914586,-0.15986816871137638,-0.16486404898360688,-0.1736068394600103,-0.1748558095280679,-0.1748558095280679,-0.17985168980029842,-0.18484757007252894,-0.18484757007252894,-0.18110065986835605,-0.17610477959612553,-0.17110889932389503,-0.161117138779434,-0.1473784680308001,-0.12364803673770516,-0.10241554558072549,-0.08243202449180344,-0.05870159319870851,-0.04246498231395935,-0.0312242517014407,-0.021232491156979675,-0.007493820408345768,-0.001248970068057628,0.003746910204172884,0.004995880272230512,0.004995880272230512,0.004995880272230512,0.004995880272230512,0.004995880272230512,0.004995880272230512,0.004995880272230512,0.004995880272230512,0.004995880272230512,0.001248970068057628,-0.008742790476403396,-0.022481461225037302,-0.03746910204172884,-0.043713952382016974,-0.04870983265424749,-0.046211892518132236,-0.04121601224590172,-0.027477341497267813,-0.012489700680576279,0.006244850340288139,0.026228371429210185,0.038718072109786464,0.043713952382016974,0.04121601224590172,0.03622013197367121,0.0312242517014407,0.026228371429210185,0.028726311565325444,0.033722191837555954,0.0312242517014407,0.026228371429210185,0.021232491156979675,-0.001248970068057628,-0.06369747347093903,-0.14612949796274247,-0.16361507891554924,-0.027477341497267813,0.25853680408792895,0.580771081646797,0.7643696816512683,0.7019211782483868,0.4558740748410342,0.18110065986835605,0.006244850340288139,-0.05745262313065089,-0.06494644353899665,-0.056203653062593256,-0.051207772790362746,-0.049958802722305115,-0.05870159319870851,-0.06369747347093903,-0.06494644353899665,-0.06494644353899665,-0.06494644353899665,-0.06494644353899665,-0.06869335374316954,-0.06994232381122717,-0.07868511428763056,-0.08867687483209158,-0.08992584490014921,-0.08992584490014921,-0.09367275510432209,-0.0986686353765526,-0.10866039592101363,-0.11365627619324414,-0.11865215646547465,-0.13239082721410855,-0.1386356775543967,-0.1436315578266272,-0.14862743809885773,-0.15861919864331875,-0.16861095918777977,-0.1736068394600103,-0.1748558095280679,-0.1786027197322408,-0.17985168980029842,-0.17985168980029842,-0.17985168980029842,-0.1835986000044713,-0.18484757007252894,-0.18110065986835605,-0.16736198911972214,-0.15737022857526112,-0.14238258775856957,-0.12739494694187806,-0.10866039592101363,-0.09242378503626447,-0.06994232381122717,-0.04870983265424749,-0.03247322176949832,-0.013738670748633906,-0.006244850340288139,-0.001248970068057628,0.008742790476403396,0.01873455102086442,0.01623661088474916,0.014987640816691536,0.014987640816691536,0.01873455102086442,0.019983521088922047,0.019983521088922047,0.019983521088922047,0.019983521088922047,0.012489700680576279,0.002497940136115256,-0.007493820408345768,-0.022481461225037302,-0.03247322176949832,-0.038718072109786464,-0.03622013197367121,-0.027477341497267813,-0.012489700680576279,-0.006244850340288139,0.007493820408345768,0.02997528163338307,0.04746086258618986,0.053705712926478,0.054954682994535625,0.054954682994535625,0.054954682994535625],\"type\":\"scatter\"}],                        {\"template\":{\"data\":{\"barpolar\":[{\"marker\":{\"line\":{\"color\":\"#E5ECF6\",\"width\":0.5},\"pattern\":{\"fillmode\":\"overlay\",\"size\":10,\"solidity\":0.2}},\"type\":\"barpolar\"}],\"bar\":[{\"error_x\":{\"color\":\"#2a3f5f\"},\"error_y\":{\"color\":\"#2a3f5f\"},\"marker\":{\"line\":{\"color\":\"#E5ECF6\",\"width\":0.5},\"pattern\":{\"fillmode\":\"overlay\",\"size\":10,\"solidity\":0.2}},\"type\":\"bar\"}],\"carpet\":[{\"aaxis\":{\"endlinecolor\":\"#2a3f5f\",\"gridcolor\":\"white\",\"linecolor\":\"white\",\"minorgridcolor\":\"white\",\"startlinecolor\":\"#2a3f5f\"},\"baxis\":{\"endlinecolor\":\"#2a3f5f\",\"gridcolor\":\"white\",\"linecolor\":\"white\",\"minorgridcolor\":\"white\",\"startlinecolor\":\"#2a3f5f\"},\"type\":\"carpet\"}],\"choropleth\":[{\"colorbar\":{\"outlinewidth\":0,\"ticks\":\"\"},\"type\":\"choropleth\"}],\"contourcarpet\":[{\"colorbar\":{\"outlinewidth\":0,\"ticks\":\"\"},\"type\":\"contourcarpet\"}],\"contour\":[{\"colorbar\":{\"outlinewidth\":0,\"ticks\":\"\"},\"colorscale\":[[0.0,\"#0d0887\"],[0.1111111111111111,\"#46039f\"],[0.2222222222222222,\"#7201a8\"],[0.3333333333333333,\"#9c179e\"],[0.4444444444444444,\"#bd3786\"],[0.5555555555555556,\"#d8576b\"],[0.6666666666666666,\"#ed7953\"],[0.7777777777777778,\"#fb9f3a\"],[0.8888888888888888,\"#fdca26\"],[1.0,\"#f0f921\"]],\"type\":\"contour\"}],\"heatmapgl\":[{\"colorbar\":{\"outlinewidth\":0,\"ticks\":\"\"},\"colorscale\":[[0.0,\"#0d0887\"],[0.1111111111111111,\"#46039f\"],[0.2222222222222222,\"#7201a8\"],[0.3333333333333333,\"#9c179e\"],[0.4444444444444444,\"#bd3786\"],[0.5555555555555556,\"#d8576b\"],[0.6666666666666666,\"#ed7953\"],[0.7777777777777778,\"#fb9f3a\"],[0.8888888888888888,\"#fdca26\"],[1.0,\"#f0f921\"]],\"type\":\"heatmapgl\"}],\"heatmap\":[{\"colorbar\":{\"outlinewidth\":0,\"ticks\":\"\"},\"colorscale\":[[0.0,\"#0d0887\"],[0.1111111111111111,\"#46039f\"],[0.2222222222222222,\"#7201a8\"],[0.3333333333333333,\"#9c179e\"],[0.4444444444444444,\"#bd3786\"],[0.5555555555555556,\"#d8576b\"],[0.6666666666666666,\"#ed7953\"],[0.7777777777777778,\"#fb9f3a\"],[0.8888888888888888,\"#fdca26\"],[1.0,\"#f0f921\"]],\"type\":\"heatmap\"}],\"histogram2dcontour\":[{\"colorbar\":{\"outlinewidth\":0,\"ticks\":\"\"},\"colorscale\":[[0.0,\"#0d0887\"],[0.1111111111111111,\"#46039f\"],[0.2222222222222222,\"#7201a8\"],[0.3333333333333333,\"#9c179e\"],[0.4444444444444444,\"#bd3786\"],[0.5555555555555556,\"#d8576b\"],[0.6666666666666666,\"#ed7953\"],[0.7777777777777778,\"#fb9f3a\"],[0.8888888888888888,\"#fdca26\"],[1.0,\"#f0f921\"]],\"type\":\"histogram2dcontour\"}],\"histogram2d\":[{\"colorbar\":{\"outlinewidth\":0,\"ticks\":\"\"},\"colorscale\":[[0.0,\"#0d0887\"],[0.1111111111111111,\"#46039f\"],[0.2222222222222222,\"#7201a8\"],[0.3333333333333333,\"#9c179e\"],[0.4444444444444444,\"#bd3786\"],[0.5555555555555556,\"#d8576b\"],[0.6666666666666666,\"#ed7953\"],[0.7777777777777778,\"#fb9f3a\"],[0.8888888888888888,\"#fdca26\"],[1.0,\"#f0f921\"]],\"type\":\"histogram2d\"}],\"histogram\":[{\"marker\":{\"pattern\":{\"fillmode\":\"overlay\",\"size\":10,\"solidity\":0.2}},\"type\":\"histogram\"}],\"mesh3d\":[{\"colorbar\":{\"outlinewidth\":0,\"ticks\":\"\"},\"type\":\"mesh3d\"}],\"parcoords\":[{\"line\":{\"colorbar\":{\"outlinewidth\":0,\"ticks\":\"\"}},\"type\":\"parcoords\"}],\"pie\":[{\"automargin\":true,\"type\":\"pie\"}],\"scatter3d\":[{\"line\":{\"colorbar\":{\"outlinewidth\":0,\"ticks\":\"\"}},\"marker\":{\"colorbar\":{\"outlinewidth\":0,\"ticks\":\"\"}},\"type\":\"scatter3d\"}],\"scattercarpet\":[{\"marker\":{\"colorbar\":{\"outlinewidth\":0,\"ticks\":\"\"}},\"type\":\"scattercarpet\"}],\"scattergeo\":[{\"marker\":{\"colorbar\":{\"outlinewidth\":0,\"ticks\":\"\"}},\"type\":\"scattergeo\"}],\"scattergl\":[{\"marker\":{\"colorbar\":{\"outlinewidth\":0,\"ticks\":\"\"}},\"type\":\"scattergl\"}],\"scattermapbox\":[{\"marker\":{\"colorbar\":{\"outlinewidth\":0,\"ticks\":\"\"}},\"type\":\"scattermapbox\"}],\"scatterpolargl\":[{\"marker\":{\"colorbar\":{\"outlinewidth\":0,\"ticks\":\"\"}},\"type\":\"scatterpolargl\"}],\"scatterpolar\":[{\"marker\":{\"colorbar\":{\"outlinewidth\":0,\"ticks\":\"\"}},\"type\":\"scatterpolar\"}],\"scatter\":[{\"fillpattern\":{\"fillmode\":\"overlay\",\"size\":10,\"solidity\":0.2},\"type\":\"scatter\"}],\"scatterternary\":[{\"marker\":{\"colorbar\":{\"outlinewidth\":0,\"ticks\":\"\"}},\"type\":\"scatterternary\"}],\"surface\":[{\"colorbar\":{\"outlinewidth\":0,\"ticks\":\"\"},\"colorscale\":[[0.0,\"#0d0887\"],[0.1111111111111111,\"#46039f\"],[0.2222222222222222,\"#7201a8\"],[0.3333333333333333,\"#9c179e\"],[0.4444444444444444,\"#bd3786\"],[0.5555555555555556,\"#d8576b\"],[0.6666666666666666,\"#ed7953\"],[0.7777777777777778,\"#fb9f3a\"],[0.8888888888888888,\"#fdca26\"],[1.0,\"#f0f921\"]],\"type\":\"surface\"}],\"table\":[{\"cells\":{\"fill\":{\"color\":\"#EBF0F8\"},\"line\":{\"color\":\"white\"}},\"header\":{\"fill\":{\"color\":\"#C8D4E3\"},\"line\":{\"color\":\"white\"}},\"type\":\"table\"}]},\"layout\":{\"annotationdefaults\":{\"arrowcolor\":\"#2a3f5f\",\"arrowhead\":0,\"arrowwidth\":1},\"autotypenumbers\":\"strict\",\"coloraxis\":{\"colorbar\":{\"outlinewidth\":0,\"ticks\":\"\"}},\"colorscale\":{\"diverging\":[[0,\"#8e0152\"],[0.1,\"#c51b7d\"],[0.2,\"#de77ae\"],[0.3,\"#f1b6da\"],[0.4,\"#fde0ef\"],[0.5,\"#f7f7f7\"],[0.6,\"#e6f5d0\"],[0.7,\"#b8e186\"],[0.8,\"#7fbc41\"],[0.9,\"#4d9221\"],[1,\"#276419\"]],\"sequential\":[[0.0,\"#0d0887\"],[0.1111111111111111,\"#46039f\"],[0.2222222222222222,\"#7201a8\"],[0.3333333333333333,\"#9c179e\"],[0.4444444444444444,\"#bd3786\"],[0.5555555555555556,\"#d8576b\"],[0.6666666666666666,\"#ed7953\"],[0.7777777777777778,\"#fb9f3a\"],[0.8888888888888888,\"#fdca26\"],[1.0,\"#f0f921\"]],\"sequentialminus\":[[0.0,\"#0d0887\"],[0.1111111111111111,\"#46039f\"],[0.2222222222222222,\"#7201a8\"],[0.3333333333333333,\"#9c179e\"],[0.4444444444444444,\"#bd3786\"],[0.5555555555555556,\"#d8576b\"],[0.6666666666666666,\"#ed7953\"],[0.7777777777777778,\"#fb9f3a\"],[0.8888888888888888,\"#fdca26\"],[1.0,\"#f0f921\"]]},\"colorway\":[\"#636efa\",\"#EF553B\",\"#00cc96\",\"#ab63fa\",\"#FFA15A\",\"#19d3f3\",\"#FF6692\",\"#B6E880\",\"#FF97FF\",\"#FECB52\"],\"font\":{\"color\":\"#2a3f5f\"},\"geo\":{\"bgcolor\":\"white\",\"lakecolor\":\"white\",\"landcolor\":\"#E5ECF6\",\"showlakes\":true,\"showland\":true,\"subunitcolor\":\"white\"},\"hoverlabel\":{\"align\":\"left\"},\"hovermode\":\"closest\",\"mapbox\":{\"style\":\"light\"},\"paper_bgcolor\":\"white\",\"plot_bgcolor\":\"#E5ECF6\",\"polar\":{\"angularaxis\":{\"gridcolor\":\"white\",\"linecolor\":\"white\",\"ticks\":\"\"},\"bgcolor\":\"#E5ECF6\",\"radialaxis\":{\"gridcolor\":\"white\",\"linecolor\":\"white\",\"ticks\":\"\"}},\"scene\":{\"xaxis\":{\"backgroundcolor\":\"#E5ECF6\",\"gridcolor\":\"white\",\"gridwidth\":2,\"linecolor\":\"white\",\"showbackground\":true,\"ticks\":\"\",\"zerolinecolor\":\"white\"},\"yaxis\":{\"backgroundcolor\":\"#E5ECF6\",\"gridcolor\":\"white\",\"gridwidth\":2,\"linecolor\":\"white\",\"showbackground\":true,\"ticks\":\"\",\"zerolinecolor\":\"white\"},\"zaxis\":{\"backgroundcolor\":\"#E5ECF6\",\"gridcolor\":\"white\",\"gridwidth\":2,\"linecolor\":\"white\",\"showbackground\":true,\"ticks\":\"\",\"zerolinecolor\":\"white\"}},\"shapedefaults\":{\"line\":{\"color\":\"#2a3f5f\"}},\"ternary\":{\"aaxis\":{\"gridcolor\":\"white\",\"linecolor\":\"white\",\"ticks\":\"\"},\"baxis\":{\"gridcolor\":\"white\",\"linecolor\":\"white\",\"ticks\":\"\"},\"bgcolor\":\"#E5ECF6\",\"caxis\":{\"gridcolor\":\"white\",\"linecolor\":\"white\",\"ticks\":\"\"}},\"title\":{\"x\":0.05},\"xaxis\":{\"automargin\":true,\"gridcolor\":\"white\",\"linecolor\":\"white\",\"ticks\":\"\",\"title\":{\"standoff\":15},\"zerolinecolor\":\"white\",\"zerolinewidth\":2},\"yaxis\":{\"automargin\":true,\"gridcolor\":\"white\",\"linecolor\":\"white\",\"ticks\":\"\",\"title\":{\"standoff\":15},\"zerolinecolor\":\"white\",\"zerolinewidth\":2}}},\"title\":{\"text\":\"ECG\"}},                        {\"responsive\": true}                    ).then(function(){\n",
       "                            \n",
       "var gd = document.getElementById('fda7db29-b777-40bf-895a-194441184123');\n",
       "var x = new MutationObserver(function (mutations, observer) {{\n",
       "        var display = window.getComputedStyle(gd).display;\n",
       "        if (!display || display === 'none') {{\n",
       "            console.log([gd, 'removed!']);\n",
       "            Plotly.purge(gd);\n",
       "            observer.disconnect();\n",
       "        }}\n",
       "}});\n",
       "\n",
       "// Listen for the removal of the full notebook cells\n",
       "var notebookContainer = gd.closest('#notebook-container');\n",
       "if (notebookContainer) {{\n",
       "    x.observe(notebookContainer, {childList: true});\n",
       "}}\n",
       "\n",
       "// Listen for the clearing of the current output cell\n",
       "var outputEl = gd.closest('.output');\n",
       "if (outputEl) {{\n",
       "    x.observe(outputEl, {childList: true});\n",
       "}}\n",
       "\n",
       "                        })                };                });            </script>        </div>"
      ]
     },
     "metadata": {},
     "output_type": "display_data"
    }
   ],
   "source": [
    "plot_data = [\n",
    "    go.Scatter(\n",
    "        y=ecg,\n",
    "    )\n",
    "]\n",
    "plot_layout = go.Layout(\n",
    "        title='ECG'\n",
    "    )\n",
    "fig = go.Figure(data=plot_data, layout=plot_layout)\n",
    "pyoff.iplot(fig)"
   ]
  },
  {
   "cell_type": "code",
   "execution_count": 97,
   "id": "b8f7abe7",
   "metadata": {},
   "outputs": [
    {
     "data": {
      "text/html": [
       "<div>\n",
       "<style scoped>\n",
       "    .dataframe tbody tr th:only-of-type {\n",
       "        vertical-align: middle;\n",
       "    }\n",
       "\n",
       "    .dataframe tbody tr th {\n",
       "        vertical-align: top;\n",
       "    }\n",
       "\n",
       "    .dataframe thead th {\n",
       "        text-align: right;\n",
       "    }\n",
       "</style>\n",
       "<table border=\"1\" class=\"dataframe\">\n",
       "  <thead>\n",
       "    <tr style=\"text-align: right;\">\n",
       "      <th></th>\n",
       "      <th>0</th>\n",
       "    </tr>\n",
       "    <tr>\n",
       "      <th>row</th>\n",
       "      <th></th>\n",
       "    </tr>\n",
       "  </thead>\n",
       "  <tbody>\n",
       "    <tr>\n",
       "      <th>0</th>\n",
       "      <td>-0.019984</td>\n",
       "    </tr>\n",
       "    <tr>\n",
       "      <th>1</th>\n",
       "      <td>-0.019984</td>\n",
       "    </tr>\n",
       "    <tr>\n",
       "      <th>2</th>\n",
       "      <td>-0.014988</td>\n",
       "    </tr>\n",
       "    <tr>\n",
       "      <th>3</th>\n",
       "      <td>-0.004996</td>\n",
       "    </tr>\n",
       "    <tr>\n",
       "      <th>4</th>\n",
       "      <td>-0.004996</td>\n",
       "    </tr>\n",
       "    <tr>\n",
       "      <th>...</th>\n",
       "      <td>...</td>\n",
       "    </tr>\n",
       "    <tr>\n",
       "      <th>495</th>\n",
       "      <td>0.047461</td>\n",
       "    </tr>\n",
       "    <tr>\n",
       "      <th>496</th>\n",
       "      <td>0.053706</td>\n",
       "    </tr>\n",
       "    <tr>\n",
       "      <th>497</th>\n",
       "      <td>0.054955</td>\n",
       "    </tr>\n",
       "    <tr>\n",
       "      <th>498</th>\n",
       "      <td>0.054955</td>\n",
       "    </tr>\n",
       "    <tr>\n",
       "      <th>499</th>\n",
       "      <td>0.054955</td>\n",
       "    </tr>\n",
       "  </tbody>\n",
       "</table>\n",
       "<p>500 rows × 1 columns</p>\n",
       "</div>"
      ],
      "text/plain": [
       "            0\n",
       "row          \n",
       "0   -0.019984\n",
       "1   -0.019984\n",
       "2   -0.014988\n",
       "3   -0.004996\n",
       "4   -0.004996\n",
       "..        ...\n",
       "495  0.047461\n",
       "496  0.053706\n",
       "497  0.054955\n",
       "498  0.054955\n",
       "499  0.054955\n",
       "\n",
       "[500 rows x 1 columns]"
      ]
     },
     "execution_count": 97,
     "metadata": {},
     "output_type": "execute_result"
    }
   ],
   "source": [
    "df_sam_ecg = pd.DataFrame(ecg)\n",
    "df_sam_ecg['row'] = np.arange(len(df_sam_ecg))\n",
    "df_sam_ecg.set_index('row', inplace=True)\n",
    "df_sam_ecg"
   ]
  },
  {
   "cell_type": "code",
   "execution_count": 98,
   "id": "ad402be5",
   "metadata": {},
   "outputs": [
    {
     "data": {
      "text/html": [
       "<div>\n",
       "<style scoped>\n",
       "    .dataframe tbody tr th:only-of-type {\n",
       "        vertical-align: middle;\n",
       "    }\n",
       "\n",
       "    .dataframe tbody tr th {\n",
       "        vertical-align: top;\n",
       "    }\n",
       "\n",
       "    .dataframe thead th {\n",
       "        text-align: right;\n",
       "    }\n",
       "</style>\n",
       "<table border=\"1\" class=\"dataframe\">\n",
       "  <thead>\n",
       "    <tr style=\"text-align: right;\">\n",
       "      <th></th>\n",
       "      <th>0</th>\n",
       "    </tr>\n",
       "    <tr>\n",
       "      <th>row</th>\n",
       "      <th></th>\n",
       "    </tr>\n",
       "  </thead>\n",
       "  <tbody>\n",
       "    <tr>\n",
       "      <th>0</th>\n",
       "      <td>-0.555008</td>\n",
       "    </tr>\n",
       "    <tr>\n",
       "      <th>1</th>\n",
       "      <td>-0.555008</td>\n",
       "    </tr>\n",
       "    <tr>\n",
       "      <th>2</th>\n",
       "      <td>-0.553516</td>\n",
       "    </tr>\n",
       "    <tr>\n",
       "      <th>3</th>\n",
       "      <td>-0.553516</td>\n",
       "    </tr>\n",
       "    <tr>\n",
       "      <th>4</th>\n",
       "      <td>-0.553516</td>\n",
       "    </tr>\n",
       "    <tr>\n",
       "      <th>...</th>\n",
       "      <td>...</td>\n",
       "    </tr>\n",
       "    <tr>\n",
       "      <th>495</th>\n",
       "      <td>-0.546056</td>\n",
       "    </tr>\n",
       "    <tr>\n",
       "      <th>496</th>\n",
       "      <td>-0.541580</td>\n",
       "    </tr>\n",
       "    <tr>\n",
       "      <th>497</th>\n",
       "      <td>-0.546056</td>\n",
       "    </tr>\n",
       "    <tr>\n",
       "      <th>498</th>\n",
       "      <td>-0.546056</td>\n",
       "    </tr>\n",
       "    <tr>\n",
       "      <th>499</th>\n",
       "      <td>-0.546056</td>\n",
       "    </tr>\n",
       "  </tbody>\n",
       "</table>\n",
       "<p>500 rows × 1 columns</p>\n",
       "</div>"
      ],
      "text/plain": [
       "            0\n",
       "row          \n",
       "0   -0.555008\n",
       "1   -0.555008\n",
       "2   -0.553516\n",
       "3   -0.553516\n",
       "4   -0.553516\n",
       "..        ...\n",
       "495 -0.546056\n",
       "496 -0.541580\n",
       "497 -0.546056\n",
       "498 -0.546056\n",
       "499 -0.546056\n",
       "\n",
       "[500 rows x 1 columns]"
      ]
     },
     "execution_count": 98,
     "metadata": {},
     "output_type": "execute_result"
    }
   ],
   "source": [
    "df_sam_resp = pd.DataFrame(resp)\n",
    "df_sam_resp['row'] = np.arange(len(df_sam_resp))\n",
    "df_sam_resp.set_index('row', inplace=True)\n",
    "df_sam_resp"
   ]
  },
  {
   "cell_type": "code",
   "execution_count": 99,
   "id": "d28e7650",
   "metadata": {},
   "outputs": [
    {
     "data": {
      "text/html": [
       "<div>\n",
       "<style scoped>\n",
       "    .dataframe tbody tr th:only-of-type {\n",
       "        vertical-align: middle;\n",
       "    }\n",
       "\n",
       "    .dataframe tbody tr th {\n",
       "        vertical-align: top;\n",
       "    }\n",
       "\n",
       "    .dataframe thead th {\n",
       "        text-align: right;\n",
       "    }\n",
       "</style>\n",
       "<table border=\"1\" class=\"dataframe\">\n",
       "  <thead>\n",
       "    <tr style=\"text-align: right;\">\n",
       "      <th></th>\n",
       "      <th>0_x</th>\n",
       "      <th>0_y</th>\n",
       "    </tr>\n",
       "    <tr>\n",
       "      <th>row</th>\n",
       "      <th></th>\n",
       "      <th></th>\n",
       "    </tr>\n",
       "  </thead>\n",
       "  <tbody>\n",
       "    <tr>\n",
       "      <th>0</th>\n",
       "      <td>-0.019984</td>\n",
       "      <td>-0.555008</td>\n",
       "    </tr>\n",
       "    <tr>\n",
       "      <th>1</th>\n",
       "      <td>-0.019984</td>\n",
       "      <td>-0.555008</td>\n",
       "    </tr>\n",
       "    <tr>\n",
       "      <th>2</th>\n",
       "      <td>-0.014988</td>\n",
       "      <td>-0.553516</td>\n",
       "    </tr>\n",
       "    <tr>\n",
       "      <th>3</th>\n",
       "      <td>-0.004996</td>\n",
       "      <td>-0.553516</td>\n",
       "    </tr>\n",
       "    <tr>\n",
       "      <th>4</th>\n",
       "      <td>-0.004996</td>\n",
       "      <td>-0.553516</td>\n",
       "    </tr>\n",
       "    <tr>\n",
       "      <th>...</th>\n",
       "      <td>...</td>\n",
       "      <td>...</td>\n",
       "    </tr>\n",
       "    <tr>\n",
       "      <th>495</th>\n",
       "      <td>0.047461</td>\n",
       "      <td>-0.546056</td>\n",
       "    </tr>\n",
       "    <tr>\n",
       "      <th>496</th>\n",
       "      <td>0.053706</td>\n",
       "      <td>-0.541580</td>\n",
       "    </tr>\n",
       "    <tr>\n",
       "      <th>497</th>\n",
       "      <td>0.054955</td>\n",
       "      <td>-0.546056</td>\n",
       "    </tr>\n",
       "    <tr>\n",
       "      <th>498</th>\n",
       "      <td>0.054955</td>\n",
       "      <td>-0.546056</td>\n",
       "    </tr>\n",
       "    <tr>\n",
       "      <th>499</th>\n",
       "      <td>0.054955</td>\n",
       "      <td>-0.546056</td>\n",
       "    </tr>\n",
       "  </tbody>\n",
       "</table>\n",
       "<p>500 rows × 2 columns</p>\n",
       "</div>"
      ],
      "text/plain": [
       "          0_x       0_y\n",
       "row                    \n",
       "0   -0.019984 -0.555008\n",
       "1   -0.019984 -0.555008\n",
       "2   -0.014988 -0.553516\n",
       "3   -0.004996 -0.553516\n",
       "4   -0.004996 -0.553516\n",
       "..        ...       ...\n",
       "495  0.047461 -0.546056\n",
       "496  0.053706 -0.541580\n",
       "497  0.054955 -0.546056\n",
       "498  0.054955 -0.546056\n",
       "499  0.054955 -0.546056\n",
       "\n",
       "[500 rows x 2 columns]"
      ]
     },
     "execution_count": 99,
     "metadata": {},
     "output_type": "execute_result"
    }
   ],
   "source": [
    "#merged_df = pd.merge(df_ecg_signals, df_resp_signals, on=0)\n",
    "mapped_df = pd.merge(df_sam_ecg, df_sam_resp, on='row')\n",
    "mapped_df"
   ]
  },
  {
   "cell_type": "markdown",
   "id": "66461b4d",
   "metadata": {},
   "source": [
    "# 6) Get Heart Rates from ECG"
   ]
  },
  {
   "cell_type": "code",
   "execution_count": 86,
   "id": "05e8ed8b",
   "metadata": {},
   "outputs": [
    {
     "data": {
      "application/vnd.plotly.v1+json": {
       "config": {
        "linkText": "Export to plot.ly",
        "plotlyServerURL": "https://plot.ly",
        "showLink": false
       },
       "data": [
        {
         "type": "scatter",
         "y": [
          -0.019983521088922047,
          -0.019983521088922047,
          -0.014987640816691536,
          -0.004995880272230512,
          -0.004995880272230512,
          -0.004995880272230512,
          0,
          0,
          0.004995880272230512,
          0.004995880272230512,
          0,
          -0.004995880272230512,
          -0.009991760544461024,
          -0.024979401361152558,
          -0.02997528163338307,
          -0.039967042177844095,
          -0.044962922450074605,
          -0.044962922450074605,
          -0.034971161905613585,
          -0.019983521088922047,
          -0.004995880272230512,
          0.009991760544461024,
          0.034971161905613585,
          0.044962922450074605,
          0.054954682994535625,
          0.044962922450074605,
          0.044962922450074605,
          0.044962922450074605,
          0.044962922450074605,
          0.039967042177844095,
          0.034971161905613585,
          0.02997528163338307,
          0.02997528163338307,
          0.024979401361152558,
          -0.009991760544461024,
          -0.09367275510432209,
          -0.1835986000044713,
          -0.15487228843914586,
          0.08617893469597633,
          0.4696127455896681,
          0.8043367238291124,
          0.9080012394778955,
          0.7081660285886751,
          0.37094411021311546,
          0.08992584490014921,
          -0.04246498231395935,
          -0.06994232381122717,
          -0.054954682994535625,
          -0.044962922450074605,
          -0.044962922450074605,
          -0.044962922450074605,
          -0.044962922450074605,
          -0.044962922450074605,
          -0.049958802722305115,
          -0.054954682994535625,
          -0.054954682994535625,
          -0.054954682994535625,
          -0.05995056326676614,
          -0.06494644353899665,
          -0.06994232381122717,
          -0.07493820408345768,
          -0.07493820408345768,
          -0.07993408435568819,
          -0.08992584490014921,
          -0.09492172517237972,
          -0.09991760544461023,
          -0.10990936598907125,
          -0.11990112653353228,
          -0.1298928870779933,
          -0.13988464762245434,
          -0.14987640816691536,
          -0.15986816871137638,
          -0.1698599292558374,
          -0.1748558095280679,
          -0.18484757007252894,
          -0.18984345034475944,
          -0.19983521088922046,
          -0.19983521088922046,
          -0.19983521088922046,
          -0.20483109116145098,
          -0.20982697143368148,
          -0.20483109116145098,
          -0.20483109116145098,
          -0.19983521088922046,
          -0.18984345034475944,
          -0.17610477959612553,
          -0.151125378234973,
          -0.1211500966015899,
          -0.10116657551266786,
          -0.08118305442374582,
          -0.061199533334823766,
          -0.044962922450074605,
          -0.039967042177844095,
          -0.034971161905613585,
          -0.019983521088922047,
          -0.014987640816691536,
          -0.004995880272230512,
          -0.004995880272230512,
          -0.004995880272230512,
          -0.004995880272230512,
          0,
          0.004995880272230512,
          0.004995880272230512,
          0.004995880272230512,
          0.004995880272230512,
          0,
          -0.004995880272230512,
          -0.014987640816691536,
          -0.024979401361152558,
          -0.034971161905613585,
          -0.039967042177844095,
          -0.039967042177844095,
          -0.034971161905613585,
          -0.02997528163338307,
          -0.019983521088922047,
          -0.006244850340288139,
          0.01873455102086442,
          0.038718072109786464,
          0.044962922450074605,
          0.049958802722305115,
          0.049958802722305115,
          0.049958802722305115,
          0.044962922450074605,
          0.039967042177844095,
          0.039967042177844095,
          0.034971161905613585,
          0.02997528163338307,
          0.02997528163338307,
          0.01623661088474916,
          -0.03746910204172884,
          -0.1298928870779933,
          -0.2010841809572781,
          -0.11490524626130177,
          0.16486404898360688,
          0.5495468299453563,
          0.8355609755305531,
          0.8542955265514175,
          0.6094973932121224,
          0.2872631156532544,
          0.05245674285842037,
          -0.049958802722305115,
          -0.06494644353899665,
          -0.054954682994535625,
          -0.044962922450074605,
          -0.044962922450074605,
          -0.044962922450074605,
          -0.044962922450074605,
          -0.044962922450074605,
          -0.044962922450074605,
          -0.049958802722305115,
          -0.054954682994535625,
          -0.05995056326676614,
          -0.05995056326676614,
          -0.05995056326676614,
          -0.06494644353899665,
          -0.06994232381122717,
          -0.06994232381122717,
          -0.07493820408345768,
          -0.0849299646279187,
          -0.09492172517237972,
          -0.09991760544461023,
          -0.10491348571684074,
          -0.11490524626130177,
          -0.1248970068057628,
          -0.13488876735022381,
          -0.14488052789468484,
          -0.15487228843914586,
          -0.15986816871137638,
          -0.16486404898360688,
          -0.1748558095280679,
          -0.17985168980029842,
          -0.18484757007252894,
          -0.18984345034475944,
          -0.18984345034475944,
          -0.18984345034475944,
          -0.18984345034475944,
          -0.19483933061698996,
          -0.18984345034475944,
          -0.18110065986835605,
          -0.1661130190516645,
          -0.1561212585072035,
          -0.13239082721410855,
          -0.107411425852956,
          -0.08617893469597633,
          -0.06619541360705428,
          -0.051207772790362746,
          -0.04121601224590172,
          -0.026228371429210185,
          -0.019983521088922047,
          -0.014987640816691536,
          -0.006244850340288139,
          0,
          0.004995880272230512,
          0.004995880272230512,
          0.004995880272230512,
          0.004995880272230512,
          0.004995880272230512,
          0.004995880272230512,
          0.009991760544461024,
          0.004995880272230512,
          -0.003746910204172884,
          -0.009991760544461024,
          -0.01873455102086442,
          -0.028726311565325444,
          -0.038718072109786464,
          -0.044962922450074605,
          -0.039967042177844095,
          -0.026228371429210185,
          -0.011240730612518651,
          -0.001248970068057628,
          0.01873455102086442,
          0.04246498231395935,
          0.053705712926478,
          0.049958802722305115,
          0.044962922450074605,
          0.049958802722305115,
          0.049958802722305115,
          0.044962922450074605,
          0.044962922450074605,
          0.03622013197367121,
          0.02997528163338307,
          0.02997528163338307,
          0.01623661088474916,
          -0.026228371429210185,
          -0.11240730612518651,
          -0.1748558095280679,
          -0.11115833605712888,
          0.13114185714605092,
          0.473359655793841,
          0.7643696816512683,
          0.8305650952583226,
          0.6357257646413326,
          0.3284791278991561,
          0.08243202449180344,
          -0.039967042177844095,
          -0.06369747347093903,
          -0.051207772790362746,
          -0.04121601224590172,
          -0.039967042177844095,
          -0.044962922450074605,
          -0.044962922450074605,
          -0.044962922450074605,
          -0.044962922450074605,
          -0.044962922450074605,
          -0.044962922450074605,
          -0.049958802722305115,
          -0.05870159319870851,
          -0.06494644353899665,
          -0.06494644353899665,
          -0.06494644353899665,
          -0.06994232381122717,
          -0.07493820408345768,
          -0.07993408435568819,
          -0.0849299646279187,
          -0.09367275510432209,
          -0.10366451564878312,
          -0.11365627619324414,
          -0.11990112653353228,
          -0.1286439170099357,
          -0.1436315578266272,
          -0.14987640816691536,
          -0.15487228843914586,
          -0.16361507891554924,
          -0.1736068394600103,
          -0.17985168980029842,
          -0.17985168980029842,
          -0.17985168980029842,
          -0.18484757007252894,
          -0.18484757007252894,
          -0.18110065986835605,
          -0.17985168980029842,
          -0.17610477959612553,
          -0.17110889932389503,
          -0.1561212585072035,
          -0.14113361769051194,
          -0.12239906666964753,
          -0.09741966530849498,
          -0.07244026394734242,
          -0.05245674285842037,
          -0.03622013197367121,
          -0.021232491156979675,
          -0.011240730612518651,
          -0.004995880272230512,
          0.003746910204172884,
          0.004995880272230512,
          0.004995880272230512,
          0.004995880272230512,
          0.004995880272230512,
          0.004995880272230512,
          0.004995880272230512,
          0.009991760544461024,
          0.01873455102086442,
          0.019983521088922047,
          0.019983521088922047,
          0.011240730612518651,
          0.001248970068057628,
          -0.008742790476403396,
          -0.01873455102086442,
          -0.024979401361152558,
          -0.02997528163338307,
          -0.034971161905613585,
          -0.02997528163338307,
          -0.01623661088474916,
          -0.006244850340288139,
          0,
          0.022481461225037302,
          0.04246498231395935,
          0.053705712926478,
          0.054954682994535625,
          0.046211892518132236,
          0.044962922450074605,
          0.044962922450074605,
          0.044962922450074605,
          0.044962922450074605,
          0.044962922450074605,
          0.03622013197367121,
          0.026228371429210185,
          0.012489700680576279,
          -0.033722191837555954,
          -0.12239906666964753,
          -0.1923413904808747,
          -0.10366451564878312,
          0.17110889932389503,
          0.5408040394689528,
          0.8168264245096887,
          0.8193243646458039,
          0.5757752013745665,
          0.2572878340198714,
          0.03622013197367121,
          -0.046211892518132236,
          -0.054954682994535625,
          -0.04246498231395935,
          -0.03622013197367121,
          -0.034971161905613585,
          -0.043713952382016974,
          -0.044962922450074605,
          -0.04121601224590172,
          -0.043713952382016974,
          -0.044962922450074605,
          -0.04870983265424749,
          -0.049958802722305115,
          -0.053705712926478,
          -0.05870159319870851,
          -0.05995056326676614,
          -0.05995056326676614,
          -0.06369747347093903,
          -0.06869335374316954,
          -0.07868511428763056,
          -0.08867687483209158,
          -0.0986686353765526,
          -0.10866039592101363,
          -0.11490524626130177,
          -0.11990112653353228,
          -0.1286439170099357,
          -0.14238258775856957,
          -0.14987640816691536,
          -0.15487228843914586,
          -0.15986816871137638,
          -0.16486404898360688,
          -0.1736068394600103,
          -0.1748558095280679,
          -0.1748558095280679,
          -0.17985168980029842,
          -0.18484757007252894,
          -0.18484757007252894,
          -0.18110065986835605,
          -0.17610477959612553,
          -0.17110889932389503,
          -0.161117138779434,
          -0.1473784680308001,
          -0.12364803673770516,
          -0.10241554558072549,
          -0.08243202449180344,
          -0.05870159319870851,
          -0.04246498231395935,
          -0.0312242517014407,
          -0.021232491156979675,
          -0.007493820408345768,
          -0.001248970068057628,
          0.003746910204172884,
          0.004995880272230512,
          0.004995880272230512,
          0.004995880272230512,
          0.004995880272230512,
          0.004995880272230512,
          0.004995880272230512,
          0.004995880272230512,
          0.004995880272230512,
          0.004995880272230512,
          0.001248970068057628,
          -0.008742790476403396,
          -0.022481461225037302,
          -0.03746910204172884,
          -0.043713952382016974,
          -0.04870983265424749,
          -0.046211892518132236,
          -0.04121601224590172,
          -0.027477341497267813,
          -0.012489700680576279,
          0.006244850340288139,
          0.026228371429210185,
          0.038718072109786464,
          0.043713952382016974,
          0.04121601224590172,
          0.03622013197367121,
          0.0312242517014407,
          0.026228371429210185,
          0.028726311565325444,
          0.033722191837555954,
          0.0312242517014407,
          0.026228371429210185,
          0.021232491156979675,
          -0.001248970068057628,
          -0.06369747347093903,
          -0.14612949796274247,
          -0.16361507891554924,
          -0.027477341497267813,
          0.25853680408792895,
          0.580771081646797,
          0.7643696816512683,
          0.7019211782483868,
          0.4558740748410342,
          0.18110065986835605,
          0.006244850340288139,
          -0.05745262313065089,
          -0.06494644353899665,
          -0.056203653062593256,
          -0.051207772790362746,
          -0.049958802722305115,
          -0.05870159319870851,
          -0.06369747347093903,
          -0.06494644353899665,
          -0.06494644353899665,
          -0.06494644353899665,
          -0.06494644353899665,
          -0.06869335374316954,
          -0.06994232381122717,
          -0.07868511428763056,
          -0.08867687483209158,
          -0.08992584490014921,
          -0.08992584490014921,
          -0.09367275510432209,
          -0.0986686353765526,
          -0.10866039592101363,
          -0.11365627619324414,
          -0.11865215646547465,
          -0.13239082721410855,
          -0.1386356775543967,
          -0.1436315578266272,
          -0.14862743809885773,
          -0.15861919864331875,
          -0.16861095918777977,
          -0.1736068394600103,
          -0.1748558095280679,
          -0.1786027197322408,
          -0.17985168980029842,
          -0.17985168980029842,
          -0.17985168980029842,
          -0.1835986000044713,
          -0.18484757007252894,
          -0.18110065986835605,
          -0.16736198911972214,
          -0.15737022857526112,
          -0.14238258775856957,
          -0.12739494694187806,
          -0.10866039592101363,
          -0.09242378503626447,
          -0.06994232381122717,
          -0.04870983265424749,
          -0.03247322176949832,
          -0.013738670748633906,
          -0.006244850340288139,
          -0.001248970068057628,
          0.008742790476403396,
          0.01873455102086442,
          0.01623661088474916,
          0.014987640816691536,
          0.014987640816691536,
          0.01873455102086442,
          0.019983521088922047,
          0.019983521088922047,
          0.019983521088922047,
          0.019983521088922047,
          0.012489700680576279,
          0.002497940136115256,
          -0.007493820408345768,
          -0.022481461225037302,
          -0.03247322176949832,
          -0.038718072109786464,
          -0.03622013197367121,
          -0.027477341497267813,
          -0.012489700680576279,
          -0.006244850340288139,
          0.007493820408345768,
          0.02997528163338307,
          0.04746086258618986,
          0.053705712926478,
          0.054954682994535625,
          0.054954682994535625,
          0.054954682994535625
         ]
        },
        {
         "type": "scatter",
         "y": [
          -0.5550075519071932,
          -0.5550075519071932,
          -0.5535155961224963,
          -0.5535155961224963,
          -0.5535155961224963,
          -0.5520236403377996,
          -0.5535155961224963,
          -0.5535155961224963,
          -0.5564995076918899,
          -0.5550075519071932,
          -0.5579914634765867,
          -0.5550075519071932,
          -0.5520236403377996,
          -0.5535155961224963,
          -0.5520236403377996,
          -0.5535155961224963,
          -0.5535155961224963,
          -0.5564995076918899,
          -0.5564995076918899,
          -0.5535155961224963,
          -0.5535155961224963,
          -0.5535155961224963,
          -0.5535155961224963,
          -0.5520236403377996,
          -0.5535155961224963,
          -0.5564995076918899,
          -0.5550075519071932,
          -0.5520236403377996,
          -0.5535155961224963,
          -0.5520236403377996,
          -0.5535155961224963,
          -0.5535155961224963,
          -0.5550075519071932,
          -0.5520236403377996,
          -0.5550075519071932,
          -0.5535155961224963,
          -0.5535155961224963,
          -0.5535155961224963,
          -0.5505316845531029,
          -0.5535155961224963,
          -0.5550075519071932,
          -0.5579914634765867,
          -0.5535155961224963,
          -0.5564995076918899,
          -0.5505316845531029,
          -0.5535155961224963,
          -0.5520236403377996,
          -0.5550075519071932,
          -0.5535155961224963,
          -0.5550075519071932,
          -0.5535155961224963,
          -0.5564995076918899,
          -0.5564995076918899,
          -0.5505316845531029,
          -0.5550075519071932,
          -0.5520236403377996,
          -0.5535155961224963,
          -0.5550075519071932,
          -0.5550075519071932,
          -0.5535155961224963,
          -0.5550075519071932,
          -0.5535155961224963,
          -0.5535155961224963,
          -0.5535155961224963,
          -0.5520236403377996,
          -0.5520236403377996,
          -0.5535155961224963,
          -0.5564995076918899,
          -0.5550075519071932,
          -0.5550075519071932,
          -0.5535155961224963,
          -0.5505316845531029,
          -0.5535155961224963,
          -0.5535155961224963,
          -0.5535155961224963,
          -0.5550075519071932,
          -0.5535155961224963,
          -0.5550075519071932,
          -0.5535155961224963,
          -0.5520236403377996,
          -0.5535155961224963,
          -0.5535155961224963,
          -0.5520236403377996,
          -0.5535155961224963,
          -0.5550075519071932,
          -0.5564995076918899,
          -0.5535155961224963,
          -0.5535155961224963,
          -0.5505316845531029,
          -0.5505316845531029,
          -0.5550075519071932,
          -0.5535155961224963,
          -0.5550075519071932,
          -0.5550075519071932,
          -0.5535155961224963,
          -0.5535155961224963,
          -0.5535155961224963,
          -0.5520236403377996,
          -0.5564995076918899,
          -0.5550075519071932,
          -0.5550075519071932,
          -0.5564995076918899,
          -0.5550075519071932,
          -0.5550075519071932,
          -0.5535155961224963,
          -0.5475477729837094,
          -0.5520236403377996,
          -0.5490397287684061,
          -0.5535155961224963,
          -0.5550075519071932,
          -0.5535155961224963,
          -0.5535155961224963,
          -0.5535155961224963,
          -0.5564995076918899,
          -0.5535155961224963,
          -0.5550075519071932,
          -0.5535155961224963,
          -0.5564995076918899,
          -0.5564995076918899,
          -0.5535155961224963,
          -0.5535155961224963,
          -0.5505316845531029,
          -0.5505316845531029,
          -0.5535155961224963,
          -0.5564995076918899,
          -0.5564995076918899,
          -0.5579914634765867,
          -0.5550075519071932,
          -0.5520236403377996,
          -0.5535155961224963,
          -0.5505316845531029,
          -0.5535155961224963,
          -0.5550075519071932,
          -0.5535155961224963,
          -0.5579914634765867,
          -0.5535155961224963,
          -0.5535155961224963,
          -0.5505316845531029,
          -0.5535155961224963,
          -0.5550075519071932,
          -0.5535155961224963,
          -0.5535155961224963,
          -0.5535155961224963,
          -0.5550075519071932,
          -0.5505316845531029,
          -0.5535155961224963,
          -0.5505316845531029,
          -0.5520236403377996,
          -0.5535155961224963,
          -0.5520236403377996,
          -0.5564995076918899,
          -0.5564995076918899,
          -0.5550075519071932,
          -0.5535155961224963,
          -0.5535155961224963,
          -0.5505316845531029,
          -0.5535155961224963,
          -0.5550075519071932,
          -0.5550075519071932,
          -0.5550075519071932,
          -0.5505316845531029,
          -0.5550075519071932,
          -0.5520236403377996,
          -0.5505316845531029,
          -0.5535155961224963,
          -0.5535155961224963,
          -0.5564995076918899,
          -0.5520236403377996,
          -0.5550075519071932,
          -0.5564995076918899,
          -0.5535155961224963,
          -0.5520236403377996,
          -0.5535155961224963,
          -0.5535155961224963,
          -0.5550075519071932,
          -0.5550075519071932,
          -0.5564995076918899,
          -0.5535155961224963,
          -0.5535155961224963,
          -0.5535155961224963,
          -0.5535155961224963,
          -0.5520236403377996,
          -0.5550075519071932,
          -0.5550075519071932,
          -0.5550075519071932,
          -0.5564995076918899,
          -0.5550075519071932,
          -0.5550075519071932,
          -0.5535155961224963,
          -0.5535155961224963,
          -0.5535155961224963,
          -0.5564995076918899,
          -0.5520236403377996,
          -0.5550075519071932,
          -0.5535155961224963,
          -0.5520236403377996,
          -0.5520236403377996,
          -0.5520236403377996,
          -0.5520236403377996,
          -0.5535155961224963,
          -0.5550075519071932,
          -0.5535155961224963,
          -0.5535155961224963,
          -0.5520236403377996,
          -0.5535155961224963,
          -0.5520236403377996,
          -0.5535155961224963,
          -0.5550075519071932,
          -0.5520236403377996,
          -0.5520236403377996,
          -0.5550075519071932,
          -0.5520236403377996,
          -0.5520236403377996,
          -0.5535155961224963,
          -0.5535155961224963,
          -0.5520236403377996,
          -0.5535155961224963,
          -0.5550075519071932,
          -0.5564995076918899,
          -0.5564995076918899,
          -0.5520236403377996,
          -0.5535155961224963,
          -0.5550075519071932,
          -0.5550075519071932,
          -0.5520236403377996,
          -0.5535155961224963,
          -0.5520236403377996,
          -0.5535155961224963,
          -0.5535155961224963,
          -0.5535155961224963,
          -0.5505316845531029,
          -0.5535155961224963,
          -0.5535155961224963,
          -0.5550075519071932,
          -0.5564995076918899,
          -0.5550075519071932,
          -0.5564995076918899,
          -0.5520236403377996,
          -0.5535155961224963,
          -0.5535155961224963,
          -0.5535155961224963,
          -0.5550075519071932,
          -0.5535155961224963,
          -0.5535155961224963,
          -0.5535155961224963,
          -0.5520236403377996,
          -0.5505316845531029,
          -0.5520236403377996,
          -0.5535155961224963,
          -0.5520236403377996,
          -0.5535155961224963,
          -0.5550075519071932,
          -0.5535155961224963,
          -0.5535155961224963,
          -0.5535155961224963,
          -0.5520236403377996,
          -0.5535155961224963,
          -0.5535155961224963,
          -0.5535155961224963,
          -0.5550075519071932,
          -0.5564995076918899,
          -0.5535155961224963,
          -0.5535155961224963,
          -0.5535155961224963,
          -0.5505316845531029,
          -0.5550075519071932,
          -0.5550075519071932,
          -0.5550075519071932,
          -0.5550075519071932,
          -0.5535155961224963,
          -0.5550075519071932,
          -0.5520236403377996,
          -0.5535155961224963,
          -0.5550075519071932,
          -0.5550075519071932,
          -0.5550075519071932,
          -0.5550075519071932,
          -0.5535155961224963,
          -0.5535155961224963,
          -0.5505316845531029,
          -0.5535155961224963,
          -0.5550075519071932,
          -0.5520236403377996,
          -0.5550075519071932,
          -0.5579914634765867,
          -0.5564995076918899,
          -0.5535155961224963,
          -0.5535155961224963,
          -0.5520236403377996,
          -0.5505316845531029,
          -0.5550075519071932,
          -0.5550075519071932,
          -0.5564995076918899,
          -0.5550075519071932,
          -0.5520236403377996,
          -0.5550075519071932,
          -0.5535155961224963,
          -0.5535155961224963,
          -0.5535155961224963,
          -0.5550075519071932,
          -0.5535155961224963,
          -0.5550075519071932,
          -0.5550075519071932,
          -0.5535155961224963,
          -0.5535155961224963,
          -0.5535155961224963,
          -0.5535155961224963,
          -0.5535155961224963,
          -0.5550075519071932,
          -0.5564995076918899,
          -0.5550075519071932,
          -0.5535155961224963,
          -0.5505316845531029,
          -0.5535155961224963,
          -0.5520236403377996,
          -0.5535155961224963,
          -0.5550075519071932,
          -0.5535155961224963,
          -0.5535155961224963,
          -0.5550075519071932,
          -0.5535155961224963,
          -0.5520236403377996,
          -0.5564995076918899,
          -0.5535155961224963,
          -0.5564995076918899,
          -0.5550075519071932,
          -0.5550075519071932,
          -0.5535155961224963,
          -0.5550075519071932,
          -0.5535155961224963,
          -0.5535155961224963,
          -0.5535155961224963,
          -0.5535155961224963,
          -0.5535155961224963,
          -0.5550075519071932,
          -0.5535155961224963,
          -0.5535155961224963,
          -0.5535155961224963,
          -0.5550075519071932,
          -0.5535155961224963,
          -0.5550075519071932,
          -0.5564995076918899,
          -0.5550075519071932,
          -0.5564995076918899,
          -0.5564995076918899,
          -0.5520236403377996,
          -0.5535155961224963,
          -0.5535155961224963,
          -0.5535155961224963,
          -0.5535155961224963,
          -0.5550075519071932,
          -0.5550075519071932,
          -0.5550075519071932,
          -0.5564995076918899,
          -0.5535155961224963,
          -0.5535155961224963,
          -0.5550075519071932,
          -0.5550075519071932,
          -0.5535155961224963,
          -0.5550075519071932,
          -0.5564995076918899,
          -0.5550075519071932,
          -0.5535155961224963,
          -0.5535155961224963,
          -0.5505316845531029,
          -0.5550075519071932,
          -0.5564995076918899,
          -0.5550075519071932,
          -0.5564995076918899,
          -0.5535155961224963,
          -0.5550075519071932,
          -0.5535155961224963,
          -0.5535155961224963,
          -0.5550075519071932,
          -0.5550075519071932,
          -0.5564995076918899,
          -0.5550075519071932,
          -0.5550075519071932,
          -0.5550075519071932,
          -0.5535155961224963,
          -0.5535155961224963,
          -0.5535155961224963,
          -0.5535155961224963,
          -0.5564995076918899,
          -0.5564995076918899,
          -0.5535155961224963,
          -0.5550075519071932,
          -0.5535155961224963,
          -0.5564995076918899,
          -0.5550075519071932,
          -0.5520236403377996,
          -0.5550075519071932,
          -0.5550075519071932,
          -0.5564995076918899,
          -0.5550075519071932,
          -0.5550075519071932,
          -0.5550075519071932,
          -0.5535155961224963,
          -0.5520236403377996,
          -0.5550075519071932,
          -0.5550075519071932,
          -0.5579914634765867,
          -0.5550075519071932,
          -0.5535155961224963,
          -0.5564995076918899,
          -0.5535155961224963,
          -0.5535155961224963,
          -0.5535155961224963,
          -0.5535155961224963,
          -0.5564995076918899,
          -0.5550075519071932,
          -0.5550075519071932,
          -0.5535155961224963,
          -0.5550075519071932,
          -0.5550075519071932,
          -0.5550075519071932,
          -0.5550075519071932,
          -0.5564995076918899,
          -0.5535155961224963,
          -0.5550075519071932,
          -0.5550075519071932,
          -0.5535155961224963,
          -0.5535155961224963,
          -0.5550075519071932,
          -0.5550075519071932,
          -0.5535155961224963,
          -0.5550075519071932,
          -0.5550075519071932,
          -0.5550075519071932,
          -0.5550075519071932,
          -0.5535155961224963,
          -0.5535155961224963,
          -0.5535155961224963,
          -0.5550075519071932,
          -0.5564995076918899,
          -0.5564995076918899,
          -0.5520236403377996,
          -0.5564995076918899,
          -0.5505316845531029,
          -0.5520236403377996,
          -0.5520236403377996,
          -0.5535155961224963,
          -0.5550075519071932,
          -0.5550075519071932,
          -0.5535155961224963,
          -0.5520236403377996,
          -0.5520236403377996,
          -0.5505316845531029,
          -0.5535155961224963,
          -0.5535155961224963,
          -0.5564995076918899,
          -0.5535155961224963,
          -0.5535155961224963,
          -0.5550075519071932,
          -0.5520236403377996,
          -0.5520236403377996,
          -0.5505316845531029,
          -0.5535155961224963,
          -0.5505316845531029,
          -0.5535155961224963,
          -0.5520236403377996,
          -0.5505316845531029,
          -0.5520236403377996,
          -0.5520236403377996,
          -0.5505316845531029,
          -0.5505316845531029,
          -0.5505316845531029,
          -0.5535155961224963,
          -0.5505316845531029,
          -0.5505316845531029,
          -0.5490397287684061,
          -0.5490397287684061,
          -0.5475477729837094,
          -0.5460558171990126,
          -0.5535155961224963,
          -0.5535155961224963,
          -0.5520236403377996,
          -0.5520236403377996,
          -0.5520236403377996,
          -0.5475477729837094,
          -0.5490397287684061,
          -0.5475477729837094,
          -0.5475477729837094,
          -0.5490397287684061,
          -0.5505316845531029,
          -0.5490397287684061,
          -0.5460558171990126,
          -0.5475477729837094,
          -0.5460558171990126,
          -0.5505316845531029,
          -0.5460558171990126,
          -0.5475477729837094,
          -0.5475477729837094,
          -0.5490397287684061,
          -0.5475477729837094,
          -0.5460558171990126,
          -0.5415799498449223,
          -0.5460558171990126,
          -0.5460558171990126,
          -0.5460558171990126
         ]
        }
       ],
       "layout": {
        "template": {
         "data": {
          "bar": [
           {
            "error_x": {
             "color": "#2a3f5f"
            },
            "error_y": {
             "color": "#2a3f5f"
            },
            "marker": {
             "line": {
              "color": "#E5ECF6",
              "width": 0.5
             },
             "pattern": {
              "fillmode": "overlay",
              "size": 10,
              "solidity": 0.2
             }
            },
            "type": "bar"
           }
          ],
          "barpolar": [
           {
            "marker": {
             "line": {
              "color": "#E5ECF6",
              "width": 0.5
             },
             "pattern": {
              "fillmode": "overlay",
              "size": 10,
              "solidity": 0.2
             }
            },
            "type": "barpolar"
           }
          ],
          "carpet": [
           {
            "aaxis": {
             "endlinecolor": "#2a3f5f",
             "gridcolor": "white",
             "linecolor": "white",
             "minorgridcolor": "white",
             "startlinecolor": "#2a3f5f"
            },
            "baxis": {
             "endlinecolor": "#2a3f5f",
             "gridcolor": "white",
             "linecolor": "white",
             "minorgridcolor": "white",
             "startlinecolor": "#2a3f5f"
            },
            "type": "carpet"
           }
          ],
          "choropleth": [
           {
            "colorbar": {
             "outlinewidth": 0,
             "ticks": ""
            },
            "type": "choropleth"
           }
          ],
          "contour": [
           {
            "colorbar": {
             "outlinewidth": 0,
             "ticks": ""
            },
            "colorscale": [
             [
              0,
              "#0d0887"
             ],
             [
              0.1111111111111111,
              "#46039f"
             ],
             [
              0.2222222222222222,
              "#7201a8"
             ],
             [
              0.3333333333333333,
              "#9c179e"
             ],
             [
              0.4444444444444444,
              "#bd3786"
             ],
             [
              0.5555555555555556,
              "#d8576b"
             ],
             [
              0.6666666666666666,
              "#ed7953"
             ],
             [
              0.7777777777777778,
              "#fb9f3a"
             ],
             [
              0.8888888888888888,
              "#fdca26"
             ],
             [
              1,
              "#f0f921"
             ]
            ],
            "type": "contour"
           }
          ],
          "contourcarpet": [
           {
            "colorbar": {
             "outlinewidth": 0,
             "ticks": ""
            },
            "type": "contourcarpet"
           }
          ],
          "heatmap": [
           {
            "colorbar": {
             "outlinewidth": 0,
             "ticks": ""
            },
            "colorscale": [
             [
              0,
              "#0d0887"
             ],
             [
              0.1111111111111111,
              "#46039f"
             ],
             [
              0.2222222222222222,
              "#7201a8"
             ],
             [
              0.3333333333333333,
              "#9c179e"
             ],
             [
              0.4444444444444444,
              "#bd3786"
             ],
             [
              0.5555555555555556,
              "#d8576b"
             ],
             [
              0.6666666666666666,
              "#ed7953"
             ],
             [
              0.7777777777777778,
              "#fb9f3a"
             ],
             [
              0.8888888888888888,
              "#fdca26"
             ],
             [
              1,
              "#f0f921"
             ]
            ],
            "type": "heatmap"
           }
          ],
          "heatmapgl": [
           {
            "colorbar": {
             "outlinewidth": 0,
             "ticks": ""
            },
            "colorscale": [
             [
              0,
              "#0d0887"
             ],
             [
              0.1111111111111111,
              "#46039f"
             ],
             [
              0.2222222222222222,
              "#7201a8"
             ],
             [
              0.3333333333333333,
              "#9c179e"
             ],
             [
              0.4444444444444444,
              "#bd3786"
             ],
             [
              0.5555555555555556,
              "#d8576b"
             ],
             [
              0.6666666666666666,
              "#ed7953"
             ],
             [
              0.7777777777777778,
              "#fb9f3a"
             ],
             [
              0.8888888888888888,
              "#fdca26"
             ],
             [
              1,
              "#f0f921"
             ]
            ],
            "type": "heatmapgl"
           }
          ],
          "histogram": [
           {
            "marker": {
             "pattern": {
              "fillmode": "overlay",
              "size": 10,
              "solidity": 0.2
             }
            },
            "type": "histogram"
           }
          ],
          "histogram2d": [
           {
            "colorbar": {
             "outlinewidth": 0,
             "ticks": ""
            },
            "colorscale": [
             [
              0,
              "#0d0887"
             ],
             [
              0.1111111111111111,
              "#46039f"
             ],
             [
              0.2222222222222222,
              "#7201a8"
             ],
             [
              0.3333333333333333,
              "#9c179e"
             ],
             [
              0.4444444444444444,
              "#bd3786"
             ],
             [
              0.5555555555555556,
              "#d8576b"
             ],
             [
              0.6666666666666666,
              "#ed7953"
             ],
             [
              0.7777777777777778,
              "#fb9f3a"
             ],
             [
              0.8888888888888888,
              "#fdca26"
             ],
             [
              1,
              "#f0f921"
             ]
            ],
            "type": "histogram2d"
           }
          ],
          "histogram2dcontour": [
           {
            "colorbar": {
             "outlinewidth": 0,
             "ticks": ""
            },
            "colorscale": [
             [
              0,
              "#0d0887"
             ],
             [
              0.1111111111111111,
              "#46039f"
             ],
             [
              0.2222222222222222,
              "#7201a8"
             ],
             [
              0.3333333333333333,
              "#9c179e"
             ],
             [
              0.4444444444444444,
              "#bd3786"
             ],
             [
              0.5555555555555556,
              "#d8576b"
             ],
             [
              0.6666666666666666,
              "#ed7953"
             ],
             [
              0.7777777777777778,
              "#fb9f3a"
             ],
             [
              0.8888888888888888,
              "#fdca26"
             ],
             [
              1,
              "#f0f921"
             ]
            ],
            "type": "histogram2dcontour"
           }
          ],
          "mesh3d": [
           {
            "colorbar": {
             "outlinewidth": 0,
             "ticks": ""
            },
            "type": "mesh3d"
           }
          ],
          "parcoords": [
           {
            "line": {
             "colorbar": {
              "outlinewidth": 0,
              "ticks": ""
             }
            },
            "type": "parcoords"
           }
          ],
          "pie": [
           {
            "automargin": true,
            "type": "pie"
           }
          ],
          "scatter": [
           {
            "fillpattern": {
             "fillmode": "overlay",
             "size": 10,
             "solidity": 0.2
            },
            "type": "scatter"
           }
          ],
          "scatter3d": [
           {
            "line": {
             "colorbar": {
              "outlinewidth": 0,
              "ticks": ""
             }
            },
            "marker": {
             "colorbar": {
              "outlinewidth": 0,
              "ticks": ""
             }
            },
            "type": "scatter3d"
           }
          ],
          "scattercarpet": [
           {
            "marker": {
             "colorbar": {
              "outlinewidth": 0,
              "ticks": ""
             }
            },
            "type": "scattercarpet"
           }
          ],
          "scattergeo": [
           {
            "marker": {
             "colorbar": {
              "outlinewidth": 0,
              "ticks": ""
             }
            },
            "type": "scattergeo"
           }
          ],
          "scattergl": [
           {
            "marker": {
             "colorbar": {
              "outlinewidth": 0,
              "ticks": ""
             }
            },
            "type": "scattergl"
           }
          ],
          "scattermapbox": [
           {
            "marker": {
             "colorbar": {
              "outlinewidth": 0,
              "ticks": ""
             }
            },
            "type": "scattermapbox"
           }
          ],
          "scatterpolar": [
           {
            "marker": {
             "colorbar": {
              "outlinewidth": 0,
              "ticks": ""
             }
            },
            "type": "scatterpolar"
           }
          ],
          "scatterpolargl": [
           {
            "marker": {
             "colorbar": {
              "outlinewidth": 0,
              "ticks": ""
             }
            },
            "type": "scatterpolargl"
           }
          ],
          "scatterternary": [
           {
            "marker": {
             "colorbar": {
              "outlinewidth": 0,
              "ticks": ""
             }
            },
            "type": "scatterternary"
           }
          ],
          "surface": [
           {
            "colorbar": {
             "outlinewidth": 0,
             "ticks": ""
            },
            "colorscale": [
             [
              0,
              "#0d0887"
             ],
             [
              0.1111111111111111,
              "#46039f"
             ],
             [
              0.2222222222222222,
              "#7201a8"
             ],
             [
              0.3333333333333333,
              "#9c179e"
             ],
             [
              0.4444444444444444,
              "#bd3786"
             ],
             [
              0.5555555555555556,
              "#d8576b"
             ],
             [
              0.6666666666666666,
              "#ed7953"
             ],
             [
              0.7777777777777778,
              "#fb9f3a"
             ],
             [
              0.8888888888888888,
              "#fdca26"
             ],
             [
              1,
              "#f0f921"
             ]
            ],
            "type": "surface"
           }
          ],
          "table": [
           {
            "cells": {
             "fill": {
              "color": "#EBF0F8"
             },
             "line": {
              "color": "white"
             }
            },
            "header": {
             "fill": {
              "color": "#C8D4E3"
             },
             "line": {
              "color": "white"
             }
            },
            "type": "table"
           }
          ]
         },
         "layout": {
          "annotationdefaults": {
           "arrowcolor": "#2a3f5f",
           "arrowhead": 0,
           "arrowwidth": 1
          },
          "autotypenumbers": "strict",
          "coloraxis": {
           "colorbar": {
            "outlinewidth": 0,
            "ticks": ""
           }
          },
          "colorscale": {
           "diverging": [
            [
             0,
             "#8e0152"
            ],
            [
             0.1,
             "#c51b7d"
            ],
            [
             0.2,
             "#de77ae"
            ],
            [
             0.3,
             "#f1b6da"
            ],
            [
             0.4,
             "#fde0ef"
            ],
            [
             0.5,
             "#f7f7f7"
            ],
            [
             0.6,
             "#e6f5d0"
            ],
            [
             0.7,
             "#b8e186"
            ],
            [
             0.8,
             "#7fbc41"
            ],
            [
             0.9,
             "#4d9221"
            ],
            [
             1,
             "#276419"
            ]
           ],
           "sequential": [
            [
             0,
             "#0d0887"
            ],
            [
             0.1111111111111111,
             "#46039f"
            ],
            [
             0.2222222222222222,
             "#7201a8"
            ],
            [
             0.3333333333333333,
             "#9c179e"
            ],
            [
             0.4444444444444444,
             "#bd3786"
            ],
            [
             0.5555555555555556,
             "#d8576b"
            ],
            [
             0.6666666666666666,
             "#ed7953"
            ],
            [
             0.7777777777777778,
             "#fb9f3a"
            ],
            [
             0.8888888888888888,
             "#fdca26"
            ],
            [
             1,
             "#f0f921"
            ]
           ],
           "sequentialminus": [
            [
             0,
             "#0d0887"
            ],
            [
             0.1111111111111111,
             "#46039f"
            ],
            [
             0.2222222222222222,
             "#7201a8"
            ],
            [
             0.3333333333333333,
             "#9c179e"
            ],
            [
             0.4444444444444444,
             "#bd3786"
            ],
            [
             0.5555555555555556,
             "#d8576b"
            ],
            [
             0.6666666666666666,
             "#ed7953"
            ],
            [
             0.7777777777777778,
             "#fb9f3a"
            ],
            [
             0.8888888888888888,
             "#fdca26"
            ],
            [
             1,
             "#f0f921"
            ]
           ]
          },
          "colorway": [
           "#636efa",
           "#EF553B",
           "#00cc96",
           "#ab63fa",
           "#FFA15A",
           "#19d3f3",
           "#FF6692",
           "#B6E880",
           "#FF97FF",
           "#FECB52"
          ],
          "font": {
           "color": "#2a3f5f"
          },
          "geo": {
           "bgcolor": "white",
           "lakecolor": "white",
           "landcolor": "#E5ECF6",
           "showlakes": true,
           "showland": true,
           "subunitcolor": "white"
          },
          "hoverlabel": {
           "align": "left"
          },
          "hovermode": "closest",
          "mapbox": {
           "style": "light"
          },
          "paper_bgcolor": "white",
          "plot_bgcolor": "#E5ECF6",
          "polar": {
           "angularaxis": {
            "gridcolor": "white",
            "linecolor": "white",
            "ticks": ""
           },
           "bgcolor": "#E5ECF6",
           "radialaxis": {
            "gridcolor": "white",
            "linecolor": "white",
            "ticks": ""
           }
          },
          "scene": {
           "xaxis": {
            "backgroundcolor": "#E5ECF6",
            "gridcolor": "white",
            "gridwidth": 2,
            "linecolor": "white",
            "showbackground": true,
            "ticks": "",
            "zerolinecolor": "white"
           },
           "yaxis": {
            "backgroundcolor": "#E5ECF6",
            "gridcolor": "white",
            "gridwidth": 2,
            "linecolor": "white",
            "showbackground": true,
            "ticks": "",
            "zerolinecolor": "white"
           },
           "zaxis": {
            "backgroundcolor": "#E5ECF6",
            "gridcolor": "white",
            "gridwidth": 2,
            "linecolor": "white",
            "showbackground": true,
            "ticks": "",
            "zerolinecolor": "white"
           }
          },
          "shapedefaults": {
           "line": {
            "color": "#2a3f5f"
           }
          },
          "ternary": {
           "aaxis": {
            "gridcolor": "white",
            "linecolor": "white",
            "ticks": ""
           },
           "baxis": {
            "gridcolor": "white",
            "linecolor": "white",
            "ticks": ""
           },
           "bgcolor": "#E5ECF6",
           "caxis": {
            "gridcolor": "white",
            "linecolor": "white",
            "ticks": ""
           }
          },
          "title": {
           "x": 0.05
          },
          "xaxis": {
           "automargin": true,
           "gridcolor": "white",
           "linecolor": "white",
           "ticks": "",
           "title": {
            "standoff": 15
           },
           "zerolinecolor": "white",
           "zerolinewidth": 2
          },
          "yaxis": {
           "automargin": true,
           "gridcolor": "white",
           "linecolor": "white",
           "ticks": "",
           "title": {
            "standoff": 15
           },
           "zerolinecolor": "white",
           "zerolinewidth": 2
          }
         }
        },
        "title": {
         "text": "ECG"
        }
       }
      },
      "text/html": [
       "<div>                            <div id=\"b0f5e622-f5f5-46a1-bdb2-c3d773655b12\" class=\"plotly-graph-div\" style=\"height:525px; width:100%;\"></div>            <script type=\"text/javascript\">                require([\"plotly\"], function(Plotly) {                    window.PLOTLYENV=window.PLOTLYENV || {};                                    if (document.getElementById(\"b0f5e622-f5f5-46a1-bdb2-c3d773655b12\")) {                    Plotly.newPlot(                        \"b0f5e622-f5f5-46a1-bdb2-c3d773655b12\",                        [{\"y\":[-0.019983521088922047,-0.019983521088922047,-0.014987640816691536,-0.004995880272230512,-0.004995880272230512,-0.004995880272230512,0.0,0.0,0.004995880272230512,0.004995880272230512,0.0,-0.004995880272230512,-0.009991760544461024,-0.024979401361152558,-0.02997528163338307,-0.039967042177844095,-0.044962922450074605,-0.044962922450074605,-0.034971161905613585,-0.019983521088922047,-0.004995880272230512,0.009991760544461024,0.034971161905613585,0.044962922450074605,0.054954682994535625,0.044962922450074605,0.044962922450074605,0.044962922450074605,0.044962922450074605,0.039967042177844095,0.034971161905613585,0.02997528163338307,0.02997528163338307,0.024979401361152558,-0.009991760544461024,-0.09367275510432209,-0.1835986000044713,-0.15487228843914586,0.08617893469597633,0.4696127455896681,0.8043367238291124,0.9080012394778955,0.7081660285886751,0.37094411021311546,0.08992584490014921,-0.04246498231395935,-0.06994232381122717,-0.054954682994535625,-0.044962922450074605,-0.044962922450074605,-0.044962922450074605,-0.044962922450074605,-0.044962922450074605,-0.049958802722305115,-0.054954682994535625,-0.054954682994535625,-0.054954682994535625,-0.05995056326676614,-0.06494644353899665,-0.06994232381122717,-0.07493820408345768,-0.07493820408345768,-0.07993408435568819,-0.08992584490014921,-0.09492172517237972,-0.09991760544461023,-0.10990936598907125,-0.11990112653353228,-0.1298928870779933,-0.13988464762245434,-0.14987640816691536,-0.15986816871137638,-0.1698599292558374,-0.1748558095280679,-0.18484757007252894,-0.18984345034475944,-0.19983521088922046,-0.19983521088922046,-0.19983521088922046,-0.20483109116145098,-0.20982697143368148,-0.20483109116145098,-0.20483109116145098,-0.19983521088922046,-0.18984345034475944,-0.17610477959612553,-0.151125378234973,-0.1211500966015899,-0.10116657551266786,-0.08118305442374582,-0.061199533334823766,-0.044962922450074605,-0.039967042177844095,-0.034971161905613585,-0.019983521088922047,-0.014987640816691536,-0.004995880272230512,-0.004995880272230512,-0.004995880272230512,-0.004995880272230512,0.0,0.004995880272230512,0.004995880272230512,0.004995880272230512,0.004995880272230512,0.0,-0.004995880272230512,-0.014987640816691536,-0.024979401361152558,-0.034971161905613585,-0.039967042177844095,-0.039967042177844095,-0.034971161905613585,-0.02997528163338307,-0.019983521088922047,-0.006244850340288139,0.01873455102086442,0.038718072109786464,0.044962922450074605,0.049958802722305115,0.049958802722305115,0.049958802722305115,0.044962922450074605,0.039967042177844095,0.039967042177844095,0.034971161905613585,0.02997528163338307,0.02997528163338307,0.01623661088474916,-0.03746910204172884,-0.1298928870779933,-0.2010841809572781,-0.11490524626130177,0.16486404898360688,0.5495468299453563,0.8355609755305531,0.8542955265514175,0.6094973932121224,0.2872631156532544,0.05245674285842037,-0.049958802722305115,-0.06494644353899665,-0.054954682994535625,-0.044962922450074605,-0.044962922450074605,-0.044962922450074605,-0.044962922450074605,-0.044962922450074605,-0.044962922450074605,-0.049958802722305115,-0.054954682994535625,-0.05995056326676614,-0.05995056326676614,-0.05995056326676614,-0.06494644353899665,-0.06994232381122717,-0.06994232381122717,-0.07493820408345768,-0.0849299646279187,-0.09492172517237972,-0.09991760544461023,-0.10491348571684074,-0.11490524626130177,-0.1248970068057628,-0.13488876735022381,-0.14488052789468484,-0.15487228843914586,-0.15986816871137638,-0.16486404898360688,-0.1748558095280679,-0.17985168980029842,-0.18484757007252894,-0.18984345034475944,-0.18984345034475944,-0.18984345034475944,-0.18984345034475944,-0.19483933061698996,-0.18984345034475944,-0.18110065986835605,-0.1661130190516645,-0.1561212585072035,-0.13239082721410855,-0.107411425852956,-0.08617893469597633,-0.06619541360705428,-0.051207772790362746,-0.04121601224590172,-0.026228371429210185,-0.019983521088922047,-0.014987640816691536,-0.006244850340288139,0.0,0.004995880272230512,0.004995880272230512,0.004995880272230512,0.004995880272230512,0.004995880272230512,0.004995880272230512,0.009991760544461024,0.004995880272230512,-0.003746910204172884,-0.009991760544461024,-0.01873455102086442,-0.028726311565325444,-0.038718072109786464,-0.044962922450074605,-0.039967042177844095,-0.026228371429210185,-0.011240730612518651,-0.001248970068057628,0.01873455102086442,0.04246498231395935,0.053705712926478,0.049958802722305115,0.044962922450074605,0.049958802722305115,0.049958802722305115,0.044962922450074605,0.044962922450074605,0.03622013197367121,0.02997528163338307,0.02997528163338307,0.01623661088474916,-0.026228371429210185,-0.11240730612518651,-0.1748558095280679,-0.11115833605712888,0.13114185714605092,0.473359655793841,0.7643696816512683,0.8305650952583226,0.6357257646413326,0.3284791278991561,0.08243202449180344,-0.039967042177844095,-0.06369747347093903,-0.051207772790362746,-0.04121601224590172,-0.039967042177844095,-0.044962922450074605,-0.044962922450074605,-0.044962922450074605,-0.044962922450074605,-0.044962922450074605,-0.044962922450074605,-0.049958802722305115,-0.05870159319870851,-0.06494644353899665,-0.06494644353899665,-0.06494644353899665,-0.06994232381122717,-0.07493820408345768,-0.07993408435568819,-0.0849299646279187,-0.09367275510432209,-0.10366451564878312,-0.11365627619324414,-0.11990112653353228,-0.1286439170099357,-0.1436315578266272,-0.14987640816691536,-0.15487228843914586,-0.16361507891554924,-0.1736068394600103,-0.17985168980029842,-0.17985168980029842,-0.17985168980029842,-0.18484757007252894,-0.18484757007252894,-0.18110065986835605,-0.17985168980029842,-0.17610477959612553,-0.17110889932389503,-0.1561212585072035,-0.14113361769051194,-0.12239906666964753,-0.09741966530849498,-0.07244026394734242,-0.05245674285842037,-0.03622013197367121,-0.021232491156979675,-0.011240730612518651,-0.004995880272230512,0.003746910204172884,0.004995880272230512,0.004995880272230512,0.004995880272230512,0.004995880272230512,0.004995880272230512,0.004995880272230512,0.009991760544461024,0.01873455102086442,0.019983521088922047,0.019983521088922047,0.011240730612518651,0.001248970068057628,-0.008742790476403396,-0.01873455102086442,-0.024979401361152558,-0.02997528163338307,-0.034971161905613585,-0.02997528163338307,-0.01623661088474916,-0.006244850340288139,0.0,0.022481461225037302,0.04246498231395935,0.053705712926478,0.054954682994535625,0.046211892518132236,0.044962922450074605,0.044962922450074605,0.044962922450074605,0.044962922450074605,0.044962922450074605,0.03622013197367121,0.026228371429210185,0.012489700680576279,-0.033722191837555954,-0.12239906666964753,-0.1923413904808747,-0.10366451564878312,0.17110889932389503,0.5408040394689528,0.8168264245096887,0.8193243646458039,0.5757752013745665,0.2572878340198714,0.03622013197367121,-0.046211892518132236,-0.054954682994535625,-0.04246498231395935,-0.03622013197367121,-0.034971161905613585,-0.043713952382016974,-0.044962922450074605,-0.04121601224590172,-0.043713952382016974,-0.044962922450074605,-0.04870983265424749,-0.049958802722305115,-0.053705712926478,-0.05870159319870851,-0.05995056326676614,-0.05995056326676614,-0.06369747347093903,-0.06869335374316954,-0.07868511428763056,-0.08867687483209158,-0.0986686353765526,-0.10866039592101363,-0.11490524626130177,-0.11990112653353228,-0.1286439170099357,-0.14238258775856957,-0.14987640816691536,-0.15487228843914586,-0.15986816871137638,-0.16486404898360688,-0.1736068394600103,-0.1748558095280679,-0.1748558095280679,-0.17985168980029842,-0.18484757007252894,-0.18484757007252894,-0.18110065986835605,-0.17610477959612553,-0.17110889932389503,-0.161117138779434,-0.1473784680308001,-0.12364803673770516,-0.10241554558072549,-0.08243202449180344,-0.05870159319870851,-0.04246498231395935,-0.0312242517014407,-0.021232491156979675,-0.007493820408345768,-0.001248970068057628,0.003746910204172884,0.004995880272230512,0.004995880272230512,0.004995880272230512,0.004995880272230512,0.004995880272230512,0.004995880272230512,0.004995880272230512,0.004995880272230512,0.004995880272230512,0.001248970068057628,-0.008742790476403396,-0.022481461225037302,-0.03746910204172884,-0.043713952382016974,-0.04870983265424749,-0.046211892518132236,-0.04121601224590172,-0.027477341497267813,-0.012489700680576279,0.006244850340288139,0.026228371429210185,0.038718072109786464,0.043713952382016974,0.04121601224590172,0.03622013197367121,0.0312242517014407,0.026228371429210185,0.028726311565325444,0.033722191837555954,0.0312242517014407,0.026228371429210185,0.021232491156979675,-0.001248970068057628,-0.06369747347093903,-0.14612949796274247,-0.16361507891554924,-0.027477341497267813,0.25853680408792895,0.580771081646797,0.7643696816512683,0.7019211782483868,0.4558740748410342,0.18110065986835605,0.006244850340288139,-0.05745262313065089,-0.06494644353899665,-0.056203653062593256,-0.051207772790362746,-0.049958802722305115,-0.05870159319870851,-0.06369747347093903,-0.06494644353899665,-0.06494644353899665,-0.06494644353899665,-0.06494644353899665,-0.06869335374316954,-0.06994232381122717,-0.07868511428763056,-0.08867687483209158,-0.08992584490014921,-0.08992584490014921,-0.09367275510432209,-0.0986686353765526,-0.10866039592101363,-0.11365627619324414,-0.11865215646547465,-0.13239082721410855,-0.1386356775543967,-0.1436315578266272,-0.14862743809885773,-0.15861919864331875,-0.16861095918777977,-0.1736068394600103,-0.1748558095280679,-0.1786027197322408,-0.17985168980029842,-0.17985168980029842,-0.17985168980029842,-0.1835986000044713,-0.18484757007252894,-0.18110065986835605,-0.16736198911972214,-0.15737022857526112,-0.14238258775856957,-0.12739494694187806,-0.10866039592101363,-0.09242378503626447,-0.06994232381122717,-0.04870983265424749,-0.03247322176949832,-0.013738670748633906,-0.006244850340288139,-0.001248970068057628,0.008742790476403396,0.01873455102086442,0.01623661088474916,0.014987640816691536,0.014987640816691536,0.01873455102086442,0.019983521088922047,0.019983521088922047,0.019983521088922047,0.019983521088922047,0.012489700680576279,0.002497940136115256,-0.007493820408345768,-0.022481461225037302,-0.03247322176949832,-0.038718072109786464,-0.03622013197367121,-0.027477341497267813,-0.012489700680576279,-0.006244850340288139,0.007493820408345768,0.02997528163338307,0.04746086258618986,0.053705712926478,0.054954682994535625,0.054954682994535625,0.054954682994535625],\"type\":\"scatter\"},{\"y\":[-0.5550075519071932,-0.5550075519071932,-0.5535155961224963,-0.5535155961224963,-0.5535155961224963,-0.5520236403377996,-0.5535155961224963,-0.5535155961224963,-0.5564995076918899,-0.5550075519071932,-0.5579914634765867,-0.5550075519071932,-0.5520236403377996,-0.5535155961224963,-0.5520236403377996,-0.5535155961224963,-0.5535155961224963,-0.5564995076918899,-0.5564995076918899,-0.5535155961224963,-0.5535155961224963,-0.5535155961224963,-0.5535155961224963,-0.5520236403377996,-0.5535155961224963,-0.5564995076918899,-0.5550075519071932,-0.5520236403377996,-0.5535155961224963,-0.5520236403377996,-0.5535155961224963,-0.5535155961224963,-0.5550075519071932,-0.5520236403377996,-0.5550075519071932,-0.5535155961224963,-0.5535155961224963,-0.5535155961224963,-0.5505316845531029,-0.5535155961224963,-0.5550075519071932,-0.5579914634765867,-0.5535155961224963,-0.5564995076918899,-0.5505316845531029,-0.5535155961224963,-0.5520236403377996,-0.5550075519071932,-0.5535155961224963,-0.5550075519071932,-0.5535155961224963,-0.5564995076918899,-0.5564995076918899,-0.5505316845531029,-0.5550075519071932,-0.5520236403377996,-0.5535155961224963,-0.5550075519071932,-0.5550075519071932,-0.5535155961224963,-0.5550075519071932,-0.5535155961224963,-0.5535155961224963,-0.5535155961224963,-0.5520236403377996,-0.5520236403377996,-0.5535155961224963,-0.5564995076918899,-0.5550075519071932,-0.5550075519071932,-0.5535155961224963,-0.5505316845531029,-0.5535155961224963,-0.5535155961224963,-0.5535155961224963,-0.5550075519071932,-0.5535155961224963,-0.5550075519071932,-0.5535155961224963,-0.5520236403377996,-0.5535155961224963,-0.5535155961224963,-0.5520236403377996,-0.5535155961224963,-0.5550075519071932,-0.5564995076918899,-0.5535155961224963,-0.5535155961224963,-0.5505316845531029,-0.5505316845531029,-0.5550075519071932,-0.5535155961224963,-0.5550075519071932,-0.5550075519071932,-0.5535155961224963,-0.5535155961224963,-0.5535155961224963,-0.5520236403377996,-0.5564995076918899,-0.5550075519071932,-0.5550075519071932,-0.5564995076918899,-0.5550075519071932,-0.5550075519071932,-0.5535155961224963,-0.5475477729837094,-0.5520236403377996,-0.5490397287684061,-0.5535155961224963,-0.5550075519071932,-0.5535155961224963,-0.5535155961224963,-0.5535155961224963,-0.5564995076918899,-0.5535155961224963,-0.5550075519071932,-0.5535155961224963,-0.5564995076918899,-0.5564995076918899,-0.5535155961224963,-0.5535155961224963,-0.5505316845531029,-0.5505316845531029,-0.5535155961224963,-0.5564995076918899,-0.5564995076918899,-0.5579914634765867,-0.5550075519071932,-0.5520236403377996,-0.5535155961224963,-0.5505316845531029,-0.5535155961224963,-0.5550075519071932,-0.5535155961224963,-0.5579914634765867,-0.5535155961224963,-0.5535155961224963,-0.5505316845531029,-0.5535155961224963,-0.5550075519071932,-0.5535155961224963,-0.5535155961224963,-0.5535155961224963,-0.5550075519071932,-0.5505316845531029,-0.5535155961224963,-0.5505316845531029,-0.5520236403377996,-0.5535155961224963,-0.5520236403377996,-0.5564995076918899,-0.5564995076918899,-0.5550075519071932,-0.5535155961224963,-0.5535155961224963,-0.5505316845531029,-0.5535155961224963,-0.5550075519071932,-0.5550075519071932,-0.5550075519071932,-0.5505316845531029,-0.5550075519071932,-0.5520236403377996,-0.5505316845531029,-0.5535155961224963,-0.5535155961224963,-0.5564995076918899,-0.5520236403377996,-0.5550075519071932,-0.5564995076918899,-0.5535155961224963,-0.5520236403377996,-0.5535155961224963,-0.5535155961224963,-0.5550075519071932,-0.5550075519071932,-0.5564995076918899,-0.5535155961224963,-0.5535155961224963,-0.5535155961224963,-0.5535155961224963,-0.5520236403377996,-0.5550075519071932,-0.5550075519071932,-0.5550075519071932,-0.5564995076918899,-0.5550075519071932,-0.5550075519071932,-0.5535155961224963,-0.5535155961224963,-0.5535155961224963,-0.5564995076918899,-0.5520236403377996,-0.5550075519071932,-0.5535155961224963,-0.5520236403377996,-0.5520236403377996,-0.5520236403377996,-0.5520236403377996,-0.5535155961224963,-0.5550075519071932,-0.5535155961224963,-0.5535155961224963,-0.5520236403377996,-0.5535155961224963,-0.5520236403377996,-0.5535155961224963,-0.5550075519071932,-0.5520236403377996,-0.5520236403377996,-0.5550075519071932,-0.5520236403377996,-0.5520236403377996,-0.5535155961224963,-0.5535155961224963,-0.5520236403377996,-0.5535155961224963,-0.5550075519071932,-0.5564995076918899,-0.5564995076918899,-0.5520236403377996,-0.5535155961224963,-0.5550075519071932,-0.5550075519071932,-0.5520236403377996,-0.5535155961224963,-0.5520236403377996,-0.5535155961224963,-0.5535155961224963,-0.5535155961224963,-0.5505316845531029,-0.5535155961224963,-0.5535155961224963,-0.5550075519071932,-0.5564995076918899,-0.5550075519071932,-0.5564995076918899,-0.5520236403377996,-0.5535155961224963,-0.5535155961224963,-0.5535155961224963,-0.5550075519071932,-0.5535155961224963,-0.5535155961224963,-0.5535155961224963,-0.5520236403377996,-0.5505316845531029,-0.5520236403377996,-0.5535155961224963,-0.5520236403377996,-0.5535155961224963,-0.5550075519071932,-0.5535155961224963,-0.5535155961224963,-0.5535155961224963,-0.5520236403377996,-0.5535155961224963,-0.5535155961224963,-0.5535155961224963,-0.5550075519071932,-0.5564995076918899,-0.5535155961224963,-0.5535155961224963,-0.5535155961224963,-0.5505316845531029,-0.5550075519071932,-0.5550075519071932,-0.5550075519071932,-0.5550075519071932,-0.5535155961224963,-0.5550075519071932,-0.5520236403377996,-0.5535155961224963,-0.5550075519071932,-0.5550075519071932,-0.5550075519071932,-0.5550075519071932,-0.5535155961224963,-0.5535155961224963,-0.5505316845531029,-0.5535155961224963,-0.5550075519071932,-0.5520236403377996,-0.5550075519071932,-0.5579914634765867,-0.5564995076918899,-0.5535155961224963,-0.5535155961224963,-0.5520236403377996,-0.5505316845531029,-0.5550075519071932,-0.5550075519071932,-0.5564995076918899,-0.5550075519071932,-0.5520236403377996,-0.5550075519071932,-0.5535155961224963,-0.5535155961224963,-0.5535155961224963,-0.5550075519071932,-0.5535155961224963,-0.5550075519071932,-0.5550075519071932,-0.5535155961224963,-0.5535155961224963,-0.5535155961224963,-0.5535155961224963,-0.5535155961224963,-0.5550075519071932,-0.5564995076918899,-0.5550075519071932,-0.5535155961224963,-0.5505316845531029,-0.5535155961224963,-0.5520236403377996,-0.5535155961224963,-0.5550075519071932,-0.5535155961224963,-0.5535155961224963,-0.5550075519071932,-0.5535155961224963,-0.5520236403377996,-0.5564995076918899,-0.5535155961224963,-0.5564995076918899,-0.5550075519071932,-0.5550075519071932,-0.5535155961224963,-0.5550075519071932,-0.5535155961224963,-0.5535155961224963,-0.5535155961224963,-0.5535155961224963,-0.5535155961224963,-0.5550075519071932,-0.5535155961224963,-0.5535155961224963,-0.5535155961224963,-0.5550075519071932,-0.5535155961224963,-0.5550075519071932,-0.5564995076918899,-0.5550075519071932,-0.5564995076918899,-0.5564995076918899,-0.5520236403377996,-0.5535155961224963,-0.5535155961224963,-0.5535155961224963,-0.5535155961224963,-0.5550075519071932,-0.5550075519071932,-0.5550075519071932,-0.5564995076918899,-0.5535155961224963,-0.5535155961224963,-0.5550075519071932,-0.5550075519071932,-0.5535155961224963,-0.5550075519071932,-0.5564995076918899,-0.5550075519071932,-0.5535155961224963,-0.5535155961224963,-0.5505316845531029,-0.5550075519071932,-0.5564995076918899,-0.5550075519071932,-0.5564995076918899,-0.5535155961224963,-0.5550075519071932,-0.5535155961224963,-0.5535155961224963,-0.5550075519071932,-0.5550075519071932,-0.5564995076918899,-0.5550075519071932,-0.5550075519071932,-0.5550075519071932,-0.5535155961224963,-0.5535155961224963,-0.5535155961224963,-0.5535155961224963,-0.5564995076918899,-0.5564995076918899,-0.5535155961224963,-0.5550075519071932,-0.5535155961224963,-0.5564995076918899,-0.5550075519071932,-0.5520236403377996,-0.5550075519071932,-0.5550075519071932,-0.5564995076918899,-0.5550075519071932,-0.5550075519071932,-0.5550075519071932,-0.5535155961224963,-0.5520236403377996,-0.5550075519071932,-0.5550075519071932,-0.5579914634765867,-0.5550075519071932,-0.5535155961224963,-0.5564995076918899,-0.5535155961224963,-0.5535155961224963,-0.5535155961224963,-0.5535155961224963,-0.5564995076918899,-0.5550075519071932,-0.5550075519071932,-0.5535155961224963,-0.5550075519071932,-0.5550075519071932,-0.5550075519071932,-0.5550075519071932,-0.5564995076918899,-0.5535155961224963,-0.5550075519071932,-0.5550075519071932,-0.5535155961224963,-0.5535155961224963,-0.5550075519071932,-0.5550075519071932,-0.5535155961224963,-0.5550075519071932,-0.5550075519071932,-0.5550075519071932,-0.5550075519071932,-0.5535155961224963,-0.5535155961224963,-0.5535155961224963,-0.5550075519071932,-0.5564995076918899,-0.5564995076918899,-0.5520236403377996,-0.5564995076918899,-0.5505316845531029,-0.5520236403377996,-0.5520236403377996,-0.5535155961224963,-0.5550075519071932,-0.5550075519071932,-0.5535155961224963,-0.5520236403377996,-0.5520236403377996,-0.5505316845531029,-0.5535155961224963,-0.5535155961224963,-0.5564995076918899,-0.5535155961224963,-0.5535155961224963,-0.5550075519071932,-0.5520236403377996,-0.5520236403377996,-0.5505316845531029,-0.5535155961224963,-0.5505316845531029,-0.5535155961224963,-0.5520236403377996,-0.5505316845531029,-0.5520236403377996,-0.5520236403377996,-0.5505316845531029,-0.5505316845531029,-0.5505316845531029,-0.5535155961224963,-0.5505316845531029,-0.5505316845531029,-0.5490397287684061,-0.5490397287684061,-0.5475477729837094,-0.5460558171990126,-0.5535155961224963,-0.5535155961224963,-0.5520236403377996,-0.5520236403377996,-0.5520236403377996,-0.5475477729837094,-0.5490397287684061,-0.5475477729837094,-0.5475477729837094,-0.5490397287684061,-0.5505316845531029,-0.5490397287684061,-0.5460558171990126,-0.5475477729837094,-0.5460558171990126,-0.5505316845531029,-0.5460558171990126,-0.5475477729837094,-0.5475477729837094,-0.5490397287684061,-0.5475477729837094,-0.5460558171990126,-0.5415799498449223,-0.5460558171990126,-0.5460558171990126,-0.5460558171990126],\"type\":\"scatter\"}],                        {\"template\":{\"data\":{\"barpolar\":[{\"marker\":{\"line\":{\"color\":\"#E5ECF6\",\"width\":0.5},\"pattern\":{\"fillmode\":\"overlay\",\"size\":10,\"solidity\":0.2}},\"type\":\"barpolar\"}],\"bar\":[{\"error_x\":{\"color\":\"#2a3f5f\"},\"error_y\":{\"color\":\"#2a3f5f\"},\"marker\":{\"line\":{\"color\":\"#E5ECF6\",\"width\":0.5},\"pattern\":{\"fillmode\":\"overlay\",\"size\":10,\"solidity\":0.2}},\"type\":\"bar\"}],\"carpet\":[{\"aaxis\":{\"endlinecolor\":\"#2a3f5f\",\"gridcolor\":\"white\",\"linecolor\":\"white\",\"minorgridcolor\":\"white\",\"startlinecolor\":\"#2a3f5f\"},\"baxis\":{\"endlinecolor\":\"#2a3f5f\",\"gridcolor\":\"white\",\"linecolor\":\"white\",\"minorgridcolor\":\"white\",\"startlinecolor\":\"#2a3f5f\"},\"type\":\"carpet\"}],\"choropleth\":[{\"colorbar\":{\"outlinewidth\":0,\"ticks\":\"\"},\"type\":\"choropleth\"}],\"contourcarpet\":[{\"colorbar\":{\"outlinewidth\":0,\"ticks\":\"\"},\"type\":\"contourcarpet\"}],\"contour\":[{\"colorbar\":{\"outlinewidth\":0,\"ticks\":\"\"},\"colorscale\":[[0.0,\"#0d0887\"],[0.1111111111111111,\"#46039f\"],[0.2222222222222222,\"#7201a8\"],[0.3333333333333333,\"#9c179e\"],[0.4444444444444444,\"#bd3786\"],[0.5555555555555556,\"#d8576b\"],[0.6666666666666666,\"#ed7953\"],[0.7777777777777778,\"#fb9f3a\"],[0.8888888888888888,\"#fdca26\"],[1.0,\"#f0f921\"]],\"type\":\"contour\"}],\"heatmapgl\":[{\"colorbar\":{\"outlinewidth\":0,\"ticks\":\"\"},\"colorscale\":[[0.0,\"#0d0887\"],[0.1111111111111111,\"#46039f\"],[0.2222222222222222,\"#7201a8\"],[0.3333333333333333,\"#9c179e\"],[0.4444444444444444,\"#bd3786\"],[0.5555555555555556,\"#d8576b\"],[0.6666666666666666,\"#ed7953\"],[0.7777777777777778,\"#fb9f3a\"],[0.8888888888888888,\"#fdca26\"],[1.0,\"#f0f921\"]],\"type\":\"heatmapgl\"}],\"heatmap\":[{\"colorbar\":{\"outlinewidth\":0,\"ticks\":\"\"},\"colorscale\":[[0.0,\"#0d0887\"],[0.1111111111111111,\"#46039f\"],[0.2222222222222222,\"#7201a8\"],[0.3333333333333333,\"#9c179e\"],[0.4444444444444444,\"#bd3786\"],[0.5555555555555556,\"#d8576b\"],[0.6666666666666666,\"#ed7953\"],[0.7777777777777778,\"#fb9f3a\"],[0.8888888888888888,\"#fdca26\"],[1.0,\"#f0f921\"]],\"type\":\"heatmap\"}],\"histogram2dcontour\":[{\"colorbar\":{\"outlinewidth\":0,\"ticks\":\"\"},\"colorscale\":[[0.0,\"#0d0887\"],[0.1111111111111111,\"#46039f\"],[0.2222222222222222,\"#7201a8\"],[0.3333333333333333,\"#9c179e\"],[0.4444444444444444,\"#bd3786\"],[0.5555555555555556,\"#d8576b\"],[0.6666666666666666,\"#ed7953\"],[0.7777777777777778,\"#fb9f3a\"],[0.8888888888888888,\"#fdca26\"],[1.0,\"#f0f921\"]],\"type\":\"histogram2dcontour\"}],\"histogram2d\":[{\"colorbar\":{\"outlinewidth\":0,\"ticks\":\"\"},\"colorscale\":[[0.0,\"#0d0887\"],[0.1111111111111111,\"#46039f\"],[0.2222222222222222,\"#7201a8\"],[0.3333333333333333,\"#9c179e\"],[0.4444444444444444,\"#bd3786\"],[0.5555555555555556,\"#d8576b\"],[0.6666666666666666,\"#ed7953\"],[0.7777777777777778,\"#fb9f3a\"],[0.8888888888888888,\"#fdca26\"],[1.0,\"#f0f921\"]],\"type\":\"histogram2d\"}],\"histogram\":[{\"marker\":{\"pattern\":{\"fillmode\":\"overlay\",\"size\":10,\"solidity\":0.2}},\"type\":\"histogram\"}],\"mesh3d\":[{\"colorbar\":{\"outlinewidth\":0,\"ticks\":\"\"},\"type\":\"mesh3d\"}],\"parcoords\":[{\"line\":{\"colorbar\":{\"outlinewidth\":0,\"ticks\":\"\"}},\"type\":\"parcoords\"}],\"pie\":[{\"automargin\":true,\"type\":\"pie\"}],\"scatter3d\":[{\"line\":{\"colorbar\":{\"outlinewidth\":0,\"ticks\":\"\"}},\"marker\":{\"colorbar\":{\"outlinewidth\":0,\"ticks\":\"\"}},\"type\":\"scatter3d\"}],\"scattercarpet\":[{\"marker\":{\"colorbar\":{\"outlinewidth\":0,\"ticks\":\"\"}},\"type\":\"scattercarpet\"}],\"scattergeo\":[{\"marker\":{\"colorbar\":{\"outlinewidth\":0,\"ticks\":\"\"}},\"type\":\"scattergeo\"}],\"scattergl\":[{\"marker\":{\"colorbar\":{\"outlinewidth\":0,\"ticks\":\"\"}},\"type\":\"scattergl\"}],\"scattermapbox\":[{\"marker\":{\"colorbar\":{\"outlinewidth\":0,\"ticks\":\"\"}},\"type\":\"scattermapbox\"}],\"scatterpolargl\":[{\"marker\":{\"colorbar\":{\"outlinewidth\":0,\"ticks\":\"\"}},\"type\":\"scatterpolargl\"}],\"scatterpolar\":[{\"marker\":{\"colorbar\":{\"outlinewidth\":0,\"ticks\":\"\"}},\"type\":\"scatterpolar\"}],\"scatter\":[{\"fillpattern\":{\"fillmode\":\"overlay\",\"size\":10,\"solidity\":0.2},\"type\":\"scatter\"}],\"scatterternary\":[{\"marker\":{\"colorbar\":{\"outlinewidth\":0,\"ticks\":\"\"}},\"type\":\"scatterternary\"}],\"surface\":[{\"colorbar\":{\"outlinewidth\":0,\"ticks\":\"\"},\"colorscale\":[[0.0,\"#0d0887\"],[0.1111111111111111,\"#46039f\"],[0.2222222222222222,\"#7201a8\"],[0.3333333333333333,\"#9c179e\"],[0.4444444444444444,\"#bd3786\"],[0.5555555555555556,\"#d8576b\"],[0.6666666666666666,\"#ed7953\"],[0.7777777777777778,\"#fb9f3a\"],[0.8888888888888888,\"#fdca26\"],[1.0,\"#f0f921\"]],\"type\":\"surface\"}],\"table\":[{\"cells\":{\"fill\":{\"color\":\"#EBF0F8\"},\"line\":{\"color\":\"white\"}},\"header\":{\"fill\":{\"color\":\"#C8D4E3\"},\"line\":{\"color\":\"white\"}},\"type\":\"table\"}]},\"layout\":{\"annotationdefaults\":{\"arrowcolor\":\"#2a3f5f\",\"arrowhead\":0,\"arrowwidth\":1},\"autotypenumbers\":\"strict\",\"coloraxis\":{\"colorbar\":{\"outlinewidth\":0,\"ticks\":\"\"}},\"colorscale\":{\"diverging\":[[0,\"#8e0152\"],[0.1,\"#c51b7d\"],[0.2,\"#de77ae\"],[0.3,\"#f1b6da\"],[0.4,\"#fde0ef\"],[0.5,\"#f7f7f7\"],[0.6,\"#e6f5d0\"],[0.7,\"#b8e186\"],[0.8,\"#7fbc41\"],[0.9,\"#4d9221\"],[1,\"#276419\"]],\"sequential\":[[0.0,\"#0d0887\"],[0.1111111111111111,\"#46039f\"],[0.2222222222222222,\"#7201a8\"],[0.3333333333333333,\"#9c179e\"],[0.4444444444444444,\"#bd3786\"],[0.5555555555555556,\"#d8576b\"],[0.6666666666666666,\"#ed7953\"],[0.7777777777777778,\"#fb9f3a\"],[0.8888888888888888,\"#fdca26\"],[1.0,\"#f0f921\"]],\"sequentialminus\":[[0.0,\"#0d0887\"],[0.1111111111111111,\"#46039f\"],[0.2222222222222222,\"#7201a8\"],[0.3333333333333333,\"#9c179e\"],[0.4444444444444444,\"#bd3786\"],[0.5555555555555556,\"#d8576b\"],[0.6666666666666666,\"#ed7953\"],[0.7777777777777778,\"#fb9f3a\"],[0.8888888888888888,\"#fdca26\"],[1.0,\"#f0f921\"]]},\"colorway\":[\"#636efa\",\"#EF553B\",\"#00cc96\",\"#ab63fa\",\"#FFA15A\",\"#19d3f3\",\"#FF6692\",\"#B6E880\",\"#FF97FF\",\"#FECB52\"],\"font\":{\"color\":\"#2a3f5f\"},\"geo\":{\"bgcolor\":\"white\",\"lakecolor\":\"white\",\"landcolor\":\"#E5ECF6\",\"showlakes\":true,\"showland\":true,\"subunitcolor\":\"white\"},\"hoverlabel\":{\"align\":\"left\"},\"hovermode\":\"closest\",\"mapbox\":{\"style\":\"light\"},\"paper_bgcolor\":\"white\",\"plot_bgcolor\":\"#E5ECF6\",\"polar\":{\"angularaxis\":{\"gridcolor\":\"white\",\"linecolor\":\"white\",\"ticks\":\"\"},\"bgcolor\":\"#E5ECF6\",\"radialaxis\":{\"gridcolor\":\"white\",\"linecolor\":\"white\",\"ticks\":\"\"}},\"scene\":{\"xaxis\":{\"backgroundcolor\":\"#E5ECF6\",\"gridcolor\":\"white\",\"gridwidth\":2,\"linecolor\":\"white\",\"showbackground\":true,\"ticks\":\"\",\"zerolinecolor\":\"white\"},\"yaxis\":{\"backgroundcolor\":\"#E5ECF6\",\"gridcolor\":\"white\",\"gridwidth\":2,\"linecolor\":\"white\",\"showbackground\":true,\"ticks\":\"\",\"zerolinecolor\":\"white\"},\"zaxis\":{\"backgroundcolor\":\"#E5ECF6\",\"gridcolor\":\"white\",\"gridwidth\":2,\"linecolor\":\"white\",\"showbackground\":true,\"ticks\":\"\",\"zerolinecolor\":\"white\"}},\"shapedefaults\":{\"line\":{\"color\":\"#2a3f5f\"}},\"ternary\":{\"aaxis\":{\"gridcolor\":\"white\",\"linecolor\":\"white\",\"ticks\":\"\"},\"baxis\":{\"gridcolor\":\"white\",\"linecolor\":\"white\",\"ticks\":\"\"},\"bgcolor\":\"#E5ECF6\",\"caxis\":{\"gridcolor\":\"white\",\"linecolor\":\"white\",\"ticks\":\"\"}},\"title\":{\"x\":0.05},\"xaxis\":{\"automargin\":true,\"gridcolor\":\"white\",\"linecolor\":\"white\",\"ticks\":\"\",\"title\":{\"standoff\":15},\"zerolinecolor\":\"white\",\"zerolinewidth\":2},\"yaxis\":{\"automargin\":true,\"gridcolor\":\"white\",\"linecolor\":\"white\",\"ticks\":\"\",\"title\":{\"standoff\":15},\"zerolinecolor\":\"white\",\"zerolinewidth\":2}}},\"title\":{\"text\":\"ECG\"}},                        {\"responsive\": true}                    ).then(function(){\n",
       "                            \n",
       "var gd = document.getElementById('b0f5e622-f5f5-46a1-bdb2-c3d773655b12');\n",
       "var x = new MutationObserver(function (mutations, observer) {{\n",
       "        var display = window.getComputedStyle(gd).display;\n",
       "        if (!display || display === 'none') {{\n",
       "            console.log([gd, 'removed!']);\n",
       "            Plotly.purge(gd);\n",
       "            observer.disconnect();\n",
       "        }}\n",
       "}});\n",
       "\n",
       "// Listen for the removal of the full notebook cells\n",
       "var notebookContainer = gd.closest('#notebook-container');\n",
       "if (notebookContainer) {{\n",
       "    x.observe(notebookContainer, {childList: true});\n",
       "}}\n",
       "\n",
       "// Listen for the clearing of the current output cell\n",
       "var outputEl = gd.closest('.output');\n",
       "if (outputEl) {{\n",
       "    x.observe(outputEl, {childList: true});\n",
       "}}\n",
       "\n",
       "                        })                };                });            </script>        </div>"
      ]
     },
     "metadata": {},
     "output_type": "display_data"
    }
   ],
   "source": [
    "plot_data = [\n",
    "    go.Scatter(\n",
    "        y=mapped_df['0_x'],\n",
    "    ),\n",
    "    go.Scatter(\n",
    "        y=mapped_df['0_y'],\n",
    "    )\n",
    "]\n",
    "plot_layout = go.Layout(\n",
    "        title='ECG'\n",
    "    )\n",
    "fig = go.Figure(data=plot_data, layout=plot_layout)\n",
    "pyoff.iplot(fig)"
   ]
  },
  {
   "cell_type": "code",
   "execution_count": 100,
   "id": "bb3b6178",
   "metadata": {},
   "outputs": [
    {
     "data": {
      "text/html": [
       "<div>\n",
       "<style scoped>\n",
       "    .dataframe tbody tr th:only-of-type {\n",
       "        vertical-align: middle;\n",
       "    }\n",
       "\n",
       "    .dataframe tbody tr th {\n",
       "        vertical-align: top;\n",
       "    }\n",
       "\n",
       "    .dataframe thead th {\n",
       "        text-align: right;\n",
       "    }\n",
       "</style>\n",
       "<table border=\"1\" class=\"dataframe\">\n",
       "  <thead>\n",
       "    <tr style=\"text-align: right;\">\n",
       "      <th></th>\n",
       "      <th>HR</th>\n",
       "    </tr>\n",
       "    <tr>\n",
       "      <th>row</th>\n",
       "      <th></th>\n",
       "    </tr>\n",
       "  </thead>\n",
       "  <tbody>\n",
       "    <tr>\n",
       "      <th>0</th>\n",
       "      <td>NaN</td>\n",
       "    </tr>\n",
       "    <tr>\n",
       "      <th>1</th>\n",
       "      <td>NaN</td>\n",
       "    </tr>\n",
       "    <tr>\n",
       "      <th>2</th>\n",
       "      <td>NaN</td>\n",
       "    </tr>\n",
       "    <tr>\n",
       "      <th>3</th>\n",
       "      <td>NaN</td>\n",
       "    </tr>\n",
       "    <tr>\n",
       "      <th>4</th>\n",
       "      <td>NaN</td>\n",
       "    </tr>\n",
       "    <tr>\n",
       "      <th>...</th>\n",
       "      <td>...</td>\n",
       "    </tr>\n",
       "    <tr>\n",
       "      <th>495</th>\n",
       "      <td>159.574463</td>\n",
       "    </tr>\n",
       "    <tr>\n",
       "      <th>496</th>\n",
       "      <td>159.574463</td>\n",
       "    </tr>\n",
       "    <tr>\n",
       "      <th>497</th>\n",
       "      <td>159.574463</td>\n",
       "    </tr>\n",
       "    <tr>\n",
       "      <th>498</th>\n",
       "      <td>159.574463</td>\n",
       "    </tr>\n",
       "    <tr>\n",
       "      <th>499</th>\n",
       "      <td>159.574463</td>\n",
       "    </tr>\n",
       "  </tbody>\n",
       "</table>\n",
       "<p>500 rows × 1 columns</p>\n",
       "</div>"
      ],
      "text/plain": [
       "             HR\n",
       "row            \n",
       "0           NaN\n",
       "1           NaN\n",
       "2           NaN\n",
       "3           NaN\n",
       "4           NaN\n",
       "..          ...\n",
       "495  159.574463\n",
       "496  159.574463\n",
       "497  159.574463\n",
       "498  159.574463\n",
       "499  159.574463\n",
       "\n",
       "[500 rows x 1 columns]"
      ]
     },
     "execution_count": 100,
     "metadata": {},
     "output_type": "execute_result"
    }
   ],
   "source": [
    "def peaks_hr(sig, peak_inds, fs, title, figsize=(20, 10), saveto=None):\n",
    "    \"Plot a signal with its peaks and heart rate\"\n",
    "    # Calculate heart rate\n",
    "    hrs = processing.hr.compute_hr(sig_len=sig.shape[0], qrs_inds=peak_inds, fs=fs)\n",
    "    return hrs\n",
    "\n",
    "# Load the WFDB record and the physical samples\n",
    "record = wfdb.rdrecord(ecg_path[0], sampfrom=0, sampto=500, channels=[0])\n",
    "\n",
    "# Use the GQRS algorithm to detect QRS locations in the first channel\n",
    "qrs_inds = processing.qrs.gqrs_detect(sig=record.p_signal[:,0], fs=record.fs)\n",
    "\n",
    "# Plot results\n",
    "arr = peaks_hr(sig=record.p_signal, peak_inds=qrs_inds, fs=record.fs,\n",
    "         title=\"GQRS peak detection\")\n",
    "    \n",
    "df_hr = pd.DataFrame(arr)\n",
    "df_hr['row'] = np.arange(len(df_hr))\n",
    "df_hr.set_index('row', inplace=True)\n",
    "df_hr = df_hr.rename(columns={0: 'HR'})\n",
    "df_hr"
   ]
  },
  {
   "cell_type": "code",
   "execution_count": 102,
   "id": "648d9391",
   "metadata": {},
   "outputs": [
    {
     "data": {
      "text/html": [
       "<div>\n",
       "<style scoped>\n",
       "    .dataframe tbody tr th:only-of-type {\n",
       "        vertical-align: middle;\n",
       "    }\n",
       "\n",
       "    .dataframe tbody tr th {\n",
       "        vertical-align: top;\n",
       "    }\n",
       "\n",
       "    .dataframe thead th {\n",
       "        text-align: right;\n",
       "    }\n",
       "</style>\n",
       "<table border=\"1\" class=\"dataframe\">\n",
       "  <thead>\n",
       "    <tr style=\"text-align: right;\">\n",
       "      <th></th>\n",
       "      <th>0_x</th>\n",
       "      <th>0_y</th>\n",
       "      <th>HR</th>\n",
       "    </tr>\n",
       "    <tr>\n",
       "      <th>row</th>\n",
       "      <th></th>\n",
       "      <th></th>\n",
       "      <th></th>\n",
       "    </tr>\n",
       "  </thead>\n",
       "  <tbody>\n",
       "    <tr>\n",
       "      <th>0</th>\n",
       "      <td>-0.019984</td>\n",
       "      <td>-0.555008</td>\n",
       "      <td>NaN</td>\n",
       "    </tr>\n",
       "    <tr>\n",
       "      <th>1</th>\n",
       "      <td>-0.019984</td>\n",
       "      <td>-0.555008</td>\n",
       "      <td>NaN</td>\n",
       "    </tr>\n",
       "    <tr>\n",
       "      <th>2</th>\n",
       "      <td>-0.014988</td>\n",
       "      <td>-0.553516</td>\n",
       "      <td>NaN</td>\n",
       "    </tr>\n",
       "    <tr>\n",
       "      <th>3</th>\n",
       "      <td>-0.004996</td>\n",
       "      <td>-0.553516</td>\n",
       "      <td>NaN</td>\n",
       "    </tr>\n",
       "    <tr>\n",
       "      <th>4</th>\n",
       "      <td>-0.004996</td>\n",
       "      <td>-0.553516</td>\n",
       "      <td>NaN</td>\n",
       "    </tr>\n",
       "    <tr>\n",
       "      <th>...</th>\n",
       "      <td>...</td>\n",
       "      <td>...</td>\n",
       "      <td>...</td>\n",
       "    </tr>\n",
       "    <tr>\n",
       "      <th>495</th>\n",
       "      <td>0.047461</td>\n",
       "      <td>-0.546056</td>\n",
       "      <td>159.574463</td>\n",
       "    </tr>\n",
       "    <tr>\n",
       "      <th>496</th>\n",
       "      <td>0.053706</td>\n",
       "      <td>-0.541580</td>\n",
       "      <td>159.574463</td>\n",
       "    </tr>\n",
       "    <tr>\n",
       "      <th>497</th>\n",
       "      <td>0.054955</td>\n",
       "      <td>-0.546056</td>\n",
       "      <td>159.574463</td>\n",
       "    </tr>\n",
       "    <tr>\n",
       "      <th>498</th>\n",
       "      <td>0.054955</td>\n",
       "      <td>-0.546056</td>\n",
       "      <td>159.574463</td>\n",
       "    </tr>\n",
       "    <tr>\n",
       "      <th>499</th>\n",
       "      <td>0.054955</td>\n",
       "      <td>-0.546056</td>\n",
       "      <td>159.574463</td>\n",
       "    </tr>\n",
       "  </tbody>\n",
       "</table>\n",
       "<p>500 rows × 3 columns</p>\n",
       "</div>"
      ],
      "text/plain": [
       "          0_x       0_y          HR\n",
       "row                                \n",
       "0   -0.019984 -0.555008         NaN\n",
       "1   -0.019984 -0.555008         NaN\n",
       "2   -0.014988 -0.553516         NaN\n",
       "3   -0.004996 -0.553516         NaN\n",
       "4   -0.004996 -0.553516         NaN\n",
       "..        ...       ...         ...\n",
       "495  0.047461 -0.546056  159.574463\n",
       "496  0.053706 -0.541580  159.574463\n",
       "497  0.054955 -0.546056  159.574463\n",
       "498  0.054955 -0.546056  159.574463\n",
       "499  0.054955 -0.546056  159.574463\n",
       "\n",
       "[500 rows x 3 columns]"
      ]
     },
     "execution_count": 102,
     "metadata": {},
     "output_type": "execute_result"
    }
   ],
   "source": [
    "mapped_df_with_hr = pd.merge(mapped_df, df_hr, on='row')\n",
    "mapped_df_with_hr"
   ]
  },
  {
   "cell_type": "markdown",
   "id": "00dc0d54",
   "metadata": {},
   "source": [
    "## Note:\n",
    "\n",
    "Dataframe: mapped_df_with_hr>>> First 500 rows only for infant 1. Can adjust rows numbers but my laptop throws insufficient memory error.\n",
    "\n",
    "\n",
    "Columns for prediction:\n",
    "\n",
    "* 0_x=ecg\n",
    "* 0_y=resp\n",
    "* HR=obtained heart rate from the peaks_hr function from official docs & Hon Yoong Choy's code\n",
    "\n",
    "Can build model from this set first\n",
    "I will try to include all infant data asap, later will also clean up the notes & codes."
   ]
  },
  {
   "cell_type": "markdown",
   "id": "0b123ce7",
   "metadata": {},
   "source": [
    "# 7) Split Dataset (Train, Valid, Test)"
   ]
  },
  {
   "cell_type": "markdown",
   "id": "df887f88",
   "metadata": {},
   "source": []
  }
 ],
 "metadata": {
  "kernelspec": {
   "display_name": "Python 3 (ipykernel)",
   "language": "python",
   "name": "python3"
  },
  "language_info": {
   "codemirror_mode": {
    "name": "ipython",
    "version": 3
   },
   "file_extension": ".py",
   "mimetype": "text/x-python",
   "name": "python",
   "nbconvert_exporter": "python",
   "pygments_lexer": "ipython3",
   "version": "3.9.13"
  }
 },
 "nbformat": 4,
 "nbformat_minor": 5
}
