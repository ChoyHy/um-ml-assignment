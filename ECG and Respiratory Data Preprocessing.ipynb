{
 "cells": [
  {
   "cell_type": "markdown",
   "metadata": {},
   "source": [
    "# Prerequisite"
   ]
  },
  {
   "attachments": {},
   "cell_type": "markdown",
   "metadata": {},
   "source": [
    "## Install for Google Colab"
   ]
  },
  {
   "attachments": {},
   "cell_type": "markdown",
   "metadata": {},
   "source": [
    "## install wfdb library\n",
    "!pip install wfdb"
   ]
  },
  {
   "attachments": {},
   "cell_type": "markdown",
   "metadata": {},
   "source": [
    "## Import"
   ]
  },
  {
   "cell_type": "code",
   "execution_count": 20,
   "metadata": {},
   "outputs": [],
   "source": [
    "import pandas as pd\n",
    "import numpy as np\n",
    "\n",
    "# Read file\n",
    "import os\n",
    "\n",
    "# Read ECG and Respiratory File\n",
    "import wfdb\n"
   ]
  },
  {
   "cell_type": "markdown",
   "metadata": {},
   "source": [
    "## Constant"
   ]
  },
  {
   "cell_type": "code",
   "execution_count": 23,
   "metadata": {},
   "outputs": [],
   "source": [
    "data_folder_path = \"./data/\""
   ]
  },
  {
   "attachments": {},
   "cell_type": "markdown",
   "metadata": {},
   "source": [
    "# Data Preparation"
   ]
  },
  {
   "cell_type": "markdown",
   "metadata": {},
   "source": [
    "## Download Data"
   ]
  },
  {
   "cell_type": "code",
   "execution_count": 53,
   "metadata": {},
   "outputs": [],
   "source": [
    "# wfdb.dl_database(db_dir='picsdb', dl_dir=data_folder_path, records='all', annotators='all', keep_subdirs=False, overwrite=False)"
   ]
  },
  {
   "attachments": {},
   "cell_type": "markdown",
   "metadata": {},
   "source": [
    "## Read File"
   ]
  },
  {
   "cell_type": "code",
   "execution_count": 54,
   "metadata": {},
   "outputs": [],
   "source": [
    "infant_id = 1\n",
    "ecg_path = os.path.join(data_folder_path, f\"infant{infant_id}_ecg\")\n",
    "resp_path = os.path.join(data_folder_path, f\"infant{infant_id}_resp\")\n",
    "\n",
    "ecg_data = wfdb.rdrecord(ecg_path)\n",
    "resp_data = wfdb.rdrecord(resp_path)"
   ]
  },
  {
   "cell_type": "markdown",
   "metadata": {},
   "source": [
    "### Analyse File"
   ]
  },
  {
   "cell_type": "code",
   "execution_count": 55,
   "metadata": {},
   "outputs": [
    {
     "data": {
      "image/png": "[encoded data removed]",
      "text/plain": [
       "<Figure size 640x480 with 1 Axes>"
      ]
     },
     "metadata": {},
     "output_type": "display_data"
    }
   ],
   "source": [
    "wfdb.plot_wfdb(record=ecg_data)"
   ]
  },
  {
   "cell_type": "code",
   "execution_count": 26,
   "metadata": {},
   "outputs": [],
   "source": [
    "signals, fields = wfdb.rdsamp(ecg_path)"
   ]
  },
  {
   "cell_type": "code",
   "execution_count": 30,
   "metadata": {},
   "outputs": [
    {
     "data": {
      "text/plain": [
       "array([[-0.01998352],\n",
       "       [-0.01998352],\n",
       "       [-0.01498764],\n",
       "       ...,\n",
       "       [-0.31474046],\n",
       "       [-0.07868511],\n",
       "       [ 0.33597295]])"
      ]
     },
     "execution_count": 30,
     "metadata": {},
     "output_type": "execute_result"
    }
   ],
   "source": [
    "signals"
   ]
  },
  {
   "cell_type": "code",
   "execution_count": 28,
   "metadata": {},
   "outputs": [
    {
     "data": {
      "text/plain": [
       "{'fs': 250,\n",
       " 'sig_len': 41052191,\n",
       " 'n_sig': 1,\n",
       " 'base_date': None,\n",
       " 'base_time': None,\n",
       " 'units': ['mV'],\n",
       " 'sig_name': ['ECG'],\n",
       " 'comments': []}"
      ]
     },
     "execution_count": 28,
     "metadata": {},
     "output_type": "execute_result"
    }
   ],
   "source": [
    "fields"
   ]
  },
  {
   "cell_type": "code",
   "execution_count": 50,
   "metadata": {},
   "outputs": [
    {
     "data": {
      "text/plain": [
       "{'record_name': 'infant1_ecg',\n",
       " 'n_sig': 1,\n",
       " 'fs': 250,\n",
       " 'counter_freq': None,\n",
       " 'base_counter': None,\n",
       " 'sig_len': 41052191,\n",
       " 'base_time': None,\n",
       " 'base_date': None,\n",
       " 'comments': [],\n",
       " 'sig_name': ['ECG'],\n",
       " 'p_signal': None,\n",
       " 'd_signal': None,\n",
       " 'e_p_signal': None,\n",
       " 'e_d_signal': None,\n",
       " 'file_name': ['infant1_ecg.dat'],\n",
       " 'fmt': ['16'],\n",
       " 'samps_per_frame': [1],\n",
       " 'skew': [None],\n",
       " 'byte_offset': [None],\n",
       " 'adc_gain': [800.6597],\n",
       " 'baseline': [28],\n",
       " 'units': ['mV'],\n",
       " 'adc_res': [0],\n",
       " 'adc_zero': [0],\n",
       " 'init_value': [12],\n",
       " 'checksum': [-25872],\n",
       " 'block_size': [0]}"
      ]
     },
     "execution_count": 50,
     "metadata": {},
     "output_type": "execute_result"
    }
   ],
   "source": [
    "# Extra informations\n",
    "record = wfdb.rdheader(ecg_path)\n",
    "record.__dict__"
   ]
  }
 ],
 "metadata": {
  "kernelspec": {
   "display_name": "um-ml-1",
   "language": "python",
   "name": "python3"
  },
  "language_info": {
   "codemirror_mode": {
    "name": "ipython",
    "version": 3
   },
   "file_extension": ".py",
   "mimetype": "text/x-python",
   "name": "python",
   "nbconvert_exporter": "python",
   "pygments_lexer": "ipython3",
   "version": "3.9.13"
  },
  "orig_nbformat": 4,
  "vscode": {
   "interpreter": {
    "hash": "523145610c1401aff01bdab5783210ba39c3b789925f10b2ee7ccad42e146ad2"
   }
  }
 },
 "nbformat": 4,
 "nbformat_minor": 2
}
